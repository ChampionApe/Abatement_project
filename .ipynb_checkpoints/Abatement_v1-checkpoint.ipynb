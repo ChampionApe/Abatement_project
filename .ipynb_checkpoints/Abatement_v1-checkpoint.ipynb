{
 "cells": [
  {
   "cell_type": "code",
   "execution_count": 1,
   "metadata": {},
   "outputs": [],
   "source": [
    "import numpy as np\n",
    "import math\n",
    "from scipy import stats\n",
    "import matplotlib as mpl\n",
    "import matplotlib.pyplot as plt\n",
    "import ipywidgets as widgets\n",
    "from ipywidgets import interact, interact_manual\n",
    "%matplotlib inline\n",
    "plt.style.use('seaborn-whitegrid')\n",
    "mpl.style.use('seaborn')\n",
    "prop_cycle = plt.rcParams[\"axes.prop_cycle\"]\n",
    "colors = prop_cycle.by_key()[\"color\"]\n",
    "import Abatement_functions as func"
   ]
  },
  {
   "cell_type": "markdown",
   "metadata": {},
   "source": [
    "# Abatement Project: Adding end-of-pipe technologies to a CGE"
   ]
  },
  {
   "cell_type": "markdown",
   "metadata": {},
   "source": [
    "Consider the simple setup:\n",
    "* A sector uses inputs $(x,y)$ in production of a commodity/service $H$. \n",
    "* In using the input $x$ there is an associated emission of something 'bad'. Let $e^0$ denote emissions prior to abatement and $e$ actual emissions.\n",
    "* There is a pre-abatement known emission coefficient in the use of $x$. Denote this $\\eta$. Thus we have the simple relation:\n",
    "    $$\\begin{align}\n",
    "    e^0 = \\eta x^0,\n",
    "    \\end{align}$$\n",
    "    where $x^0$ is the use of the input $x$, in absence of any regulation on emissions.\n",
    "* Emissions are taxed at a rate $\\tau$.\n",
    "\n",
    "In general we think of three abatement channels:\n",
    "\n",
    "* **Output reduction**: Given input-mix and abatement technology, a lower output lowers the use of the dirty input $x$ and thus emissions.\n",
    "* **Input substitution**: Given the output level and abatement technology, input can be mixed with lower use of $x$ (consequently more use of $y$ here), emissions can be lowered.\n",
    "* **Abatement technology**: Given the output level and input-mix, targeted abatement equipment can lower emissions directly at some cost. \n",
    "\n",
    "We can further think of **abatement technology** in two different ways:\n",
    "\n",
    "* **End-of-pipe abatement:** Lowers emissions without altering the optimal input-mix (think of a filter on an engine that burns fossil fuels).\n",
    "* **Input-displacing abatement technology:** A discrete change in technology that alters the production function altogether (i.e. altering a production process).\n",
    "\n",
    "In the following we will refer to *abatement technology* as an *end-of-pipe* type of technology, as the *input-displacing* type would involve a discrete choice between different production functions, which presents more of a challenge."
   ]
  },
  {
   "cell_type": "markdown",
   "metadata": {},
   "source": [
    "## 1: Abatement as discrete set of end-of-pipe technologies"
   ]
  },
  {
   "cell_type": "markdown",
   "metadata": {},
   "source": [
    "### 1.1: Representing technology data"
   ]
  },
  {
   "cell_type": "markdown",
   "metadata": {},
   "source": [
    "We assume that a technology dataset gives $T$ ways of abating emissions. Each technology $t$ is summed up by the information:\n",
    "* $q_t \\in [0,1]$ is the share of emissions that are abated, if the equipment is installed.\n",
    "* $c_t\\in R_+$ is unit cost of abating emissions. \n",
    "\n",
    "This gives rise to the optimal abatement $(A)$ as a function of the tax rate $(\\tau)$, as well as the total abatement costs $(C)$:\n",
    "\n",
    "$$\\begin{align}\n",
    "    A(\\tau) &= \\eta x \\sum_{t=1}^{T} q_t * \\mathbf{1}_{c_t<\\tau}, && \\mathbf{1}_{c_t<\\tau} = \\left\\lbrace \\begin{array}{ll} 0, & c_t\\geq \\tau \\\\ 1, & c_t<\\tau \\end{array} \\right.  \\tag{D1}\\\\ \n",
    "    C(\\tau) &= \\eta x \\sum_{t=1}^{T} q_t c_t * \\mathbf{1}_{c_t<\\tau} \\tag{D2}\n",
    "\\end{align}$$"
   ]
  },
  {
   "cell_type": "markdown",
   "metadata": {},
   "source": [
    "**Draw and plot a data set for technologies:**"
   ]
  },
  {
   "cell_type": "code",
   "execution_count": 2,
   "metadata": {},
   "outputs": [],
   "source": [
    "T = 10; # Number of technologies\n",
    "abate_upper = 0.9 # Upper limit of total abatement (in percentages)\n",
    "c_upper = 1 # Most expensive abatement technology\n",
    "seed=21 # Set seed so the random draw does not change every time we run this cell.\n",
    "labels = ['Tax on emissions', 'Abatement'] # Names on axes in plot below.\n",
    "sample_c, sample_q_sum, sample_q = func.draw_sample(T,abate_upper,c_upper,seed) # draw samples of unit costs and abatement potential."
   ]
  },
  {
   "cell_type": "code",
   "execution_count": 3,
   "metadata": {},
   "outputs": [
    {
     "data": {
      "image/png": "[encoded data removed]",
      "text/plain": [
       "<Figure size 600x400 with 1 Axes>"
      ]
     },
     "metadata": {
      "needs_background": "light"
     },
     "output_type": "display_data"
    }
   ],
   "source": [
    "func.plot_stepcurve(sample_c,sample_q_sum,labels) # Plot abatement function."
   ]
  },
  {
   "cell_type": "markdown",
   "metadata": {},
   "source": [
    "### 1.2: Smoothing out the step-function"
   ]
  },
  {
   "cell_type": "markdown",
   "metadata": {},
   "source": [
    "In an older version we told a story about how this step function looks like, if instead of constant unit costs of abatement $c_t$, there were a continuum of heterogeneous firms applying the abatement technologies. Either through difference in abilities or compatibility with the technology, we can think of the heterogeneity resulting in varying unit costs $c_t^i$ for each $i$ firm in the continuum. Alternatively we can think of it as a *smoothing device*, facilitating the use of gradient-based solvers.\n",
    "\n",
    "The idea is to replace the abatement and cost functions with a smoothed stepwise curve of the form:\n",
    "\n",
    "$$\\begin{align}\n",
    "    A_t(\\tau) &= \\eta x q_t \\int_{\\underline{s}}^{\\tau} dF(c_t^i), \\tag{S1} \\\\ \n",
    "              &= \\eta x q_t F_t(\\tau) \\\\\n",
    "    C_t(\\tau) &= \\eta x q_t \\int_{\\underline{s}}^{\\tau} c_t^i dF(c_t^i), \\tag{S2} \\\\ \n",
    "              &= \\eta x q_t F_t(\\tau) \\mathbb{E}\\left[c_t^i|c_t^i<\\tau\\right]. \n",
    "\\end{align}$$\n",
    "\n",
    "where $F(\\cdot)$ represents some continuously differentiable distribution with support on $[\\underline{s},\\bar{s}]$ (bounded support is not a necessary condition). Relevant functions that approximate the step-shape well are the *normal* and *log-normal* distributions."
   ]
  },
  {
   "cell_type": "markdown",
   "metadata": {},
   "source": [
    "In the following we use the log-normal distribution in which case the functions are given by:\n",
    "\n",
    "$$\\begin{align}\n",
    "    ln(c_t^i) &\\sim N\\left(ln(c_t)-\\dfrac{\\sigma^2}{2},\\mbox{ }\\sigma^2\\right) \\tag{S3} \\\\ \n",
    "    A_t(\\tau) &= \\eta x q_t \\underbrace{\\Phi\\left(\\dfrac{ln(\\tau)-ln(c_t)+\\sigma^2/2}{\\sigma}\\right)}_{F_t^q(\\tau)} \\tag{S4} \\\\ \n",
    "    C_t(\\tau) &= \\eta x q_t c_t \\underbrace{\\Phi\\left(\\dfrac{ln(\\tau)-ln(c_t)-\\sigma^2/2}{\\sigma}\\right)}_{F_t^c(\\tau)} \\tag{S5}\n",
    "\\end{align}$$\n",
    "\n",
    "(Alternatively we could use the normal distribution. This has some nice properties when it comes to the $A_t(\\tau)$ function, but is a more complicated function for $C_t(\\tau)$. There are several other readily available smoothing functions out there though.)"
   ]
  },
  {
   "cell_type": "markdown",
   "metadata": {},
   "source": [
    "**Plot the smoothed function varying $\\sigma$**"
   ]
  },
  {
   "cell_type": "code",
   "execution_count": 4,
   "metadata": {},
   "outputs": [],
   "source": [
    "n_tau_grid = 500\n",
    "n_sigma_grid = 100;\n",
    "sigma_grid = np.linspace(0.0001,0.25,n_sigma_grid)\n",
    "tau_grid = np.linspace(0.01,c_upper*1.1,n_tau_grid)\n",
    "A_share, C_share = func.smooth_sample(sample_c,tau_grid,sigma_grid)"
   ]
  },
  {
   "cell_type": "code",
   "execution_count": 5,
   "metadata": {},
   "outputs": [
    {
     "data": {
      "application/vnd.jupyter.widget-view+json": {
       "model_id": "e7f55587858249258bb5a9d84dab8a46",
       "version_major": 2,
       "version_minor": 0
      },
      "text/plain": [
       "interactive(children=(FloatSlider(value=0.1263121212121212, description='$\\\\sigma$', max=0.25, min=0.0001, ste…"
      ]
     },
     "metadata": {},
     "output_type": "display_data"
    }
   ],
   "source": [
    "A = np.sum((A_share * sample_q[:,None,None]), axis=0) \n",
    "func.interactive_sigma(A,tau_grid,sigma_grid,int((n_sigma_grid/2)),'Abatement')"
   ]
  },
  {
   "cell_type": "markdown",
   "metadata": {},
   "source": [
    "Note that with a log-normal distribution, the $\\sigma$ values should not be constant across technologies, as there is a clear skewness in the smoothing (more smooth for larger $\\tau$)."
   ]
  },
  {
   "cell_type": "markdown",
   "metadata": {},
   "source": [
    "## 2: Application in the world's simplest CGE model"
   ]
  },
  {
   "cell_type": "markdown",
   "metadata": {},
   "source": [
    "### 2.1: The Setup: \n",
    "\n",
    "In a shocking twist of events we learn that the production function of the polluting firm is of the CES type. With abatement technology and cost functions as discussed above, the profit maximization problem that the firm is facing is given by:\n",
    "\n",
    "$$\\begin{align}\n",
    "    \\max_{x,y,H}\\mbox{ }\\Pi = pH - \\tau e -C-p_xx-p_yy, \\tag{CES-1}\n",
    "\\end{align}$$\n",
    "\n",
    "subject to the constraints:\n",
    "\n",
    "$$\\begin{align}\n",
    " H =& \\left(\\mu_x^{1/\\theta}x^{\\frac{\\theta-1}{\\theta}}+\\mu_y^{1/\\theta}y^{\\frac{\\theta-1}{\\theta}}\\right)^{\\frac{\\theta}{\\theta-1}} \\tag{CES-2} \\\\ \n",
    " e =& \\eta x \\left(1-\\sum_{t=1}^T q_tF_t^q(\\tau) \\right) \\tag{CES-3} \\\\ \n",
    " C =& \\eta x \\sum_{t=1}^T q_tc_tF_t^c(\\tau) \\tag{CES-4}\n",
    "\\end{align}$$"
   ]
  },
  {
   "cell_type": "markdown",
   "metadata": {},
   "source": [
    "The resulting first order conditions for optimality are then given by:\n",
    "\n",
    "$$\\begin{align}\n",
    "    x &= \\mu_x H \\left(\\dfrac{p}{\\hat{p}_x}\\right)^{\\theta} \\tag{CES-5} \\\\ \n",
    "    y &= \\mu_y H \\left(\\dfrac{p}{p_y}\\right)^{\\theta} \\tag{CES_6} \\\\\n",
    "    \\hat{p}_x &= p_x+\\eta\\left(\\tau-\\sum_{t=1}^Tq_t\\Big[\\tau F_t^q(\\tau)-c_tF_t^c(\\tau)\\Big]\\right) \\tag{CES-7}\n",
    "\\end{align} $$\n",
    "\n",
    "along with (CES-2)-(CES-4)."
   ]
  },
  {
   "cell_type": "markdown",
   "metadata": {},
   "source": [
    "### 2.2: Emission taxes increases adjusted relative price of applying dirty input"
   ]
  },
  {
   "cell_type": "markdown",
   "metadata": {},
   "source": [
    "The additional effects on the relevant price on the use of the dirty input $x$ is now:\n",
    "1. Emission tax on marginal pollution of size $\\eta \\tau$.\n",
    "2. A gain (relative to paying the full tax on all emissions), from applying profitable abatement equipment:\n",
    "\n",
    "$$\\begin{align}\n",
    "    \\text{Abatement gain } = \\eta \\sum_{t=1}^Tq_t\\Big[\\tau F_t^q(\\tau)-c_t F_t^c(\\tau)\\Big]\\geq 0.\n",
    "\\end{align}$$ \n",
    "The inequality comes from the fact that\n",
    "\n",
    "$$\\begin{align}\n",
    "    c_tF_t^c(\\tau) = \\mathbb{E}\\left[c_t|c_t<\\tau\\right] F_t^q(\\tau), \n",
    "\\end{align}$$\n",
    "\n",
    "which per construction is lower than $\\tau F_t^q(\\tau)$. However, it is also straightforward to see that the higher the tax $\\tau$, the higher is the 'adjusted' price on the dirty input:\n",
    "\n",
    "$$\\begin{align}\n",
    "    \\hat{p}_x \\geq p_x, && \\text{as } && \\tau \\geq \\sum_{t=1}^T q_t\\Big[\\tau F_t^q(\\tau)-c_tF_t^c(\\tau)\\Big].\n",
    "\\end{align}$$\n",
    "\n",
    "This follows from the fact that:\n",
    "\n",
    "$$\\begin{align}\n",
    "    \\sum_t^T q_t \\leq& 1\n",
    "\\end{align}$$\n",
    "\n",
    "and \n",
    "\n",
    "$$\\begin{align}\n",
    "   0\\leq  \\tau F_t^q(\\tau)-c_tF_t^c(\\tau) = F_t^q(\\tau)\\left(\\tau-\\mathbb{E}\\left[c_t|c_t<\\tau\\right]\\right) \\leq \\tau.\n",
    "\\end{align}$$\n",
    "\n"
   ]
  },
  {
   "cell_type": "markdown",
   "metadata": {},
   "source": [
    "### 2.3: The abatement gain is fully crowded out by adjusted output prices, i.e. there are still zero profits with perfect competition"
   ]
  },
  {
   "cell_type": "markdown",
   "metadata": {},
   "source": [
    "Evaluating the profit function in (CES-1), substituting initially for (CES-5) and (CES-6) yields:\n",
    "\n",
    "$$\\begin{align}\n",
    "    \\Pi^*   &= pH-\\tau e-C-\\mu_x H p^{\\theta} \\dfrac{p_x}{(\\hat{p}_x)^{\\theta}}-\\mu_y H p^{\\theta}p_y^{1-\\theta} \\\\ \n",
    "            &= H\\left[p-p^{\\theta}\\left(\\mu_x \\dfrac{p_x}{\\left(\\hat{p}_x\\right)^{\\theta}}+\\mu_yp_y^{1-\\theta}\\right)\\right]-\\tau e- C\n",
    "\\end{align}$$ "
   ]
  },
  {
   "cell_type": "markdown",
   "metadata": {},
   "source": [
    "Focus on the last part concerning emissions. Substitute for (CES-3)-(CES-4) (abatement functions) to get:\n",
    "\n",
    "$$\\begin{align}\n",
    "    \\tau e + C &= \\tau \\eta x \\left(1-\\sum_{t=1}^T q_tF_t^q (\\tau)\\right)+\\eta x \\sum_{t=1}^T q_tc_tF_t^c(\\tau). \\\\ \n",
    "                &= \\eta x \\left(\\tau - \\sum_{t=1}^T q_t \\left[\\tau F_t^q(\\tau)-c_tF_t^c(\\tau)\\right]\\right)\n",
    "\\end{align}$$"
   ]
  },
  {
   "cell_type": "markdown",
   "metadata": {},
   "source": [
    "Using (CES-7) we can rewrite this as:\n",
    "\n",
    "$$\\begin{align}\n",
    "    \\tau e + C = x \\left(\\hat{p}_x-p_x\\right).\n",
    "\\end{align}$$\n",
    "\n",
    "Plugging this back into the expression for $\\Pi^*$ we then have:\n",
    "\n",
    "$$\\begin{align}\n",
    "    \\Pi^* = H\\left[p-p^{\\theta}\\left(\\mu_x\\dfrac{p_x}{(\\hat{p}_x)^{\\theta}}+\\mu_yp_y^{1-\\theta}\\right)\\right]-x\\left(\\hat{p}_x-p_x\\right).\n",
    "\\end{align}$$"
   ]
  },
  {
   "cell_type": "markdown",
   "metadata": {},
   "source": [
    "Finally substituting for $x$ using (CES-5) this yields the maximized profit function:\n",
    "\n",
    "$$\\begin{align}\n",
    "    \\Pi^* &= H\\left[p-p^{\\theta}\\left(\\mu_x\\dfrac{p_x}{(\\hat{p}_x)^{\\theta}}+\\mu_yp_y^{1-\\theta}\\right)\\right]-\\mu_x H \\left(\\dfrac{p}{\\hat{p}_x}\\right)^{\\theta}\\left(\\hat{p}_x-p_x\\right) \\\\ \n",
    "    & = H\\left[p-p^{\\theta}\\left(\\mu_x\\left(\\hat{p}_x\\right)^{1-\\theta}+\\mu_y\\left(p_y\\right)^{1-\\theta}\\right)\\right]\n",
    "\\end{align}$$\n",
    "\n"
   ]
  },
  {
   "cell_type": "markdown",
   "metadata": {},
   "source": [
    "With the *usual* CES price index of (Combine production function with the (CES-5)-(CES-6) to show)\n",
    "\n",
    "$$\\begin{align}\n",
    "    p = \\left(\\mu_x\\left(\\hat{p}_x\\right)^{1-\\theta}+\\mu_y\\left(p_y\\right)^{1-\\theta}\\right)^{\\frac{1}{1-\\theta}},\n",
    "\\end{align}$$\n",
    "\n",
    "this yields exactly zero profits $\\Pi^* = 0$."
   ]
  },
  {
   "cell_type": "markdown",
   "metadata": {},
   "source": [
    "## 3: Further analysis and plots "
   ]
  },
  {
   "cell_type": "markdown",
   "metadata": {},
   "source": [
    "Here we investigate and plot a number of the functions derived above:\n",
    "\n",
    "* The *abatement gain* function, \n",
    "* The *adjusted relative price on dirty good*, \n",
    "* Total emissions and abatement, (more interesting things?)\n",
    "\n",
    "all as a function of the tax rate $\\tau$, and with interactive features for parameters $(\\mu_x,\\theta,\\sigma)$."
   ]
  },
  {
   "cell_type": "markdown",
   "metadata": {},
   "source": [
    "### 3.1: Abatement gain function\n",
    "\n",
    "Start with settings:"
   ]
  },
  {
   "cell_type": "code",
   "execution_count": 6,
   "metadata": {},
   "outputs": [],
   "source": [
    "# Fixed values: \n",
    "eta,px,py,muy = 2,5,4,1\n",
    "# Grids:\n",
    "n_tau_grid,n_sigma_grid,n_mux_grid,n_theta_grid = 100,10,6,6\n",
    "tau_grid = np.linspace(0.01,c_upper*1.1,n_tau_grid)\n",
    "sigma_grid = np.linspace(0.0001,0.25,n_sigma_grid)\n",
    "mux_grid = np.linspace(0.5, 2.5,n_mux_grid)\n",
    "theta_grid = np.linspace(0.25, 1.25, n_theta_grid)"
   ]
  },
  {
   "cell_type": "markdown",
   "metadata": {},
   "source": [
    "Used already drawn abatement technology data set. Recall only $(\\sigma)$ parameter enters the function. Note that the abatement gain function per construction is lower than $\\tau$."
   ]
  },
  {
   "cell_type": "code",
   "execution_count": 7,
   "metadata": {},
   "outputs": [
    {
     "data": {
      "application/vnd.jupyter.widget-view+json": {
       "model_id": "ec0c0ee598ad46299526cc6b319d41d1",
       "version_major": 2,
       "version_minor": 0
      },
      "text/plain": [
       "interactive(children=(FloatSlider(value=0.13893333333333333, description='$\\\\sigma$', max=0.25, min=0.0001, st…"
      ]
     },
     "metadata": {},
     "output_type": "display_data"
    }
   ],
   "source": [
    "A_share, C_share = func.smooth_sample(sample_c,tau_grid,sigma_grid) # 3-dimensions: Technology (T), tau grid, sigma grid.\n",
    "A = np.sum(( A_share * sample_q[:,None,None] * tau_grid[None,:,None]), axis=0)\n",
    "C = np.sum(( C_share * sample_q[:,None,None] * sample_c[:,None,None]), axis=0)\n",
    "Abatement_gain = eta*(A-C)\n",
    "func.interactive_sigma(Abatement_gain,tau_grid,sigma_grid,int((n_sigma_grid/2)),'Abatement gain')"
   ]
  },
  {
   "cell_type": "markdown",
   "metadata": {},
   "source": [
    "### 3.2: The Relative price on the 'dirty' input factor "
   ]
  },
  {
   "cell_type": "markdown",
   "metadata": {},
   "source": [
    "Recall that the price was given by: \n",
    "\n",
    "$$\\begin{align}\n",
    "\\hat{p}_x &= p_x+\\eta\\left(\\tau-\\sum_{t=1}^Tq_t\\Big[\\tau F_t^q(\\tau)-c_tF_t^c(\\tau)\\Big]\\right) = p_x + \\eta \\tau - \\text{Abatement gain}\n",
    "\\end{align}$$\n"
   ]
  },
  {
   "cell_type": "code",
   "execution_count": 8,
   "metadata": {},
   "outputs": [
    {
     "data": {
      "application/vnd.jupyter.widget-view+json": {
       "model_id": "c657fec4a1fb4b5a8a7e9eb2aae270aa",
       "version_major": 2,
       "version_minor": 0
      },
      "text/plain": [
       "interactive(children=(FloatSlider(value=0.13893333333333333, description='$\\\\sigma$', max=0.25, min=0.0001, st…"
      ]
     },
     "metadata": {},
     "output_type": "display_data"
    }
   ],
   "source": [
    "px_hat = px + eta * tau_grid[:,None]-Abatement_gain\n",
    "func.interactive_sigma(px_hat,tau_grid,sigma_grid,int((n_sigma_grid/2)),'$\\hat{p}_x$')"
   ]
  },
  {
   "cell_type": "markdown",
   "metadata": {},
   "source": [
    "### 3.3: Emissions and abatement"
   ]
  }
 ],
 "metadata": {
  "kernelspec": {
   "display_name": "Python 3",
   "language": "python",
   "name": "python3"
  },
  "language_info": {
   "codemirror_mode": {
    "name": "ipython",
    "version": 3
   },
   "file_extension": ".py",
   "mimetype": "text/x-python",
   "name": "python",
   "nbconvert_exporter": "python",
   "pygments_lexer": "ipython3",
   "version": "3.7.3"
  }
 },
 "nbformat": 4,
 "nbformat_minor": 4
}

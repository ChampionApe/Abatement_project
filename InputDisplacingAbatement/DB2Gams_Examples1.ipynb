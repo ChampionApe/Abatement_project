{
 "cells": [
  {
   "cell_type": "markdown",
   "metadata": {},
   "source": [
    "# Examples of DB2Gams features"
   ]
  },
  {
   "cell_type": "code",
   "execution_count": 1,
   "metadata": {},
   "outputs": [],
   "source": [
    "import os\n",
    "import sys\n",
    "import DB2Gams"
   ]
  },
  {
   "cell_type": "markdown",
   "metadata": {},
   "source": [
    "We have two gams model specified: \n",
    "* A final goods sector in \".../gms/FG\" contains (it is no requirement that files are collected in same folder):\n",
    "    * .gms files with model components,\n",
    "    * .gdx files with data,\n",
    "    * a .pkl file with *gams_settings*, a Python class that includes information on how to run the model.\n",
    "* An energy-service-producing sector: Similar components"
   ]
  },
  {
   "cell_type": "markdown",
   "metadata": {},
   "source": [
    "## **1: Simple interaction with Gams**"
   ]
  },
  {
   "cell_type": "markdown",
   "metadata": {},
   "source": [
    "### **1.1: gams_settings**"
   ]
  },
  {
   "cell_type": "markdown",
   "metadata": {},
   "source": [
    "The option \"pickle_path\" specifies the path for the '.pkl' file that contains settings for the gams run."
   ]
  },
  {
   "cell_type": "code",
   "execution_count": 2,
   "metadata": {},
   "outputs": [],
   "source": [
    "work_folder = os.getcwd()+'\\\\workfolder'\n",
    "FG_repo = os.getcwd()+'\\\\gms\\\\FG'\n",
    "FG_file = FG_repo+'\\\\FG.pkl'\n",
    "FG_settings = DB2Gams.gams_settings(pickle_path=FG_file)"
   ]
  },
  {
   "cell_type": "markdown",
   "metadata": {},
   "source": [
    "The settings file contains a lot of attributes. The following explains them all in some detail. Below, three 'standard' ways of running models are provided for clarity."
   ]
  },
  {
   "cell_type": "markdown",
   "metadata": {},
   "source": [
    "The full list of attributes (*including an asterisk ($*$) means that this is required/very important to specify*):\n",
    "* *name*$^*$ (*NB: Not necessary, strongly recommended*)\n",
    "\n",
    "    Name of model,\n",
    "* *placeholders*$^*$ (placeholders that points to the right databases used in code + is required)\n",
    "\n",
    "    A dictionary with potential %placeholder% statements that is passed to the gams code. For instance: Say that the gams code includes a \"GDXIN %gdx_file%\" statement, where the relevant gdx_file depends on which database is included in that particular instance of the model. Including {'gdx_file': name_of_file} in the placeholder adds name_of_file as that database.\n",
    "\n",
    "* *files*$^*$: \n",
    "\n",
    "    A dictionary with filenames as keys, and repositories as values. All the relevant .gms components that is needed for the model to run. *Note: If the attribute 'collect_files' is not supplied, gams will run all files in this dictionary, in the order they appear here. Thus the sorting of this element can matter.*\n",
    "\n",
    "* *blocks*$^*$ (*NB: Required if run_file is not provided*): \n",
    "\n",
    "    List of names of gamY-blocks that makes up the relevant model. \n",
    "    \n",
    "* *g_endo*$^*$ (*NB: Required if run_file is not provided*): \n",
    "\n",
    "    List of names of gamY-groups that are endogenous in the relevant model.\n",
    " \n",
    "* *g_exo*$^*$ (*NB: Required if run_file is not provided*): \n",
    "\n",
    "    List of names of gamY-groups that are exogenous in the relevant model.\n"
   ]
  },
  {
   "cell_type": "markdown",
   "metadata": {},
   "source": [
    "* *collect_file*: (*NB: Recommended to leave at default value None, at least when running integrated models*)\n",
    "    * If None: A standard file is written.\n",
    "    * If not None: gams executes this file alone, all other components are ignored. \n",
    "\n",
    "\n",
    "* *collect_files*: (*NB: Supplying a list of files here is recommended, at least when running integrated models*)\n",
    "\n",
    "    * If None: All files in the attribute *files* is written to a file that is executed by gams.\n",
    "    * If not None: A list with file-names should be specified. If 'file.gms' includes \\\\$IMPORT statements for the rest of the relevant components, we should specify collect_files = ['file.gms'].\n",
    "\n",
    "\n",
    "* *run_file*: A file that includes the following parts \\[\\\\$fix, \\\\$unfix, \\\\$model, solve\\]. (*NB: Recommended to leave at default value None, at least when running integrated models*)\n",
    "\n",
    "    * If run_file = None, a standard run_file is written when executing the model .\n",
    "    * if type(run_file)=str, this should point to the name of a .gms file that includes the relevant components outlined above.  \n",
    "\n",
    "\n",
    "* *solve*: \n",
    "    * If solve is None: A standard solve statement is written when executing.\n",
    "    * If solve is not None: The string is written to the model as the final component before running the model. \n",
    "\n",
    "\n",
    "* *root_file*: \n",
    "\n",
    "    * If None: A couple of lines of default gams-code is added to 'collect_file' (if collect_file=None) before executing the code. This includes settings such as number of decimals etc..\n",
    "    * If not None: root_file is a python-string that is added to 'collect_file' (if collect_file=None) before executing the code."
   ]
  },
  {
   "cell_type": "markdown",
   "metadata": {},
   "source": [
    "### **1.2: Run Gams-code plain and simple**"
   ]
  },
  {
   "cell_type": "markdown",
   "metadata": {},
   "source": [
    "Run Gams with a minimum of Python settings provided, two immediate ways:"
   ]
  },
  {
   "cell_type": "markdown",
   "metadata": {},
   "source": [
    "#### **V1: Run all files**\n",
    "Let *files* include all files to be executed, sorted in the right order. We then only need to provide:\n",
    "* *databases* (always required when running from Python).\n",
    "* *placeholders* (always required to couple databases to gams code).\n",
    "* *run_file*: If a run_file is included, point to the one of the 'files' where it is.\n",
    "* *root_file*: If this is included as one of the files, add empty string here."
   ]
  },
  {
   "cell_type": "markdown",
   "metadata": {},
   "source": [
    "Here we borrow from the settings in FG_settings, and adjust them a bit (FG_settings are of version V3, see later):"
   ]
  },
  {
   "cell_type": "code",
   "execution_count": 3,
   "metadata": {},
   "outputs": [],
   "source": [
    "files_V1 = {**{'FG_rootFile.gms': FG_repo},\n",
    "            **{key: value for key,value in FG_settings.files.items() if key!='FG_CollectFile.gms'},\n",
    "            **{'FG_RunFile.gms': FG_repo}}"
   ]
  },
  {
   "cell_type": "code",
   "execution_count": 4,
   "metadata": {},
   "outputs": [],
   "source": [
    "V1 = DB2Gams.gams_settings(placeholders = FG_settings.placeholders,\n",
    "                           databases = FG_settings.databases,\n",
    "                           files = files_V1,\n",
    "                           run_file = 'FG_RunFile.gms',\n",
    "                           root_file='')"
   ]
  },
  {
   "cell_type": "markdown",
   "metadata": {},
   "source": [
    "Run model with standard options (an opt-file can be added here, by adding opt_file=filename.opt):"
   ]
  },
  {
   "cell_type": "code",
   "execution_count": 5,
   "metadata": {},
   "outputs": [
    {
     "name": "stdout",
     "output_type": "stream",
     "text": [
      "WARNING: \\%FG\\% is not defined and was not replaced\n",
      "WARNING: \\%FG\\% is not defined and was not replaced\n",
      "WARNING: \\%FG\\% is not defined and was not replaced\n",
      "WARNING: \\%FG\\% is not defined and was not replaced\n",
      "WARNING: \\%FG\\% is not defined and was not replaced\n",
      "WARNING: \\%FG\\% is not defined and was not replaced\n",
      "WARNING: \\%FG\\% is not defined and was not replaced\n",
      "WARNING: \\%FG\\% is not defined and was not replaced\n"
     ]
    }
   ],
   "source": [
    "V1_model = DB2Gams.gams_model(work_folder) # initialize model\n",
    "V1_model.run(V1) # run with settings V1"
   ]
  },
  {
   "cell_type": "markdown",
   "metadata": {},
   "source": [
    "The job can be inspected at *self.job*, with the out database stored at *self.out_db* (As a DataBase.py_db). Options such as gams-checkpoints (also known as savepoints, I think), or what type of output to display is passed with a dictionary (see V3 for an example)."
   ]
  },
  {
   "cell_type": "code",
   "execution_count": 6,
   "metadata": {},
   "outputs": [],
   "source": [
    "# print(V1_model.job,V1_model.out_db)"
   ]
  },
  {
   "cell_type": "markdown",
   "metadata": {},
   "source": [
    "Thus we can inspect the solution for prices, quantities:"
   ]
  },
  {
   "cell_type": "code",
   "execution_count": 7,
   "metadata": {},
   "outputs": [],
   "source": [
    "# V1_model.out_db['p'],V1_model.out_db['q']"
   ]
  },
  {
   "cell_type": "markdown",
   "metadata": {},
   "source": [
    "#### **V2: Run from *collect_files***\n",
    "If a subset of the .gms files needs to be executed by gams, e.g. if one or more files includes \\\\$IMPORT statements for the rest of the files. We then need:\n",
    "* *databases* (always required when running from Python).\n",
    "* *placeholders* (always required to couple databases to gams code).\n",
    "* *files:* All files needed to run the model (they are copied to workfolder).\n",
    "* *collect_files:* subset of *files* (executed by gams).\n",
    "* *run_file*: If a run_file is included, point to the one of the 'files' where it is.\n",
    "* *root_file*: If this is included as one of the files, add empty string here (this time we drop use default version, for the fun of it)."
   ]
  },
  {
   "cell_type": "markdown",
   "metadata": {},
   "source": [
    "Here we borrow from the settings in FG_settings, and adjust them a bit (note that the order no longer matters, cf. V1):"
   ]
  },
  {
   "cell_type": "code",
   "execution_count": 8,
   "metadata": {},
   "outputs": [],
   "source": [
    "files_V2= { **{'FG_rootFile.gms': FG_repo}, **FG_settings.files, **{'FG_RunFile.gms': FG_repo}}"
   ]
  },
  {
   "cell_type": "code",
   "execution_count": 9,
   "metadata": {},
   "outputs": [],
   "source": [
    "V2 = DB2Gams.gams_settings(placeholders = FG_settings.placeholders,\n",
    "                           databases = FG_settings.databases,\n",
    "                           files = files_V2,\n",
    "                           collect_files= ['FG_CollectFile.gms'],\n",
    "                           run_file = 'FG_RunFile.gms')"
   ]
  },
  {
   "cell_type": "markdown",
   "metadata": {},
   "source": [
    "*NB: we do not actually need to create a new gams_model, only pass the new settings to the model. Doing so however (as default at least) overwrites the (self.job, self.out_db)-attributes from earlier runs.*"
   ]
  },
  {
   "cell_type": "markdown",
   "metadata": {},
   "source": [
    "Run model with standard options (an opt-file can be added here, by adding opt_file=filename.opt):"
   ]
  },
  {
   "cell_type": "code",
   "execution_count": 10,
   "metadata": {},
   "outputs": [
    {
     "name": "stdout",
     "output_type": "stream",
     "text": [
      "WARNING: \\%FG\\% is not defined and was not replaced\n",
      "WARNING: \\%FG\\% is not defined and was not replaced\n",
      "WARNING: \\%FG\\% is not defined and was not replaced\n",
      "WARNING: \\%FG\\% is not defined and was not replaced\n",
      "WARNING: \\%FG\\% is not defined and was not replaced\n",
      "WARNING: \\%FG\\% is not defined and was not replaced\n",
      "WARNING: \\%FG\\% is not defined and was not replaced\n",
      "WARNING: \\%FG\\% is not defined and was not replaced\n"
     ]
    }
   ],
   "source": [
    "V2_model = DB2Gams.gams_model(work_folder) # initialize model\n",
    "V2_model.run(V2) # run with settings V2"
   ]
  },
  {
   "cell_type": "markdown",
   "metadata": {},
   "source": [
    "### **1.3: Let Python write some for ya**"
   ]
  },
  {
   "cell_type": "markdown",
   "metadata": {},
   "source": [
    "Let Python write a runfile, a collectfile, and a rootfile for us."
   ]
  },
  {
   "cell_type": "markdown",
   "metadata": {},
   "source": [
    "#### **V3: Provide groups and blocks and let Python run the model**\n",
    "We can let Python handle a bit more, if we provide more information. This is particularly usefull if we want to merge models. There are many different constallations that we can apply (see the previously full list of settings/attribute for more); the following is a simple one. Provide:\n",
    "* *name:* Usefull when merging models.\n",
    "* *databases:* (always required when running from Python).\n",
    "* *placeholders:* (always required to couple databases to gams code).\n",
    "* *blocks:* List of blocks used in the model (from gamY).\n",
    "* *g_endo:* List of endogenous groups.\n",
    "* *g_exo:* List of exogenous groups.\n",
    "* *files:* All relevant files.\n",
    "* *collect_files:* For each model, let all files be \\\\$IMPORTed in one (a few) file(s)."
   ]
  },
  {
   "cell_type": "markdown",
   "metadata": {},
   "source": [
    "*Note this is the default mode my model settings are stored in FG_settings:*"
   ]
  },
  {
   "cell_type": "code",
   "execution_count": 11,
   "metadata": {},
   "outputs": [
    {
     "data": {
      "text/plain": [
       "{'name': 'FG',\n",
       " 'placeholders': {'FG': 'FG'},\n",
       " 'databases': {'FG': <DataBase.py_db at 0x19e83252908>},\n",
       " 'run_file': None,\n",
       " 'blocks': ['M_FG'],\n",
       " 'g_endo': ['FG_endo'],\n",
       " 'g_exo': ['FG_tech', 'FG_exo'],\n",
       " 'solve': None,\n",
       " 'files': {'FG_functions.gms': 'C:\\\\Users\\\\sxj477\\\\Documents\\\\GitHub\\\\Abatement_project\\\\InputDisplacingAbatement\\\\gms\\\\FG',\n",
       "  'FG_sets.gms': 'C:\\\\Users\\\\sxj477\\\\Documents\\\\GitHub\\\\Abatement_project\\\\InputDisplacingAbatement\\\\gms\\\\FG',\n",
       "  'FG_parameters.gms': 'C:\\\\Users\\\\sxj477\\\\Documents\\\\GitHub\\\\Abatement_project\\\\InputDisplacingAbatement\\\\gms\\\\FG',\n",
       "  'FG_groups.gms': 'C:\\\\Users\\\\sxj477\\\\Documents\\\\GitHub\\\\Abatement_project\\\\InputDisplacingAbatement\\\\gms\\\\FG',\n",
       "  'FG_blocks.gms': 'C:\\\\Users\\\\sxj477\\\\Documents\\\\GitHub\\\\Abatement_project\\\\InputDisplacingAbatement\\\\gms\\\\FG',\n",
       "  'FG_CollectFile.gms': 'C:\\\\Users\\\\sxj477\\\\Documents\\\\GitHub\\\\Abatement_project\\\\InputDisplacingAbatement\\\\gms\\\\FG'},\n",
       " 'collect_file': None,\n",
       " 'collect_files': ['FG_CollectFile.gms'],\n",
       " 'root_file': None,\n",
       " 'db_export': {'FG': 'C:\\\\Users\\\\sxj477\\\\Documents\\\\GitHub\\\\Abatement_project\\\\InputDisplacingAbatement\\\\gms\\\\FG\\\\FG.gdx'}}"
      ]
     },
     "execution_count": 11,
     "metadata": {},
     "output_type": "execute_result"
    }
   ],
   "source": [
    "V3 = FG_settings\n",
    "V3.__dict__"
   ]
  },
  {
   "cell_type": "markdown",
   "metadata": {},
   "source": [
    "Run Model"
   ]
  },
  {
   "cell_type": "code",
   "execution_count": 12,
   "metadata": {},
   "outputs": [
    {
     "name": "stdout",
     "output_type": "stream",
     "text": [
      "WARNING: \\%FG\\% is not defined and was not replaced\n",
      "WARNING: \\%FG\\% is not defined and was not replaced\n",
      "WARNING: \\%FG\\% is not defined and was not replaced\n",
      "WARNING: \\%FG\\% is not defined and was not replaced\n",
      "WARNING: \\%FG\\% is not defined and was not replaced\n",
      "WARNING: \\%FG\\% is not defined and was not replaced\n",
      "WARNING: \\%FG\\% is not defined and was not replaced\n",
      "WARNING: \\%FG\\% is not defined and was not replaced\n"
     ]
    }
   ],
   "source": [
    "V3_model = DB2Gams.gams_model(work_folder)\n",
    "V3_model.run(V3)"
   ]
  },
  {
   "cell_type": "markdown",
   "metadata": {},
   "source": [
    "### **1.4: A few more details**"
   ]
  },
  {
   "cell_type": "markdown",
   "metadata": {},
   "source": [
    "**Exporting gams_settings:**"
   ]
  },
  {
   "cell_type": "markdown",
   "metadata": {},
   "source": [
    "Once a set of preferred gams_settings have been created, the .export() method exports the settings to a repository of your choosing. We need to provide (1) Repository and (2) name of file. \n",
    "\n",
    "For instance, this writes the settings to the current working directory:"
   ]
  },
  {
   "cell_type": "code",
   "execution_count": 13,
   "metadata": {},
   "outputs": [],
   "source": [
    "FG_settings.export(os.getcwd(), 'FG.pkl')"
   ]
  },
  {
   "cell_type": "markdown",
   "metadata": {},
   "source": [
    "Thus, if needed later we can simply load the file using pickle (see start of section 1.1. for an example of loading)"
   ]
  },
  {
   "cell_type": "markdown",
   "metadata": {},
   "source": [
    "**Show Gams output when runnning model:**"
   ]
  },
  {
   "cell_type": "markdown",
   "metadata": {},
   "source": [
    "Any options that is allowed by the API (see https://www.gams.com/latest/docs/apis/python/classgams_1_1execution_1_1GamsJob.html) can be passed to the GamsJob here, by adding a dictionary as follows:\n",
    "\n",
    "A GamsJob is run with the option 'output=None' (see documentation), as default. If we instead want the standard gams output displayed here, we pass this as follows:"
   ]
  },
  {
   "cell_type": "code",
   "execution_count": 14,
   "metadata": {},
   "outputs": [
    {
     "name": "stdout",
     "output_type": "stream",
     "text": [
      "WARNING: \\%FG\\% is not defined and was not replaced\n",
      "WARNING: \\%FG\\% is not defined and was not replaced\n",
      "WARNING: \\%FG\\% is not defined and was not replaced\n",
      "WARNING: \\%FG\\% is not defined and was not replaced\n",
      "WARNING: \\%FG\\% is not defined and was not replaced\n",
      "WARNING: \\%FG\\% is not defined and was not replaced\n",
      "WARNING: \\%FG\\% is not defined and was not replaced\n",
      "WARNING: \\%FG\\% is not defined and was not replaced\n",
      "--- Job CollectAndRun.gmy Start 07/03/20 14:54:16 29.1.0 rbb4180b WEX-WEI x86 64bit/MS Windows\n",
      "--- GAMS Parameters defined\n",
      "    LP CONOPT4\n",
      "    MIP CPLEX\n",
      "    RMIP CONOPT4\n",
      "    NLP CONOPT4\n",
      "    MCP PATH\n",
      "    MPEC NLPEC\n",
      "    RMPEC NLPEC\n",
      "    CNS CONOPT4\n",
      "    DNLP CONOPT4\n",
      "    RMINLP CONOPT4\n",
      "    MINLP DICOPT\n",
      "    QCP CONOPT4\n",
      "    MIQCP SBB\n",
      "    RMIQCP CONOPT4\n",
      "    EMP JAMS\n",
      "    Input C:\\Users\\sxj477\\Documents\\GitHub\\Abatement_project\\InputDisplacingAbatement\\workfolder\\CollectAndRun.gmy\n",
      "    Output C:\\Users\\sxj477\\Documents\\GitHub\\Abatement_project\\InputDisplacingAbatement\\workfolder\\_gams_py_gjo0.lst\n",
      "    ScrDir C:\\Users\\sxj477\\Documents\\GitHub\\Abatement_project\\InputDisplacingAbatement\\workfolder\\225a\\\n",
      "    SysDir C:\\GAMS\\win64\\29.1\\\n",
      "    CurDir C:\\Users\\sxj477\\Documents\\GitHub\\Abatement_project\\InputDisplacingAbatement\\workfolder\\\n",
      "    LogOption 3\n",
      "    LogFile C:\\Users\\sxj477\\Documents\\GitHub\\Abatement_project\\InputDisplacingAbatement\\workfolder\\_gams_py_gjo0.log\n",
      "    GDX C:\\Users\\sxj477\\Documents\\GitHub\\Abatement_project\\InputDisplacingAbatement\\workfolder\\_gams_py_gdb1.gdx\n",
      "    --FG _gams_py_gdb0\n",
      "GAMS 29.1.0   Copyright (C) 1987-2019 GAMS Development. All rights reserved\n",
      "Licensee: Medium MUD - 10 User License                   G200108/0001CA-WIN\n",
      "          DREAM, Danish Rational Economic Agents Model                DC620\n",
      "          License Admin: Martin K. Bonde, mkb@dreammodel.dk                \n",
      "--- Starting compilation\n",
      "--- CollectAndRun.gmy(52) 2 Mb\n",
      "--- GDXin=C:\\Users\\sxj477\\Documents\\GitHub\\Abatement_project\\InputDisplacingAbatement\\workfolder\\_gams_py_gdb0.gdx\n",
      "--- CollectAndRun.gmy(265) 3 Mb\n",
      "--- Starting execution: elapsed 0:00:00.010\n",
      "--- CollectAndRun.gmy(123) 4 Mb\n",
      "--- GDXin=C:\\Users\\sxj477\\Documents\\GitHub\\Abatement_project\\InputDisplacingAbatement\\workfolder\\_gams_py_gdb0.gdx\n",
      "--- CollectAndRun.gmy(156) 4 Mb\n",
      "--- GDXin=C:\\Users\\sxj477\\Documents\\GitHub\\Abatement_project\\InputDisplacingAbatement\\workfolder\\_gams_py_gdb0.gdx\n",
      "--- CollectAndRun.gmy(189) 4 Mb\n",
      "--- GDXin=C:\\Users\\sxj477\\Documents\\GitHub\\Abatement_project\\InputDisplacingAbatement\\workfolder\\_gams_py_gdb0.gdx\n",
      "--- CollectAndRun.gmy(252) 4 Mb\n",
      "--- Generating CNS model FG\n",
      "--- CollectAndRun.gmy(264) 6 Mb\n",
      "---   6 rows  16 columns  36 non-zeroes\n",
      "---   79 nl-code  30 nl-non-zeroes\n",
      "--- CollectAndRun.gmy(264) 4 Mb\n",
      "--- Executing CONOPT4: elapsed 0:00:00.021\n",
      "\n",
      "CONOPT 4         29.1.0 rbb4180b Released Nov 15, 2019 WEI x86 64bit/MS Window\n",
      " \n",
      " \n",
      "    C O N O P T   version 4.15\n",
      "    Copyright (C) ARKI Consulting and Development A/S\n",
      "                  Bagsvaerdvej 246 A\n",
      "                  DK-2880 Bagsvaerd, Denmark\n",
      "    Licensed to:  GAMS/CONOPT OEM License\n",
      " \n",
      " \n",
      "    The user model has 6 constraints and 16 variables\n",
      "    with 36 Jacobian elements, 30 of which are nonlinear.\n",
      " \n",
      "    Iter Phase   Ninf   Infeasibility   RGmax      NSB   Step  InItr MX OK\n",
      "       0   0          2.0000000000E+00 (Input point)\n",
      " \n",
      "    The pre-triangular part of the model has 6 constraints and 16 variables.\n",
      " \n",
      " ** Feasible solution to a square system.\n",
      " \n",
      "--- Restarting execution\n",
      "--- CollectAndRun.gmy(264) 2 Mb\n",
      "--- Reading solution for model FG\n",
      "--- GDX File C:\\Users\\sxj477\\Documents\\GitHub\\Abatement_project\\InputDisplacingAbatement\\workfolder\\_gams_py_gdb1.gdx\n",
      "*** Status: Normal completion\n",
      "--- Job CollectAndRun.gmy Stop 07/03/20 14:54:17 elapsed 0:00:00.526\n"
     ]
    }
   ],
   "source": [
    "FG = DB2Gams.gams_model(work_folder)\n",
    "FG.run(FG_settings,options_run={'output': sys.stdout})"
   ]
  },
  {
   "cell_type": "markdown",
   "metadata": {},
   "source": [
    "**Add a checkpoint (savepoint)**"
   ]
  },
  {
   "cell_type": "markdown",
   "metadata": {},
   "source": [
    "A GamsCheckpoint is created through the *GamsWorkspace*. We access this through *self.ws*:"
   ]
  },
  {
   "cell_type": "code",
   "execution_count": 15,
   "metadata": {},
   "outputs": [
    {
     "data": {
      "text/plain": [
       "<gams.workspace.GamsWorkspace at 0x19e88177c48>"
      ]
     },
     "execution_count": 15,
     "metadata": {},
     "output_type": "execute_result"
    }
   ],
   "source": [
    "FG.ws"
   ]
  },
  {
   "cell_type": "markdown",
   "metadata": {},
   "source": [
    "If we want to store a checkpoint, start by defining an empty one: "
   ]
  },
  {
   "cell_type": "code",
   "execution_count": 16,
   "metadata": {},
   "outputs": [],
   "source": [
    "a_checkpoint = FG.ws.add_checkpoint()"
   ]
  },
  {
   "cell_type": "markdown",
   "metadata": {},
   "source": [
    "Next, run the model again, and store the checkpoint:"
   ]
  },
  {
   "cell_type": "code",
   "execution_count": 17,
   "metadata": {},
   "outputs": [
    {
     "name": "stdout",
     "output_type": "stream",
     "text": [
      "WARNING: \\%FG\\% is not defined and was not replaced\n",
      "WARNING: \\%FG\\% is not defined and was not replaced\n",
      "WARNING: \\%FG\\% is not defined and was not replaced\n",
      "WARNING: \\%FG\\% is not defined and was not replaced\n",
      "WARNING: \\%FG\\% is not defined and was not replaced\n",
      "WARNING: \\%FG\\% is not defined and was not replaced\n",
      "WARNING: \\%FG\\% is not defined and was not replaced\n",
      "WARNING: \\%FG\\% is not defined and was not replaced\n"
     ]
    }
   ],
   "source": [
    "FG.run(FG_settings,options_run={'checkpoint': a_checkpoint})"
   ]
  },
  {
   "cell_type": "markdown",
   "metadata": {},
   "source": [
    "The checkpoint is now stored, and can be used to initialize new models from."
   ]
  },
  {
   "cell_type": "markdown",
   "metadata": {},
   "source": [
    "**More adjustments to the running facilities**"
   ]
  },
  {
   "cell_type": "markdown",
   "metadata": {},
   "source": [
    "Note that in general, the workspace is available at the attribute *self.ws*. Thus, detailed control with the running options can be obtained by calling this. To get more detailed control, we can start by creating a model_instance instead, and compile the main file using gamY:\n",
    "\n",
    "(*as a courtesy, the compile_collect_file also returns the filename that would usually just be run in the simple '.run' case*) "
   ]
  },
  {
   "cell_type": "code",
   "execution_count": 18,
   "metadata": {},
   "outputs": [
    {
     "name": "stdout",
     "output_type": "stream",
     "text": [
      "WARNING: \\%FG\\% is not defined and was not replaced\n",
      "WARNING: \\%FG\\% is not defined and was not replaced\n",
      "WARNING: \\%FG\\% is not defined and was not replaced\n",
      "WARNING: \\%FG\\% is not defined and was not replaced\n"
     ]
    },
    {
     "data": {
      "text/plain": [
       "'C:\\\\Users\\\\sxj477\\\\Documents\\\\GitHub\\\\Abatement_project\\\\InputDisplacingAbatement\\\\workfolder\\\\CollectAndRun.gmy'"
      ]
     },
     "execution_count": 18,
     "metadata": {},
     "output_type": "execute_result"
    }
   ],
   "source": [
    "FG.model_instance(FG_settings)\n",
    "FG.compile_collect_file()"
   ]
  },
  {
   "cell_type": "markdown",
   "metadata": {},
   "source": [
    "Next, we can add the job in any which way we please (see https://www.gams.com/latest/docs/apis/python/classgams_1_1workspace_1_1GamsWorkspace.html, this runs the same model, but with different methods):"
   ]
  },
  {
   "cell_type": "code",
   "execution_count": 19,
   "metadata": {},
   "outputs": [],
   "source": [
    "job_gmy = FG.work_folder+'\\\\'+FG.model.collect_file.replace('.gms','.gmy')\n",
    "with open(job_gmy, \"r\") as file:\n",
    "    job_string = file.read()"
   ]
  },
  {
   "cell_type": "code",
   "execution_count": 20,
   "metadata": {},
   "outputs": [],
   "source": [
    "FG.job = FG.ws.add_job_from_file(job_gmy) # from job\n",
    "FG.job = FG.ws.add_job_from_string(job_string) # from string"
   ]
  },
  {
   "cell_type": "markdown",
   "metadata": {},
   "source": [
    "As with the *options_run* case earlier, we can similarly add options when creating the job, e.g. adding a checkpoint to start from:\n",
    "\n",
    "*Note the 'a_checkpoint' here is empty, so it basically does nothing; however, any checkpoint added with FG.ws.add_checkpoint() can be applied.*"
   ]
  },
  {
   "cell_type": "code",
   "execution_count": 21,
   "metadata": {},
   "outputs": [],
   "source": [
    "FG.job = FG.ws.add_job_from_file(job_gmy,**{'checkpoint': a_checkpoint})"
   ]
  },
  {
   "cell_type": "markdown",
   "metadata": {},
   "source": []
  }
 ],
 "metadata": {
  "kernelspec": {
   "display_name": "Python 3",
   "language": "python",
   "name": "python3"
  },
  "language_info": {
   "codemirror_mode": {
    "name": "ipython",
    "version": 3
   },
   "file_extension": ".py",
   "mimetype": "text/x-python",
   "name": "python",
   "nbconvert_exporter": "python",
   "pygments_lexer": "ipython3",
   "version": "3.7.4"
  }
 },
 "nbformat": 4,
 "nbformat_minor": 4
}

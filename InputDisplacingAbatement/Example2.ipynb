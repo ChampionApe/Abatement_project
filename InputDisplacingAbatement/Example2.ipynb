{
 "cells": [
  {
   "cell_type": "code",
   "execution_count": 1,
   "metadata": {},
   "outputs": [],
   "source": [
    "import os\n",
    "import pandas as pd\n",
    "import DataBase\n",
    "import ShockFunction\n",
    "import nesting_trees as nt\n",
    "import abatement_functions as af\n",
    "import DB2Gams"
   ]
  },
  {
   "cell_type": "code",
   "execution_count": 2,
   "metadata": {},
   "outputs": [],
   "source": [
    "data_folder = os.getcwd()+'\\\\Make_data\\\\Example2'"
   ]
  },
  {
   "cell_type": "markdown",
   "metadata": {},
   "source": [
    "# **Example 2**"
   ]
  },
  {
   "cell_type": "markdown",
   "metadata": {},
   "source": [
    "The general setup is as in example 1, however, the focus here is more on the abatement model than on how to run things from Python."
   ]
  },
  {
   "cell_type": "markdown",
   "metadata": {},
   "source": [
    "As in example 1 the setup still involves:\n",
    "* A set of energy-services $(\\mathcal{S}_{es})$,\n",
    "* A set of fuels in production $(\\mathcal{S}_{f})$,\n",
    "* For each $es\\in\\mathcal{S}_{es}$, the energy-service can be divided into a set of energy-service-components $(\\mathcal{S}_{esc}^{es})$. The set of all energy-service-components is denoted $\\mathcal{S}_{esc}$. \n",
    "* All sets of energy-service components $(\\mathcal{S}_{esc}^{es})$ can be divided into a baseline component $(es^0)$ and technology components $(\\tilde{\\mathcal{S}}_{esc}^{es})$. (*The naming convention is that baseline components are defined as the energy-service $+\\_0$)*\n",
    "* The technology components are all defined by a set of *technology-firms* $(\\mathcal{T})$. The technologies uses a combination of fuels and capital to produce one or more components."
   ]
  },
  {
   "cell_type": "markdown",
   "metadata": {},
   "source": [
    "## **1: The Setup**"
   ]
  },
  {
   "cell_type": "markdown",
   "metadata": {},
   "source": [
    "### **1.1: Read in data**"
   ]
  },
  {
   "cell_type": "markdown",
   "metadata": {},
   "source": [
    "#### **1.1.1: Final goods sector**"
   ]
  },
  {
   "cell_type": "markdown",
   "metadata": {},
   "source": [
    "Uses a combination of capital (K) and energy-services $(E_1,...,E_{n_e})$ to produce an output $Y$. The nesting structure can be chosen arbitrarily using nesting trees as in example 1.\n",
    "\n",
    "Example 1 illustrated how to build nesting trees. An alternative to this is simply to let data define the tree:"
   ]
  },
  {
   "cell_type": "code",
   "execution_count": 3,
   "metadata": {},
   "outputs": [],
   "source": [
    "trees = {}\n",
    "read_type = {'1dvars': ['sigma','q'], 'vars_panel': {'mu': 2}}\n",
    "trees['FG'] = nt.nt_base_v2(from_data=True,data_path=data_folder+'\\\\FG.xlsx',name='FG')\n",
    "trees['FG'].database.read_from_excel(data_folder+'\\\\FG.xlsx',{**read_type, 'maps_panel': ['n2X']})\n",
    "trees['FG'].run_all_v2()"
   ]
  },
  {
   "cell_type": "markdown",
   "metadata": {},
   "source": [
    "#### **1.1.2: Energy-service sector**"
   ]
  },
  {
   "cell_type": "code",
   "execution_count": 4,
   "metadata": {},
   "outputs": [],
   "source": [
    "trees['ES'] = nt.tree_from_data(data_folder+'\\\\ES.xlsx',name='ES')\n",
    "trees['ES'].run_all()\n",
    "trees['ES'].database.read_from_excel(data_folder+'\\\\ES.xlsx',read_type)"
   ]
  },
  {
   "cell_type": "markdown",
   "metadata": {},
   "source": [
    "#### **1.1.3: Energy services, base supply**"
   ]
  },
  {
   "cell_type": "markdown",
   "metadata": {},
   "source": [
    "Uses a combination of capital and fuels to produce energy-services using CES."
   ]
  },
  {
   "cell_type": "code",
   "execution_count": 5,
   "metadata": {},
   "outputs": [],
   "source": [
    "trees['ES_base'] = nt.nt_base_v2(from_data=True,data_path=data_folder+'\\\\ES_base.xlsx',name='ES_base')\n",
    "trees['ES_base'].database.read_from_excel(data_folder+'\\\\ES_base.xlsx',{**read_type, 'maps_panel': ['n2X']})\n",
    "trees['ES_base'].run_all_v2()"
   ]
  },
  {
   "cell_type": "markdown",
   "metadata": {},
   "source": [
    "#### **1.1.4: Energy-service-components sector**"
   ]
  },
  {
   "cell_type": "code",
   "execution_count": 6,
   "metadata": {},
   "outputs": [],
   "source": [
    "trees['ESC'] = nt.tree_from_data(data_folder+'\\\\ESC.xlsx',name='ESC')\n",
    "trees['ESC'].run_all()\n",
    "trees['ESC'].database.read_from_excel(data_folder+'\\\\ESC.xlsx',read_type)"
   ]
  },
  {
   "cell_type": "markdown",
   "metadata": {},
   "source": [
    "#### **1.1.5: technology sector**"
   ]
  },
  {
   "cell_type": "code",
   "execution_count": 7,
   "metadata": {},
   "outputs": [],
   "source": [
    "trees['T'] = nt.nt_CET_v2(from_data=True,data_path=data_folder+'\\\\T.xlsx',name='T')\n",
    "trees['T'].database.read_from_excel(data_folder+'\\\\T.xlsx',{**read_type, 'maps_panel': ['n2X']})\n",
    "trees['T'].run_all_v2()"
   ]
  },
  {
   "cell_type": "markdown",
   "metadata": {},
   "source": [
    "### **1.2: Technologies and fuels**"
   ]
  },
  {
   "cell_type": "markdown",
   "metadata": {},
   "source": [
    "A set of technology firms $(\\mathcal{T})$ produces energy-service-components - all of them using fuels and capital. In the model that entails that fuels and capital enters with one price, but many different quantities (one for each firm applying them). To handle this:\n",
    "* Define quantity-variables with the naming convention 'fueltype'+'$\\_$firmtype'.\n",
    "* Define price-variables over 'fueltype' (not entire 'fueltype$\\_$firmtype'),\n",
    "* Define a mapping from 'fueltype_$\\_$firmtype'$ to 'fueltype'."
   ]
  },
  {
   "cell_type": "markdown",
   "metadata": {},
   "source": [
    "To handle that quantities and prices are defined over overlapping, but different sets, we define a mapping from elements in the set prices are defined over, to its counterpart in quantities. For many elements this mapping will be neutral ('x' to 'x'), however, for some it will not be."
   ]
  },
  {
   "cell_type": "markdown",
   "metadata": {},
   "source": [
    "## **2: Write to gms**"
   ]
  },
  {
   "cell_type": "markdown",
   "metadata": {},
   "source": [
    "We follow the same procedure as in Example1.ipynb. Here we have 3 different versions of the abatement model:\n",
    "* 'am_base': Standard model with arbitrarily nested input structure.\n",
    "* 'am_base_v2': 'am_base' with the price-vector defined over 'fueltype' instead of 'fueltype-firmtype' combinations.\n",
    "* 'am_CET_v2': Arbitraily nested input/output structure, with the price-vector defined over 'fueltype' instead of 'fueltype-firmtype' combinations."
   ]
  },
  {
   "cell_type": "code",
   "execution_count": 8,
   "metadata": {},
   "outputs": [],
   "source": [
    "repos = {key: os.getcwd()+'\\\\gms\\\\Example2\\\\'+key for key in trees}\n",
    "model_settings = {}\n",
    "model_settings['FG'] = af.am_base_v2(trees['FG'])\n",
    "model_settings['ES'] = af.am_base(trees['ES'])\n",
    "model_settings['ESC'] = af.am_base(trees['ESC'])\n",
    "model_settings['ES_base'] = af.am_base_v2(trees['ES_base'])\n",
    "model_settings['T'] = af.am_CET_v2(trees['T'])"
   ]
  },
  {
   "cell_type": "markdown",
   "metadata": {},
   "source": [
    "Write the gams code for the models with the same types of nesting (CES,normalized CES and MNL) as in Example1.ipynb:"
   ]
  },
  {
   "cell_type": "code",
   "execution_count": 9,
   "metadata": {},
   "outputs": [],
   "source": [
    "model_settings['FG'].run_abatement_model(repo=repos['FG'],type_='CES_v2',export_settings=True)\n",
    "model_settings['ES'].run_abatement_model(repo=repos['ES'],type_='normalized_CES',export_settings=True)\n",
    "model_settings['ESC'].run_abatement_model(repo=repos['ESC'],type_='normalized_CES',export_settings=True)\n",
    "model_settings['ES_base'].run_abatement_model(repo=repos['ES_base'],type_='CES_v2',export_settings=True)\n",
    "model_settings['T'].run_abatement_model(repo=repos['T'],type_in='CES_v2',type_out='MNL',export_settings=True,add_aggregates=True)"
   ]
  },
  {
   "cell_type": "markdown",
   "metadata": {},
   "source": [
    "Note that for sectors where prices/quantities are defined over different sets, we use the type 'CES_v2' instead of just CES. Similarly, in one of the sectors we add the argument 'add_aggregates=True': This adds a simple block of equations that sums of the various fuel- and capital types into aggregate ones. As we are interested in the combined model, we only need one of these blocks to be included, to get the aggregates in the end."
   ]
  },
  {
   "cell_type": "markdown",
   "metadata": {},
   "source": [
    "## **3: Run models separately**"
   ]
  },
  {
   "cell_type": "code",
   "execution_count": 10,
   "metadata": {},
   "outputs": [],
   "source": [
    "workfolder = os.getcwd()+'\\\\workfolder'\n",
    "models = {key: DB2Gams.gams_model(workfolder) for key in model_settings}\n",
    "[models[key].run(model_settings[key].model) for key in model_settings];"
   ]
  },
  {
   "cell_type": "markdown",
   "metadata": {},
   "source": [
    "### **4: Combine models**"
   ]
  },
  {
   "cell_type": "markdown",
   "metadata": {},
   "source": [
    "Create list of *gams_settings* objects:"
   ]
  },
  {
   "cell_type": "code",
   "execution_count": 11,
   "metadata": {},
   "outputs": [],
   "source": [
    "list_of_settings = [model_settings[key].model for key in model_settings]"
   ]
  },
  {
   "cell_type": "markdown",
   "metadata": {},
   "source": [
    "Merge settings:"
   ]
  },
  {
   "cell_type": "code",
   "execution_count": 12,
   "metadata": {},
   "outputs": [],
   "source": [
    "merged_settings = DB2Gams.mgs.merge(list_of_settings)"
   ]
  },
  {
   "cell_type": "markdown",
   "metadata": {},
   "source": [
    "Run combined model with a checkpoint:"
   ]
  },
  {
   "cell_type": "code",
   "execution_count": 13,
   "metadata": {},
   "outputs": [],
   "source": [
    "c_model= DB2Gams.gams_model(workfolder)\n",
    "cp = c_model.ws.add_checkpoint() # create empty checkpoint\n",
    "c_model.run(merged_settings,options_run={'checkpoint': cp}) # run model and store in checkpoint cp"
   ]
  },
  {
   "cell_type": "markdown",
   "metadata": {},
   "source": [
    "## **5: A wee bit of analysis**"
   ]
  },
  {
   "cell_type": "markdown",
   "metadata": {},
   "source": [
    "In Example1.ipynb the price on one type of fuel was gradually increased, by looping over the model from Python. Here, we write the loop directly to gams, and run the loop there."
   ]
  },
  {
   "cell_type": "markdown",
   "metadata": {},
   "source": [
    "### **5.1: Using the AddShock class**"
   ]
  },
  {
   "cell_type": "markdown",
   "metadata": {},
   "source": [
    "#### **5.1.1: Create a database with the shocks we want to loop over:**"
   ]
  },
  {
   "cell_type": "code",
   "execution_count": 14,
   "metadata": {},
   "outputs": [],
   "source": [
    "shocks = DataBase.py_db(name='shock')"
   ]
  },
  {
   "cell_type": "markdown",
   "metadata": {},
   "source": [
    "Note that we can loop sparsely by defining a multiindex to loop over, for instance 'loop3' here which is a combination of two 'fundamental' loops:"
   ]
  },
  {
   "cell_type": "code",
   "execution_count": 15,
   "metadata": {},
   "outputs": [],
   "source": [
    "shocks['l1'] = pd.Index(range(1,3),name='l1').astype(str)\n",
    "shocks['l2'] = pd.Index(range(1,3),name='l2').astype(str)\n",
    "shocks['loop3'] = pd.MultiIndex.from_tuples([('1','1'),('2','2')], names=['l1','l2'])"
   ]
  },
  {
   "cell_type": "markdown",
   "metadata": {},
   "source": [
    "Add parameters with the values we want to loop through:"
   ]
  },
  {
   "cell_type": "code",
   "execution_count": 16,
   "metadata": {},
   "outputs": [],
   "source": [
    "shocks['p1'] = pd.Series([1,2],index=shocks['l1'],name='p1')\n",
    "shocks['p2'] = pd.Series([1,1.5],index=shocks['l2'],name='p2')\n",
    "shocks['p1'].attrs['type'] = 'parameter'\n",
    "shocks['p2'].attrs['type'] = 'parameter'"
   ]
  },
  {
   "cell_type": "markdown",
   "metadata": {},
   "source": [
    "Export to workfolder:"
   ]
  },
  {
   "cell_type": "code",
   "execution_count": 17,
   "metadata": {},
   "outputs": [],
   "source": [
    "shocks.merge_internal()\n",
    "shocks.db_other.export(workfolder+'\\\\'+shocks.name+'.gdx')"
   ]
  },
  {
   "cell_type": "markdown",
   "metadata": {},
   "source": [
    "#### **5.1.2: Specify what happens in the loop**"
   ]
  },
  {
   "cell_type": "markdown",
   "metadata": {},
   "source": [
    "We use the class AddShocks to define what happens in the loop. To initialize the class we provide: (1) Name of the relevant model that is solved in the loop, (2) the database with relevant shocks, and (3) the name of the 'sparse loop', i.e. the one encompassing all relevant elements we wish to loop over. In this case it was the multiindex 'loop3':"
   ]
  },
  {
   "cell_type": "code",
   "execution_count": 18,
   "metadata": {},
   "outputs": [],
   "source": [
    "s1 = ShockFunction.AddShocks('model_name',shocks,'loop3')"
   ]
  },
  {
   "cell_type": "markdown",
   "metadata": {},
   "source": [
    "We perform a shock of the type 'UpdateExoVarsAndSolve', that is where exogenous values are updated in each iteration of the loop, and the model is then resolved:"
   ]
  },
  {
   "cell_type": "code",
   "execution_count": 19,
   "metadata": {},
   "outputs": [],
   "source": [
    "s1.UpdateExoVarsAndSolve(c_model)"
   ]
  },
  {
   "cell_type": "markdown",
   "metadata": {},
   "source": [
    "Let the price for 'F1' follow the shock 'p1', and the price for 'F2' follow 'p2'. This is added by adding: The variable name, the corresponding parameter that we wish to update with, and finally conditions on the solution:"
   ]
  },
  {
   "cell_type": "code",
   "execution_count": 20,
   "metadata": {},
   "outputs": [],
   "source": [
    "s1.UEVAS_adjVar('p','p1',conditions='sameAs(n,\"F1\")') # adjust the variable p with the value from parameter p1, only for p[n] when n = F1.\n",
    "s1.UEVAS_adjVar('p','p2',conditions='sameAs(n,\"F2\")') # adjust the variable p with the value from parameter p1, only for p[n] when n = F1."
   ]
  },
  {
   "cell_type": "markdown",
   "metadata": {},
   "source": [
    "Let us extract the solution for quantities (q) for each realization, but only for the subset n2nn_agg (capital and fuel aggregtaes). Furhtermore, let us define a new result for all combinations of the loops ('loop3' contains all combination):"
   ]
  },
  {
   "cell_type": "code",
   "execution_count": 21,
   "metadata": {},
   "outputs": [],
   "source": [
    "s1.UEVAS_var2sol('q','loop3',conditions='n2nn_agg[n]')"
   ]
  },
  {
   "cell_type": "markdown",
   "metadata": {},
   "source": [
    "### **5.2: Running the shock**"
   ]
  },
  {
   "cell_type": "markdown",
   "metadata": {},
   "source": [
    "To run the shock, we need to provide: (1) The name of the shock-data, (2) The shock-code from the AddShocks class."
   ]
  },
  {
   "cell_type": "code",
   "execution_count": 22,
   "metadata": {},
   "outputs": [],
   "source": [
    "c_model.opt.defines['shock'] = shocks.name+'.gdx'"
   ]
  },
  {
   "cell_type": "markdown",
   "metadata": {},
   "source": [
    "Write the shock-code to a gmy file:"
   ]
  },
  {
   "cell_type": "code",
   "execution_count": 23,
   "metadata": {},
   "outputs": [],
   "source": [
    "s1.UEVAS_2gmy(workfolder+'\\\\'+s1.shock_gm.database.name)"
   ]
  },
  {
   "cell_type": "markdown",
   "metadata": {},
   "source": [
    "Write from file:"
   ]
  },
  {
   "cell_type": "code",
   "execution_count": 24,
   "metadata": {},
   "outputs": [
    {
     "data": {
      "text/plain": [
       "'C:\\\\Users\\\\sxj477\\\\Documents\\\\GitHub\\\\Abatement_project\\\\InputDisplacingAbatement\\\\workfolder\\\\shock.gmy'"
      ]
     },
     "execution_count": 24,
     "metadata": {},
     "output_type": "execute_result"
    }
   ],
   "source": [
    "s1.gmy"
   ]
  },
  {
   "cell_type": "code",
   "execution_count": 25,
   "metadata": {},
   "outputs": [],
   "source": [
    "c_model.job = c_model.ws.add_job_from_file(s1.gms,cp) \n",
    "c_model.run(run_from_job=True)"
   ]
  },
  {
   "cell_type": "code",
   "execution_count": null,
   "metadata": {},
   "outputs": [],
   "source": [
    "test = Precompiler(fil)"
   ]
  }
 ],
 "metadata": {
  "kernelspec": {
   "display_name": "Python 3",
   "language": "python",
   "name": "python3"
  },
  "language_info": {
   "codemirror_mode": {
    "name": "ipython",
    "version": 3
   },
   "file_extension": ".py",
   "mimetype": "text/x-python",
   "name": "python",
   "nbconvert_exporter": "python",
   "pygments_lexer": "ipython3",
   "version": "3.7.4"
  }
 },
 "nbformat": 4,
 "nbformat_minor": 4
}

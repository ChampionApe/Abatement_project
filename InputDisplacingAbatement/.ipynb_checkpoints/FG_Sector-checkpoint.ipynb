{
 "cells": [
  {
   "cell_type": "code",
   "execution_count": 1,
   "metadata": {},
   "outputs": [],
   "source": [
    "from gams import *\n",
    "import pandas as pd\n",
    "from dreamtools.gams_pandas import *\n",
    "from dreamtools.gamY import Precompiler\n",
    "from abatement_functions import nesting_tree,a_model\n",
    "import DataBase\n",
    "import DB2Gams"
   ]
  },
  {
   "cell_type": "markdown",
   "metadata": {},
   "source": [
    "# **Final goods sector**"
   ]
  },
  {
   "cell_type": "markdown",
   "metadata": {},
   "source": [
    "This runs the final goods sector alone, to provide some understanding of relevant classes in the abatement model."
   ]
  },
  {
   "cell_type": "markdown",
   "metadata": {},
   "source": [
    "## **1: Define nesting structure and read in data via nesting_trees**"
   ]
  },
  {
   "cell_type": "markdown",
   "metadata": {},
   "source": [
    "Define nesting structure of inputs by mapping: Keys are aggregates, values are inputs in that aggregate. "
   ]
  },
  {
   "cell_type": "code",
   "execution_count": 2,
   "metadata": {},
   "outputs": [],
   "source": [
    "FG_tree = nesting_tree(\n",
    "    name='FG',\n",
    "    tree = {\n",
    "        'KE': ['K','E'],\n",
    "        'E' : ['E1','E2']},\n",
    "    **{'setname': 'n',\n",
    "       'alias': 'nn',\n",
    "       'alias2' : 'nnn',\n",
    "       'inpname': 'in_FG',\n",
    "       'aggname': 'agg_FG',\n",
    "       'mapname': 'in_FG2agg_FG',\n",
    "       'outname': 'out_FG',\n",
    "       'sector':  'sec_FG'}\n",
    ")"
   ]
  },
  {
   "cell_type": "markdown",
   "metadata": {},
   "source": [
    "Create sets, subsets, and mappings from tree:"
   ]
  },
  {
   "cell_type": "code",
   "execution_count": 3,
   "metadata": {},
   "outputs": [],
   "source": [
    "FG_tree.run_all()"
   ]
  },
  {
   "cell_type": "markdown",
   "metadata": {},
   "source": [
    "Read in data from excel:"
   ]
  },
  {
   "cell_type": "code",
   "execution_count": 4,
   "metadata": {},
   "outputs": [],
   "source": [
    "read_type = {'1dvars': ['sigma'], # list sheets with with data of variables defined over 1 set\n",
    "             'vars_panel': {'mu': 2}} # dictionary with variables defined over n sets written in panel-data form. Key refers to sheet name, value refers to number of sets.\n",
    "FG_tree.database.read_from_excel('Make_data//FinalGoods.xlsx',read_type)"
   ]
  },
  {
   "cell_type": "markdown",
   "metadata": {},
   "source": [
    "Add other variables needed for the model to run (or read them in as done above):"
   ]
  },
  {
   "cell_type": "markdown",
   "metadata": {},
   "source": [
    "## **2: Initialize abatement_model with nesting_tree**"
   ]
  },
  {
   "cell_type": "code",
   "execution_count": 5,
   "metadata": {},
   "outputs": [],
   "source": [
    "model = a_model(FG_tree)\n",
    "model.define_groups()\n",
    "model.define_blocks()"
   ]
  },
  {
   "cell_type": "markdown",
   "metadata": {},
   "source": [
    "With groups and blocks defined run the 'default' version, where files are created and written to a repo:"
   ]
  },
  {
   "cell_type": "code",
   "execution_count": 6,
   "metadata": {},
   "outputs": [],
   "source": [
    "repo = os.getcwd()+'\\\\gms\\\\FG'\n",
    "model.run_default(repo)"
   ]
  },
  {
   "cell_type": "markdown",
   "metadata": {},
   "source": [
    "The default run writes the files, stores them in a repository of the user's choosing, and updates the model settings for later run."
   ]
  },
  {
   "cell_type": "markdown",
   "metadata": {},
   "source": [
    "### **3: Finally, use the model to initialize gams model**"
   ]
  },
  {
   "cell_type": "markdown",
   "metadata": {},
   "source": [
    "Initialize model with database, and workfolder:"
   ]
  },
  {
   "cell_type": "code",
   "execution_count": 7,
   "metadata": {},
   "outputs": [],
   "source": [
    "gams_model = DB2Gams.gams_model(databases = {model.model.name: model.database}, \n",
    "                                work_folder = os.getcwd()+'\\\\workfolder')"
   ]
  },
  {
   "cell_type": "code",
   "execution_count": 8,
   "metadata": {},
   "outputs": [
    {
     "name": "stdout",
     "output_type": "stream",
     "text": [
      "WARNING: \\%FG\\% is not defined and was not replaced\n",
      "WARNING: \\%FG\\% is not defined and was not replaced\n",
      "WARNING: \\%FG\\% is not defined and was not replaced\n",
      "WARNING: \\%FG\\% is not defined and was not replaced\n"
     ]
    }
   ],
   "source": [
    "gams_model.run(model.model,'options')"
   ]
  },
  {
   "cell_type": "markdown",
   "metadata": {},
   "source": [
    "The database:"
   ]
  },
  {
   "cell_type": "code",
   "execution_count": 11,
   "metadata": {},
   "outputs": [
    {
     "data": {
      "text/plain": [
       "{'n': 'set',\n",
       " 'alias_map2': 'set',\n",
       " 'alias_set': 'set',\n",
       " 'agg_FG': 'subset',\n",
       " 'alias_': 'mapping',\n",
       " 'out_FG': 'subset',\n",
       " 'in_FG': 'subset',\n",
       " 'in_FG2agg_FG': 'mapping',\n",
       " 'sec_FG': 'subset',\n",
       " 'sigma': 'variable',\n",
       " 'mu': 'variable',\n",
       " 'p': 'variable',\n",
       " 'q': 'variable',\n",
       " 'load_p': 'parameter',\n",
       " 'load_q': 'parameter',\n",
       " 'load_sigma': 'parameter',\n",
       " 'load_mu': 'parameter',\n",
       " 'E_FG_q': None,\n",
       " 'E_FG_p': None}"
      ]
     },
     "execution_count": 11,
     "metadata": {},
     "output_type": "execute_result"
    }
   ],
   "source": [
    "gams_model.out_db.types"
   ]
  }
 ],
 "metadata": {
  "kernelspec": {
   "display_name": "Python 3",
   "language": "python",
   "name": "python3"
  },
  "language_info": {
   "codemirror_mode": {
    "name": "ipython",
    "version": 3
   },
   "file_extension": ".py",
   "mimetype": "text/x-python",
   "name": "python",
   "nbconvert_exporter": "python",
   "pygments_lexer": "ipython3",
   "version": "3.7.4"
  }
 },
 "nbformat": 4,
 "nbformat_minor": 4
}

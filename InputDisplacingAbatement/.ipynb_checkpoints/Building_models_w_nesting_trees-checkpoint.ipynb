{
 "cells": [
  {
   "cell_type": "code",
   "execution_count": 1,
   "metadata": {},
   "outputs": [],
   "source": [
    "import os\n",
    "import sys\n",
    "import abatement_functions as af\n",
    "import DB2Gams"
   ]
  },
  {
   "cell_type": "markdown",
   "metadata": {},
   "source": [
    "# **1: Final goods sector**"
   ]
  },
  {
   "cell_type": "markdown",
   "metadata": {},
   "source": [
    "This runs the final goods sector alone, to provide some understanding of relevant classes in the abatement model."
   ]
  },
  {
   "cell_type": "markdown",
   "metadata": {},
   "source": [
    "#### **1.1: Define nesting structure and read in data via nesting_trees**"
   ]
  },
  {
   "cell_type": "markdown",
   "metadata": {},
   "source": [
    "Define nesting structure of inputs by mapping: Keys are aggregates, values are inputs in that aggregate. "
   ]
  },
  {
   "cell_type": "code",
   "execution_count": 2,
   "metadata": {},
   "outputs": [],
   "source": [
    "FG_tree = af.nesting_tree(\n",
    "    name='FG',\n",
    "    tree = {\n",
    "        'KE': ['K','E'],\n",
    "        'E' : ['E1','E2']},\n",
    "    **{'setname': 'n',\n",
    "       'alias': 'nn',\n",
    "       'alias2' : 'nnn',\n",
    "       'inpname': 'in_FG',\n",
    "       'aggname': 'agg_FG',\n",
    "       'mapname': 'in_FG2agg_FG',\n",
    "       'outname': 'out_FG',\n",
    "       'sector':  'sec_FG'}\n",
    ")"
   ]
  },
  {
   "cell_type": "markdown",
   "metadata": {},
   "source": [
    "Create sets, subsets, and mappings from tree:"
   ]
  },
  {
   "cell_type": "code",
   "execution_count": 3,
   "metadata": {},
   "outputs": [],
   "source": [
    "FG_tree.run_all()"
   ]
  },
  {
   "cell_type": "markdown",
   "metadata": {},
   "source": [
    "Read in data from excel:"
   ]
  },
  {
   "cell_type": "code",
   "execution_count": 4,
   "metadata": {},
   "outputs": [],
   "source": [
    "read_type = {'1dvars': ['sigma'], # list sheets with with data of variables defined over 1 set\n",
    "             'vars_panel': {'mu': 2}} # dictionary with variables defined over n sets written in panel-data form. Key refers to sheet name, value refers to number of sets.\n",
    "FG_tree.database.read_from_excel('Make_data//FinalGoods.xlsx',read_type)"
   ]
  },
  {
   "cell_type": "markdown",
   "metadata": {},
   "source": [
    "#### **1.2: Initialize abatement_model with nesting_tree**"
   ]
  },
  {
   "cell_type": "code",
   "execution_count": 5,
   "metadata": {},
   "outputs": [],
   "source": [
    "FG = af.abatement_model(FG_tree)\n",
    "FG.run_abatement_model(repo=os.getcwd()+'\\\\gms\\\\FG',type_='CES',export_settings=True)"
   ]
  },
  {
   "cell_type": "markdown",
   "metadata": {},
   "source": [
    "#### **1.3: Finally, use the model to initialize gams model**"
   ]
  },
  {
   "cell_type": "markdown",
   "metadata": {},
   "source": [
    "Initialize model with database, and workfolder:"
   ]
  },
  {
   "cell_type": "code",
   "execution_count": 6,
   "metadata": {},
   "outputs": [],
   "source": [
    "FG_model = DB2Gams.gams_model(os.getcwd()+'\\\\workfolder')"
   ]
  },
  {
   "cell_type": "markdown",
   "metadata": {},
   "source": [
    "*NB: We can pass options to the solver using dict inputs*"
   ]
  },
  {
   "cell_type": "code",
   "execution_count": 7,
   "metadata": {},
   "outputs": [
    {
     "name": "stdout",
     "output_type": "stream",
     "text": [
      "WARNING: \\%FG\\% is not defined and was not replaced\n",
      "WARNING: \\%FG\\% is not defined and was not replaced\n",
      "WARNING: \\%FG\\% is not defined and was not replaced\n",
      "WARNING: \\%FG\\% is not defined and was not replaced\n",
      "WARNING: \\%FG\\% is not defined and was not replaced\n",
      "WARNING: \\%FG\\% is not defined and was not replaced\n",
      "WARNING: \\%FG\\% is not defined and was not replaced\n",
      "WARNING: \\%FG\\% is not defined and was not replaced\n"
     ]
    }
   ],
   "source": [
    "# FG_model.run(FG.model,options_run={'output': sys.stdout}) # Run with gams output in cell\n",
    "FG_model.run(FG.model) # run without"
   ]
  },
  {
   "cell_type": "markdown",
   "metadata": {},
   "source": [
    "The database:"
   ]
  },
  {
   "cell_type": "markdown",
   "metadata": {},
   "source": [
    "## **2: Energy-Service producing firms**"
   ]
  },
  {
   "cell_type": "code",
   "execution_count": 8,
   "metadata": {},
   "outputs": [],
   "source": [
    "ES_tree = af.nesting_tree(\n",
    "    name='ES',\n",
    "    tree= {\n",
    "        'E1': ['E10','E11'],\n",
    "        'E2': ['E20','E21','E22']},\n",
    "    **{'setname': 'n',\n",
    "       'alias'  : 'nn',\n",
    "       'alias2' : 'nnn',\n",
    "       'inpname': 'in_ES',\n",
    "       'aggname': 'agg_ES',\n",
    "       'mapname': 'in_ES2agg_ES',\n",
    "       'outname': 'out_ES',\n",
    "       'sector': 'sec_ES'}\n",
    ")"
   ]
  },
  {
   "cell_type": "markdown",
   "metadata": {},
   "source": [
    "Create sets, read in data from excel:"
   ]
  },
  {
   "cell_type": "code",
   "execution_count": 9,
   "metadata": {},
   "outputs": [],
   "source": [
    "ES_tree.run_all()\n",
    "read_type = {'1dvars': ['sigma'], 'vars_panel': {'mu': 2}}\n",
    "ES_tree.database.read_from_excel('Make_data//ES.xlsx',read_type)"
   ]
  },
  {
   "cell_type": "markdown",
   "metadata": {},
   "source": [
    "Initialize as model:"
   ]
  },
  {
   "cell_type": "code",
   "execution_count": 10,
   "metadata": {},
   "outputs": [],
   "source": [
    "ES = af.abatement_model(ES_tree)\n",
    "ES.run_abatement_model(repo=os.getcwd()+'\\\\gms\\\\ES',type_='normalized_CES',export_settings=True)"
   ]
  },
  {
   "cell_type": "markdown",
   "metadata": {},
   "source": [
    "Run model:"
   ]
  },
  {
   "cell_type": "code",
   "execution_count": 11,
   "metadata": {},
   "outputs": [],
   "source": [
    "gams_ES = DB2Gams.gams_model(work_folder = os.getcwd()+'\\\\workfolder')"
   ]
  },
  {
   "cell_type": "code",
   "execution_count": 12,
   "metadata": {},
   "outputs": [
    {
     "name": "stdout",
     "output_type": "stream",
     "text": [
      "WARNING: \\%ES\\% is not defined and was not replaced\n",
      "WARNING: \\%ES\\% is not defined and was not replaced\n",
      "WARNING: \\%ES\\% is not defined and was not replaced\n",
      "WARNING: \\%ES\\% is not defined and was not replaced\n",
      "WARNING: \\%ES\\% is not defined and was not replaced\n",
      "WARNING: \\%ES\\% is not defined and was not replaced\n",
      "WARNING: \\%ES\\% is not defined and was not replaced\n",
      "WARNING: \\%ES\\% is not defined and was not replaced\n"
     ]
    }
   ],
   "source": [
    "gams_ES.run(ES.model)"
   ]
  },
  {
   "cell_type": "markdown",
   "metadata": {},
   "source": [
    "## **3: Energy-Service-component producing firms**"
   ]
  },
  {
   "cell_type": "code",
   "execution_count": 13,
   "metadata": {},
   "outputs": [],
   "source": [
    "ESC_tree = af.nesting_tree(\n",
    "    name='ESC',\n",
    "    tree= {\n",
    "        'E10': ['E100'],\n",
    "        'E11': ['E110','E111'],\n",
    "        'E20': ['E200'],\n",
    "        'E21': ['E210','E211'],\n",
    "        'E22': ['E220','E221','E222']},\n",
    "    **{'setname': 'n',\n",
    "       'alias'  : 'nn',\n",
    "       'alias2' : 'nnn',\n",
    "       'inpname': 'in_ESC',\n",
    "       'aggname': 'agg_ESC',\n",
    "       'mapname': 'in_ESC2agg_ESC',\n",
    "       'outname': 'out_ESC',\n",
    "       'sector': 'sec_ESC'}\n",
    ")"
   ]
  },
  {
   "cell_type": "code",
   "execution_count": 14,
   "metadata": {},
   "outputs": [],
   "source": [
    "ESC_tree.run_all()\n",
    "read_type = {'1dvars': ['sigma']}\n",
    "ESC_tree.database.read_from_excel('Make_data//ESC.xlsx',read_type)"
   ]
  },
  {
   "cell_type": "code",
   "execution_count": 15,
   "metadata": {},
   "outputs": [],
   "source": [
    "ESC = af.abatement_model(ESC_tree)\n",
    "ESC.run_abatement_model(repo=os.getcwd()+'\\\\gms\\\\ES',type_='MNL',export_settings=True)"
   ]
  },
  {
   "cell_type": "markdown",
   "metadata": {},
   "source": [
    "Run model:"
   ]
  },
  {
   "cell_type": "code",
   "execution_count": 16,
   "metadata": {},
   "outputs": [],
   "source": [
    "gams_ESC = DB2Gams.gams_model(work_folder = os.getcwd()+'\\\\workfolder')"
   ]
  },
  {
   "cell_type": "code",
   "execution_count": 17,
   "metadata": {},
   "outputs": [
    {
     "name": "stdout",
     "output_type": "stream",
     "text": [
      "WARNING: \\%ESC\\% is not defined and was not replaced\n",
      "WARNING: \\%ESC\\% is not defined and was not replaced\n",
      "WARNING: \\%ESC\\% is not defined and was not replaced\n",
      "WARNING: \\%ESC\\% is not defined and was not replaced\n",
      "WARNING: \\%ESC\\% is not defined and was not replaced\n",
      "WARNING: \\%ESC\\% is not defined and was not replaced\n",
      "WARNING: \\%ESC\\% is not defined and was not replaced\n",
      "WARNING: \\%ESC\\% is not defined and was not replaced\n"
     ]
    }
   ],
   "source": [
    "gams_ESC.run(ESC.model)"
   ]
  },
  {
   "cell_type": "markdown",
   "metadata": {},
   "source": [
    "## **4: Energy-service technologies**"
   ]
  },
  {
   "cell_type": "markdown",
   "metadata": {},
   "source": [
    "A nesting tree with input-split, and output-split models:"
   ]
  },
  {
   "cell_type": "markdown",
   "metadata": {},
   "source": [
    "**Baseline component-technologies**"
   ]
  },
  {
   "cell_type": "markdown",
   "metadata": {},
   "source": [
    "*Tree:*"
   ]
  },
  {
   "cell_type": "code",
   "execution_count": 18,
   "metadata": {},
   "outputs": [],
   "source": [
    "Tech_tree_base = af.nesting_tree(\n",
    "    name='Tbase',\n",
    "    tree={'E100': ['B1_E100','B2_E100','K_E100'],\n",
    "          'E200': ['B2_E200','B2_E200','K_E200']},\n",
    "    **{'setname': 'n',\n",
    "       'alias'  : 'nn',\n",
    "       'alias2' : 'nnn',\n",
    "       'inpname': 'in_Tbase',\n",
    "       'aggname': 'agg_Tbase',\n",
    "       'mapname': 'in_Tbase2agg_Tbase',\n",
    "       'outname': 'out_Tbase',\n",
    "       'sector' : 'sec_Tbase'}\n",
    ")\n",
    "Tech_tree_base.run_all()"
   ]
  },
  {
   "cell_type": "markdown",
   "metadata": {},
   "source": [
    "*Write model:*"
   ]
  },
  {
   "cell_type": "code",
   "execution_count": 19,
   "metadata": {},
   "outputs": [],
   "source": [
    "Tbase = af.abatement_model(Tech_tree_base)\n",
    "Tbase.run_abatement_model(repo=os.getcwd()+'\\\\gms\\\\Tbase',type_='CES',export_settings=True)"
   ]
  },
  {
   "cell_type": "markdown",
   "metadata": {},
   "source": [
    "*Run model:*"
   ]
  },
  {
   "cell_type": "code",
   "execution_count": 20,
   "metadata": {},
   "outputs": [
    {
     "name": "stdout",
     "output_type": "stream",
     "text": [
      "WARNING: \\%Tbase\\% is not defined and was not replaced\n",
      "WARNING: \\%Tbase\\% is not defined and was not replaced\n",
      "WARNING: \\%Tbase\\% is not defined and was not replaced\n",
      "WARNING: \\%Tbase\\% is not defined and was not replaced\n",
      "WARNING: \\%Tbase\\% is not defined and was not replaced\n",
      "WARNING: \\%Tbase\\% is not defined and was not replaced\n",
      "WARNING: \\%Tbase\\% is not defined and was not replaced\n",
      "WARNING: \\%Tbase\\% is not defined and was not replaced\n"
     ]
    }
   ],
   "source": [
    "gams_Tbase = DB2Gams.gams_model(os.getcwd()+'\\\\workfolder')\n",
    "gams_Tbase.run(Tbase.model)"
   ]
  },
  {
   "cell_type": "markdown",
   "metadata": {},
   "source": [
    "**None baseline component-technologies**"
   ]
  },
  {
   "cell_type": "code",
   "execution_count": 23,
   "metadata": {},
   "outputs": [],
   "source": [
    "Tech_tree = af.nesting_tree_with_CET(\n",
    "    name='T', \n",
    "    tree={'in': {'E110': ['B1_E110','B2_E110'],\n",
    "                 'E210': ['B1_E210','B2_E210'],\n",
    "                 'E220': ['B1_E220','B2_E220'],\n",
    "                 'T1'  : ['B1_T1','B2_T1','K_T1'],\n",
    "                 'T2'  : ['B1_T2','B2_T2','K_T2'],\n",
    "                 'T3'  : ['B1_T3','B2_T3','K_T3']},\n",
    "         'out': {'T1'  : ['E111'],\n",
    "                 'T2'  : ['E211', 'E221'],\n",
    "                 'T3'  : ['E222']}},\n",
    "    **{'setname': 'n',\n",
    "       'alias'  : 'nn',\n",
    "       'alias2' : 'nnn',\n",
    "       'in_map' : 'in_map_T',\n",
    "       'out_map': 'out_map_T',\n",
    "       'all_map': 'all_map_T',\n",
    "       'in_endo': 'in_endo_T',\n",
    "       'out_endo': 'out_endo_T',\n",
    "       'in_agg' : 'in_agg_T',\n",
    "       'out_agg': 'out_agg_T',\n",
    "       'all_agg': 'all_agg_T',\n",
    "       'inpname': 'input_T',\n",
    "       'outname': 'output_T'\n",
    "       })"
   ]
  },
  {
   "cell_type": "code",
   "execution_count": 24,
   "metadata": {},
   "outputs": [],
   "source": [
    "Tech_tree.run_all()"
   ]
  },
  {
   "cell_type": "code",
   "execution_count": 25,
   "metadata": {},
   "outputs": [],
   "source": [
    "Tech = af.abatement_model_with_CET(Tech_tree)\n",
    "Tech.run_abatement_model(repo=os.getcwd()+'\\\\gms\\\\Tech',type_in='CES',type_out='CES',export_settings=True)"
   ]
  },
  {
   "cell_type": "code",
   "execution_count": 26,
   "metadata": {},
   "outputs": [],
   "source": [
    "gams_Tech = DB2Gams.gams_model(work_folder = os.getcwd()+'\\\\workfolder')"
   ]
  },
  {
   "cell_type": "code",
   "execution_count": 27,
   "metadata": {},
   "outputs": [
    {
     "name": "stdout",
     "output_type": "stream",
     "text": [
      "WARNING: \\%T\\% is not defined and was not replaced\n",
      "WARNING: \\%T\\% is not defined and was not replaced\n",
      "WARNING: \\%T\\% is not defined and was not replaced\n",
      "WARNING: \\%T\\% is not defined and was not replaced\n",
      "WARNING: \\%T\\% is not defined and was not replaced\n",
      "WARNING: \\%T\\% is not defined and was not replaced\n",
      "WARNING: \\%T\\% is not defined and was not replaced\n",
      "WARNING: \\%T\\% is not defined and was not replaced\n"
     ]
    }
   ],
   "source": [
    "gams_Tech.run(Tech.model)"
   ]
  }
 ],
 "metadata": {
  "kernelspec": {
   "display_name": "Python 3",
   "language": "python",
   "name": "python3"
  },
  "language_info": {
   "codemirror_mode": {
    "name": "ipython",
    "version": 3
   },
   "file_extension": ".py",
   "mimetype": "text/x-python",
   "name": "python",
   "nbconvert_exporter": "python",
   "pygments_lexer": "ipython3",
   "version": "3.7.4"
  }
 },
 "nbformat": 4,
 "nbformat_minor": 4
}

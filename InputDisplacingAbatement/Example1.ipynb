{
 "cells": [
  {
   "cell_type": "markdown",
   "metadata": {},
   "source": [
    "# **Example of abatement model from data**"
   ]
  },
  {
   "cell_type": "code",
   "execution_count": 1,
   "metadata": {},
   "outputs": [],
   "source": [
    "import os\n",
    "import sys\n",
    "import abatement_functions as af\n",
    "import DB2Gams"
   ]
  },
  {
   "cell_type": "markdown",
   "metadata": {},
   "source": [
    "We consider a somewhat simple instance of the *generally defined energy-services* model outlined in the paper. In particular, we consider the nesting tree:\n",
    "\n",
    "[<img src=\"NestingTree.png\" width=\"650\"/>](NestingTree.png)"
   ]
  },
  {
   "cell_type": "markdown",
   "metadata": {},
   "source": [
    "We have four 'sub-sectors':\n",
    "* Final goods (FG): Combines $K,E_1,E_2$ to produde $Y$. Energy-services are nested in $E$.\n",
    "* Energy-service sector (ES): One combines $(e_1^0,e_1^1)$ to produce $E_1$, the other combines $(e_2^0,e_2^1,e_2^2)$ to produce $E_2$.\n",
    "* Energy-service-component sector (ESC): \n",
    "    * One combines $(e_1^1(0), e_1^1(1))$ to produce $e_1^1$,\n",
    "    * another combines $(e_2^1(0),e_2^1(1))$ to produce $e_2^1$,\n",
    "    * a final combines $(e_2^2(0),e_2^2(1),e_2^2(2))$ to produce $e_2^2$.\n",
    "* Technology sector (T): \n",
    "    * Baseline components are produced by standard CES type production $(e_1^0,e_2^0)$. \n",
    "    * Two technologies only produce one type: $u_1$ produces $e_1^1(1)$, and $u_3$ produces $e_2^2(2)$.\n",
    "    * Finally, technology $u_2$ produces both $e_2^1(1)$ and $e_2^2(1)$.\n",
    "    * All technologies use a combination of fuels $(B_1,B_2)$ and technology capital $(K)$ to produce its outputs."
   ]
  },
  {
   "cell_type": "markdown",
   "metadata": {},
   "source": [
    "### **1: Set up nesting structure for sectors**"
   ]
  },
  {
   "cell_type": "markdown",
   "metadata": {},
   "source": [
    "Splitting up the nesting tree for each sector we have: "
   ]
  },
  {
   "cell_type": "markdown",
   "metadata": {},
   "source": [
    "*Final goods sector:*"
   ]
  },
  {
   "cell_type": "code",
   "execution_count": 2,
   "metadata": {},
   "outputs": [],
   "source": [
    "nesting_trees = {}\n",
    "nesting_trees['FG'] = af.nesting_tree(\n",
    "    name='FG',\n",
    "    tree = {\n",
    "        'KE': ['K','E'],\n",
    "        'E' : ['E1','E2']}\n",
    ")\n",
    "nesting_trees['FG'].run_all()"
   ]
  },
  {
   "cell_type": "markdown",
   "metadata": {},
   "source": [
    "*Energy service sector:*"
   ]
  },
  {
   "cell_type": "code",
   "execution_count": 3,
   "metadata": {},
   "outputs": [],
   "source": [
    "nesting_trees['ES'] = af.nesting_tree(\n",
    "    name='ES',\n",
    "    tree= {\n",
    "        'E1': ['E10','E11'],\n",
    "        'E2': ['E20','E21','E22']}\n",
    ")\n",
    "nesting_trees['ES'].run_all()"
   ]
  },
  {
   "cell_type": "markdown",
   "metadata": {},
   "source": [
    "*Energy-service-components sector:*"
   ]
  },
  {
   "cell_type": "code",
   "execution_count": 4,
   "metadata": {},
   "outputs": [],
   "source": [
    "nesting_trees['ESC'] = af.nesting_tree(\n",
    "    name='ESC',\n",
    "    tree= {\n",
    "        'E10': ['E100'],\n",
    "        'E20': ['E200'],\n",
    "        'E11': ['E110','E111'],\n",
    "        'E21': ['E210','E211'],\n",
    "        'E22': ['E220','E221','E222']}\n",
    ")\n",
    "nesting_trees['ESC'].run_all()"
   ]
  },
  {
   "cell_type": "markdown",
   "metadata": {},
   "source": [
    "*Baseline technologies:*"
   ]
  },
  {
   "cell_type": "code",
   "execution_count": 5,
   "metadata": {},
   "outputs": [],
   "source": [
    "nesting_trees['Tbase'] = af.nesting_tree(\n",
    "    name='Tbase',\n",
    "    tree={'E100': ['B1_E100','B2_E100','K_E100'],\n",
    "          'E200': ['B1_E200','B2_E200','K_E200']}\n",
    ")\n",
    "nesting_trees['Tbase'].run_all()"
   ]
  },
  {
   "cell_type": "markdown",
   "metadata": {},
   "source": [
    "*Other technologies:*"
   ]
  },
  {
   "cell_type": "code",
   "execution_count": 6,
   "metadata": {},
   "outputs": [],
   "source": [
    "nesting_trees['T'] = af.nesting_tree_with_CET(\n",
    "    name='T', \n",
    "    tree={'in': {'E110': ['B1_E110','B2_E110'],\n",
    "                 'E210': ['B1_E210','B2_E210'],\n",
    "                 'E220': ['B1_E220','B2_E220'],\n",
    "                 'T1'  : ['B1_T1','B2_T1','K_T1'],\n",
    "                 'T2'  : ['B1_T2','B2_T2','K_T2'],\n",
    "                 'T3'  : ['B1_T3','B2_T3','K_T3']},\n",
    "         'out': {'T1'  : ['E111'],\n",
    "                 'T2'  : ['E211', 'E221'],\n",
    "                 'T3'  : ['E222']}}\n",
    ")\n",
    "nesting_trees['T'].run_all()"
   ]
  },
  {
   "cell_type": "markdown",
   "metadata": {},
   "source": [
    "### **2: Read in data**"
   ]
  },
  {
   "cell_type": "markdown",
   "metadata": {},
   "source": [
    "Share parameters $(\\mu)$ and elasticities/smoothing parameters $(\\sigma)$ are read from excel-sheets:"
   ]
  },
  {
   "cell_type": "code",
   "execution_count": 7,
   "metadata": {},
   "outputs": [],
   "source": [
    "read_type = {'1dvars': ['sigma','q'],'vars_panel': {'mu': 2}} \n",
    "read_type_CET = {'1dvars': ['sigma','q','eta'], 'vars_panel': {'mu': 2}}\n",
    "nesting_trees['FG'].database.read_from_excel('Make_data//FinalGoods.xlsx',read_type)\n",
    "nesting_trees['ES'].database.read_from_excel('Make_data//ES.xlsx',read_type)\n",
    "nesting_trees['ESC'].database.read_from_excel('Make_data//ESC.xlsx',read_type)\n",
    "nesting_trees['Tbase'].database.read_from_excel('Make_data//Tbase.xlsx',read_type)\n",
    "nesting_trees['T'].database.read_from_excel('Make_data//T.xlsx',read_type_CET)"
   ]
  },
  {
   "cell_type": "markdown",
   "metadata": {},
   "source": [
    "## **3: Run models separately**"
   ]
  },
  {
   "cell_type": "markdown",
   "metadata": {},
   "source": [
    "We can choose between a multinomial-logit like aggregation (MNL), a normalized CES - CET for output-split - (normalized_CES), and a regular CES function (CES)."
   ]
  },
  {
   "cell_type": "markdown",
   "metadata": {},
   "source": [
    "*Write gams files to folders, create and export settings as well:*"
   ]
  },
  {
   "cell_type": "code",
   "execution_count": 8,
   "metadata": {},
   "outputs": [],
   "source": [
    "repos = {key: os.getcwd()+'\\\\gms\\\\SeparateRun\\\\'+key for key in nesting_trees}\n",
    "model_settings = {key: af.abatement_model(nesting_trees[key]) if isinstance(nesting_trees[key],af.nesting_tree) \n",
    "                  else af.abatement_model_with_CET(nesting_trees[key]) for key in nesting_trees}\n",
    "# Run:\n",
    "model_settings['FG'].run_abatement_model(repo=repos['FG'],type_='CES',export_settings=True)\n",
    "model_settings['ES'].run_abatement_model(repo=repos['ES'],type_='normalized_CES',export_settings=True)\n",
    "model_settings['ESC'].run_abatement_model(repo=repos['ESC'],type_='normalized_CES',export_settings=True)\n",
    "model_settings['Tbase'].run_abatement_model(repo=repos['Tbase'],type_='CES',export_settings=True)\n",
    "model_settings['T'].run_abatement_model(repo=repos['T'],type_in='CES',type_out='MNL',export_settings=True)"
   ]
  },
  {
   "cell_type": "markdown",
   "metadata": {},
   "source": [
    "*Models:*"
   ]
  },
  {
   "cell_type": "code",
   "execution_count": 9,
   "metadata": {},
   "outputs": [],
   "source": [
    "workfolder = os.getcwd()+'\\\\workfolder'\n",
    "models = {key: DB2Gams.gams_model(workfolder) for key in nesting_trees}\n",
    "[models[key].run(model_settings[key].model) for key in nesting_trees];"
   ]
  },
  {
   "cell_type": "markdown",
   "metadata": {},
   "source": [
    "We can access the solution databases at *models[key].out_db*."
   ]
  },
  {
   "cell_type": "markdown",
   "metadata": {},
   "source": [
    "### **4: Combine models**"
   ]
  },
  {
   "cell_type": "markdown",
   "metadata": {},
   "source": [
    "Create list of *gams_settings* objects:"
   ]
  },
  {
   "cell_type": "code",
   "execution_count": 11,
   "metadata": {},
   "outputs": [],
   "source": [
    "list_of_settings = [model_settings[key].model for key in model_settings]"
   ]
  },
  {
   "cell_type": "markdown",
   "metadata": {},
   "source": [
    "Merge settings:"
   ]
  },
  {
   "cell_type": "code",
   "execution_count": 12,
   "metadata": {},
   "outputs": [],
   "source": [
    "merged_settings = DB2Gams.mgs.merge(list_of_settings)"
   ]
  },
  {
   "cell_type": "markdown",
   "metadata": {},
   "source": [
    "Run combined model:"
   ]
  },
  {
   "cell_type": "code",
   "execution_count": 13,
   "metadata": {},
   "outputs": [],
   "source": [
    "combined_model= DB2Gams.gams_model(workfolder)\n",
    "combined_model.run(merged_settings)"
   ]
  }
 ],
 "metadata": {
  "kernelspec": {
   "display_name": "Python 3",
   "language": "python",
   "name": "python3"
  },
  "language_info": {
   "codemirror_mode": {
    "name": "ipython",
    "version": 3
   },
   "file_extension": ".py",
   "mimetype": "text/x-python",
   "name": "python",
   "nbconvert_exporter": "python",
   "pygments_lexer": "ipython3",
   "version": "3.7.4"
  }
 },
 "nbformat": 4,
 "nbformat_minor": 4
}

{
 "cells": [
  {
   "cell_type": "markdown",
   "metadata": {},
   "source": [
    "# **Example of abatement model from data**"
   ]
  },
  {
   "cell_type": "markdown",
   "metadata": {},
   "source": [
    "*This example shows (1) how to write a gams model with nesting trees, (2) Set up the gams_model (python object), (3) run models separately, and (4) merge them and run them simultaneously.*"
   ]
  },
  {
   "cell_type": "code",
   "execution_count": 1,
   "metadata": {},
   "outputs": [],
   "source": [
    "import os\n",
    "import sys\n",
    "import numpy as np\n",
    "import pandas as pd\n",
    "import abatement_functions as af\n",
    "import DB2Gams"
   ]
  },
  {
   "cell_type": "markdown",
   "metadata": {},
   "source": [
    "We consider a somewhat simple instance of the *generally defined energy-services* model outlined in the paper. In particular, we consider the nesting tree:\n",
    "\n",
    "[<img src=\"NestingTree.png\" width=\"650\"/>](NestingTree.png)"
   ]
  },
  {
   "cell_type": "markdown",
   "metadata": {},
   "source": [
    "We have four 'sub-sectors':\n",
    "* Final goods (FG): Combines $K,E_1,E_2$ to produde $Y$. Energy-services are nested in $E$.\n",
    "* Energy-service sector (ES): One combines $(e_1^0,e_1^1)$ to produce $E_1$, the other combines $(e_2^0,e_2^1,e_2^2)$ to produce $E_2$.\n",
    "* Energy-service-component sector (ESC): \n",
    "    * One combines $(e_1^1(0), e_1^1(1))$ to produce $e_1^1$,\n",
    "    * another combines $(e_2^1(0),e_2^1(1))$ to produce $e_2^1$,\n",
    "    * a final combines $(e_2^2(0),e_2^2(1),e_2^2(2))$ to produce $e_2^2$.\n",
    "* Technology sector (T): \n",
    "    * Baseline components are produced by standard CES type production $(e_1^0,e_2^0)$. \n",
    "    * Two technologies only produce one type: $u_1$ produces $e_1^1(1)$, and $u_3$ produces $e_2^2(2)$.\n",
    "    * Finally, technology $u_2$ produces both $e_2^1(1)$ and $e_2^2(1)$.\n",
    "    * All technologies use a combination of fuels $(B_1,B_2)$ and technology capital $(K)$ to produce its outputs."
   ]
  },
  {
   "cell_type": "markdown",
   "metadata": {},
   "source": [
    "### **1: Set up nesting structure for sectors**"
   ]
  },
  {
   "cell_type": "markdown",
   "metadata": {},
   "source": [
    "Splitting up the nesting tree for each sector we have: "
   ]
  },
  {
   "cell_type": "markdown",
   "metadata": {},
   "source": [
    "*Final goods sector:*"
   ]
  },
  {
   "cell_type": "code",
   "execution_count": 2,
   "metadata": {},
   "outputs": [],
   "source": [
    "nesting_trees = {}\n",
    "nesting_trees['FG'] = af.nesting_tree(\n",
    "    name='FG',\n",
    "    tree = {\n",
    "        'KE': ['K','E'],\n",
    "        'E' : ['E1','E2']}\n",
    ")\n",
    "nesting_trees['FG'].run_all()"
   ]
  },
  {
   "cell_type": "markdown",
   "metadata": {},
   "source": [
    "*Energy service sector:*"
   ]
  },
  {
   "cell_type": "code",
   "execution_count": 3,
   "metadata": {},
   "outputs": [],
   "source": [
    "nesting_trees['ES'] = af.nesting_tree(\n",
    "    name='ES',\n",
    "    tree= {\n",
    "        'E1': ['E10','E11'],\n",
    "        'E2': ['E20','E21','E22']}\n",
    ")\n",
    "nesting_trees['ES'].run_all()"
   ]
  },
  {
   "cell_type": "markdown",
   "metadata": {},
   "source": [
    "*Energy-service-components sector:*"
   ]
  },
  {
   "cell_type": "code",
   "execution_count": 4,
   "metadata": {},
   "outputs": [],
   "source": [
    "nesting_trees['ESC'] = af.nesting_tree(\n",
    "    name='ESC',\n",
    "    tree= {\n",
    "        'E10': ['E100'],\n",
    "        'E20': ['E200'],\n",
    "        'E11': ['E110','E111'],\n",
    "        'E21': ['E210','E211'],\n",
    "        'E22': ['E220','E221','E222']}\n",
    ")\n",
    "nesting_trees['ESC'].run_all()"
   ]
  },
  {
   "cell_type": "markdown",
   "metadata": {},
   "source": [
    "*Baseline technologies:*"
   ]
  },
  {
   "cell_type": "code",
   "execution_count": 5,
   "metadata": {},
   "outputs": [],
   "source": [
    "nesting_trees['Tbase'] = af.nesting_tree(\n",
    "    name='Tbase',\n",
    "    tree={'E100': ['B1_E100','B2_E100','K_E100'],\n",
    "          'E200': ['B1_E200','B2_E200','K_E200']}\n",
    ")\n",
    "nesting_trees['Tbase'].run_all()"
   ]
  },
  {
   "cell_type": "markdown",
   "metadata": {},
   "source": [
    "*Other technologies:*"
   ]
  },
  {
   "cell_type": "code",
   "execution_count": 6,
   "metadata": {},
   "outputs": [],
   "source": [
    "nesting_trees['T'] = af.nesting_tree_with_CET(\n",
    "    name='T', \n",
    "    tree={'in': {'E110': ['B1_E110','B2_E110'],\n",
    "                 'E210': ['B1_E210','B2_E210'],\n",
    "                 'E220': ['B1_E220','B2_E220'],\n",
    "                 'T1'  : ['B1_T1','B2_T1','K_T1'],\n",
    "                 'T2'  : ['B1_T2','B2_T2','K_T2'],\n",
    "                 'T3'  : ['B1_T3','B2_T3','K_T3']},\n",
    "         'out': {'T1'  : ['E111'],\n",
    "                 'T2'  : ['E211', 'E221'],\n",
    "                 'T3'  : ['E222']}}\n",
    ")\n",
    "nesting_trees['T'].run_all()"
   ]
  },
  {
   "cell_type": "markdown",
   "metadata": {},
   "source": [
    "### **2: Read in data**"
   ]
  },
  {
   "cell_type": "markdown",
   "metadata": {},
   "source": [
    "Share parameters $(\\mu)$ and elasticities/smoothing parameters $(\\sigma)$ are read from excel-sheets:"
   ]
  },
  {
   "cell_type": "code",
   "execution_count": 7,
   "metadata": {},
   "outputs": [],
   "source": [
    "read_type = {'1dvars': ['sigma','q'],'vars_panel': {'mu': 2}} \n",
    "read_type_CET = {'1dvars': ['sigma','q','eta'], 'vars_panel': {'mu': 2}}\n",
    "nesting_trees['FG'].database.read_from_excel('Make_data//FinalGoods.xlsx',read_type)\n",
    "nesting_trees['ES'].database.read_from_excel('Make_data//ES.xlsx',read_type)\n",
    "nesting_trees['ESC'].database.read_from_excel('Make_data//ESC.xlsx',read_type)\n",
    "nesting_trees['Tbase'].database.read_from_excel('Make_data//Tbase.xlsx',read_type)\n",
    "nesting_trees['T'].database.read_from_excel('Make_data//T.xlsx',read_type_CET)"
   ]
  },
  {
   "cell_type": "markdown",
   "metadata": {},
   "source": [
    "## **3: Run models separately**"
   ]
  },
  {
   "cell_type": "markdown",
   "metadata": {},
   "source": [
    "We can choose between a multinomial-logit like aggregation (MNL), a normalized CES - CET for output-split - (normalized_CES), and a regular CES function (CES)."
   ]
  },
  {
   "cell_type": "markdown",
   "metadata": {},
   "source": [
    "*Write gams files to folders, create and export settings as well:*"
   ]
  },
  {
   "cell_type": "code",
   "execution_count": 8,
   "metadata": {},
   "outputs": [],
   "source": [
    "repos = {key: os.getcwd()+'\\\\gms\\\\SeparateRun\\\\'+key for key in nesting_trees}\n",
    "model_settings = {key: af.abatement_model(nesting_trees[key]) if isinstance(nesting_trees[key],af.nesting_tree) \n",
    "                  else af.abatement_model_with_CET(nesting_trees[key]) for key in nesting_trees}\n",
    "# Run:\n",
    "model_settings['FG'].run_abatement_model(repo=repos['FG'],type_='CES',export_settings=True)\n",
    "model_settings['ES'].run_abatement_model(repo=repos['ES'],type_='normalized_CES',export_settings=True)\n",
    "model_settings['ESC'].run_abatement_model(repo=repos['ESC'],type_='normalized_CES',export_settings=True)\n",
    "model_settings['Tbase'].run_abatement_model(repo=repos['Tbase'],type_='CES',export_settings=True)\n",
    "model_settings['T'].run_abatement_model(repo=repos['T'],type_in='CES',type_out='MNL',export_settings=True)"
   ]
  },
  {
   "cell_type": "markdown",
   "metadata": {},
   "source": [
    "*Models:*"
   ]
  },
  {
   "cell_type": "code",
   "execution_count": 9,
   "metadata": {},
   "outputs": [],
   "source": [
    "workfolder = os.getcwd()+'\\\\workfolder'\n",
    "models = {key: DB2Gams.gams_model(workfolder) for key in nesting_trees}\n",
    "[models[key].run(model_settings[key].model) for key in nesting_trees];"
   ]
  },
  {
   "cell_type": "markdown",
   "metadata": {},
   "source": [
    "We can access the solution databases at *models[key].out_db*."
   ]
  },
  {
   "cell_type": "markdown",
   "metadata": {},
   "source": [
    "### **4: Combine models**"
   ]
  },
  {
   "cell_type": "markdown",
   "metadata": {},
   "source": [
    "Create list of *gams_settings* objects:"
   ]
  },
  {
   "cell_type": "code",
   "execution_count": 10,
   "metadata": {},
   "outputs": [],
   "source": [
    "list_of_settings = [model_settings[key].model for key in model_settings]"
   ]
  },
  {
   "cell_type": "markdown",
   "metadata": {},
   "source": [
    "Merge settings:"
   ]
  },
  {
   "cell_type": "code",
   "execution_count": 11,
   "metadata": {},
   "outputs": [],
   "source": [
    "merged_settings = DB2Gams.mgs.merge(list_of_settings)"
   ]
  },
  {
   "cell_type": "markdown",
   "metadata": {},
   "source": [
    "Run combined model:"
   ]
  },
  {
   "cell_type": "code",
   "execution_count": 12,
   "metadata": {},
   "outputs": [],
   "source": [
    "c_model= DB2Gams.gams_model(workfolder)\n",
    "c_model.run(merged_settings)"
   ]
  },
  {
   "cell_type": "markdown",
   "metadata": {},
   "source": [
    "## **5: A wee bit of analysis**"
   ]
  },
  {
   "cell_type": "markdown",
   "metadata": {},
   "source": [
    "In this simple case illustrated in this example, we have not yet included any sets/mappings to collect information on various fuels. In this example, the use of fuels have been defined by the naming convention of $BX\\_Y$ with $BX$ denoting the fuel type $(B1,B2)$, and $Y$ denoting the energy-service/technology the fuel is used in. \n",
    "\n",
    "We use the naming convention to identify fuel types and capital:"
   ]
  },
  {
   "cell_type": "code",
   "execution_count": 13,
   "metadata": {},
   "outputs": [],
   "source": [
    "B1_types = pd.Index([x for x in c_model.out_db['n'] if 'B1_' in x],name='n')\n",
    "B2_types = pd.Index([x for x in c_model.out_db['n'] if 'B2_' in x],name='n')\n",
    "K_types = pd.Index([x for x in c_model.out_db['n'] if 'K_' in x or x=='K'],name='n')"
   ]
  },
  {
   "cell_type": "markdown",
   "metadata": {},
   "source": [
    "Total capital/fuel-use can then be defined as the sum:"
   ]
  },
  {
   "cell_type": "code",
   "execution_count": 14,
   "metadata": {},
   "outputs": [],
   "source": [
    "def compute_total(types,database):\n",
    "    y = 0\n",
    "    for x in types:\n",
    "        y += database['q'][x]\n",
    "    return y"
   ]
  },
  {
   "cell_type": "markdown",
   "metadata": {},
   "source": [
    "In the baseline run, total fuels and capital is then given by:"
   ]
  },
  {
   "cell_type": "code",
   "execution_count": 15,
   "metadata": {
    "jupyter": {
     "source_hidden": true
    }
   },
   "outputs": [
    {
     "name": "stdout",
     "output_type": "stream",
     "text": [
      "Use of B1: 0.3965574320728871\n",
      "Use of B2: 0.07831150502843914\n",
      "Use of K : 0.5565195091675649\n"
     ]
    }
   ],
   "source": [
    "print('Use of B1: '+str(compute_total(B1_types,c_model.out_db)))\n",
    "print('Use of B2: '+str(compute_total(B2_types,c_model.out_db)))\n",
    "print('Use of K : '+str(compute_total(K_types,c_model.out_db)))"
   ]
  },
  {
   "cell_type": "markdown",
   "metadata": {},
   "source": [
    "### **Gradually increase tax on one type of fuels**"
   ]
  },
  {
   "cell_type": "markdown",
   "metadata": {},
   "source": [
    "Let's consider gradually increasing the cost of $B_1$, the primary fuel used in the baseline run.\n",
    "\n",
    "To run an experiment, we define a checkpoint, an empty data-structure, and a loop for prices to solve for. The following adds a few steps and comments on how to simulate with more detailed control on solve options: "
   ]
  },
  {
   "cell_type": "markdown",
   "metadata": {},
   "source": [
    "*Simulate model in a loop, using a checkpoint to use latest solution as initial point in new iteration*"
   ]
  },
  {
   "cell_type": "markdown",
   "metadata": {},
   "source": [
    "*1: Create data structure for solutions + loop*"
   ]
  },
  {
   "cell_type": "code",
   "execution_count": 16,
   "metadata": {},
   "outputs": [],
   "source": [
    "price_loop = np.round(np.linspace(1,10,101),2)\n",
    "sol = pd.DataFrame(index=price_loop, columns=['B1_total', 'B2_total', 'K_total'])"
   ]
  },
  {
   "cell_type": "code",
   "execution_count": 17,
   "metadata": {},
   "outputs": [],
   "source": [
    "def update_df(x,sol,database):\n",
    "    sol['B1_total'].iloc[x] = compute_total(B1_types,database)\n",
    "    sol['B2_total'].iloc[x] = compute_total(B2_types,database)\n",
    "    sol['K_total'].iloc[x] = compute_total(K_types,database)"
   ]
  },
  {
   "cell_type": "markdown",
   "metadata": {},
   "source": [
    "*2: Run baseline model and store checkpoint*"
   ]
  },
  {
   "cell_type": "code",
   "execution_count": 18,
   "metadata": {},
   "outputs": [],
   "source": [
    "cp = c_model.ws.add_checkpoint() # create empty checkpoint\n",
    "c_model.run(merged_settings,options_run={'checkpoint': cp}) # run model and store in checkpoint cp\n",
    "update_df(0,sol,c_model.out_db) # Store baseline"
   ]
  },
  {
   "cell_type": "markdown",
   "metadata": {},
   "source": [
    "*3: Loop (note that loops inside gams are much faster when the run-time is small; this however, is much easier to adjust)*"
   ]
  },
  {
   "cell_type": "code",
   "execution_count": 19,
   "metadata": {},
   "outputs": [],
   "source": [
    "for x in range(len(price_loop)):\n",
    "    # Update prices in gams code:\n",
    "    update_string = \"\"\n",
    "    for i in B1_types:\n",
    "        update_string += f\"p.fx['{i}']={np.round(price_loop[x],2)};\\n\"\n",
    "    update_string += f\"solve {c_model.model.name} using CNS;\"     # resolve model after updated prices:\n",
    "    c_model.job = c_model.ws.add_job_from_string(update_string,cp)    # add job using checkpoint:\n",
    "    cp = c_model.ws.add_checkpoint() # add new empty checkpoint to store updated solution in\n",
    "    c_model.run(run_from_job=True,options_run={'checkpoint': cp}) # run job\n",
    "    update_df(x,sol,c_model.out_db) # update data we are interested in for each loop."
   ]
  },
  {
   "cell_type": "markdown",
   "metadata": {},
   "source": [
    "The result is that $B_1$ is gradually replaced by technology capital and $B_2$ (with current parameter values, the effect largely goes into capital). "
   ]
  },
  {
   "cell_type": "code",
   "execution_count": 25,
   "metadata": {},
   "outputs": [
    {
     "data": {
      "application/vnd.plotly.v1+json": {
       "config": {
        "plotlyServerURL": "https://plot.ly"
       },
       "data": [
        {
         "name": "B1_total",
         "type": "scatter",
         "x": [
          1,
          1.09,
          1.18,
          1.27,
          1.36,
          1.45,
          1.54,
          1.63,
          1.72,
          1.81,
          1.9,
          1.99,
          2.08,
          2.17,
          2.26,
          2.35,
          2.44,
          2.53,
          2.62,
          2.71,
          2.8,
          2.89,
          2.98,
          3.07,
          3.16,
          3.25,
          3.34,
          3.43,
          3.52,
          3.61,
          3.7,
          3.79,
          3.88,
          3.97,
          4.06,
          4.15,
          4.24,
          4.33,
          4.42,
          4.51,
          4.6,
          4.69,
          4.78,
          4.87,
          4.96,
          5.05,
          5.14,
          5.23,
          5.32,
          5.41,
          5.5,
          5.59,
          5.68,
          5.77,
          5.86,
          5.95,
          6.04,
          6.13,
          6.22,
          6.31,
          6.4,
          6.49,
          6.58,
          6.67,
          6.76,
          6.85,
          6.94,
          7.03,
          7.12,
          7.21,
          7.3,
          7.39,
          7.48,
          7.57,
          7.66,
          7.75,
          7.84,
          7.93,
          8.02,
          8.11,
          8.2,
          8.29,
          8.38,
          8.47,
          8.56,
          8.65,
          8.74,
          8.83,
          8.92,
          9.01,
          9.1,
          9.19,
          9.28,
          9.37,
          9.46,
          9.55,
          9.64,
          9.73,
          9.82,
          9.91,
          10
         ],
         "y": [
          0.3965574320728871,
          0.38711656045713455,
          0.3786901076576651,
          0.371106411738334,
          0.36423223977631874,
          0.3579623279853859,
          0.352212217692218,
          0.34691322249969947,
          0.3420088134994607,
          0.33745197190955295,
          0.3332032164312806,
          0.32922911050089415,
          0.3255011169118246,
          0.3219947078862378,
          0.31868866570632637,
          0.31556452736162866,
          0.3126061393390421,
          0.3097992975734409,
          0.307131453910776,
          0.3045914749836651,
          0.30216944280210406,
          0.2998564887197884,
          0.2976446543923086,
          0.29552677466480765,
          0.2934963784094439,
          0.29154760414289105,
          0.2896751278839761,
          0.28787410120302354,
          0.28614009780072774,
          0.2844690672599959,
          0.2828572948575838,
          0.28130136651732623,
          0.2797981381438647,
          0.27834470870307776,
          0.2769383965190599,
          0.2755767183423318,
          0.2742573708137156,
          0.2729782140059142,
          0.2717372567726161,
          0.2705326436747462,
          0.269362643286751,
          0.2682256377137333,
          0.2671201131737714,
          0.26604465151963036,
          0.26499792259093735,
          0.26397867730221547,
          0.26298574138442266,
          0.2620180097080952,
          0.2610744411251908,
          0.2601540537744538,
          0.2592559208017961,
          0.2583791664529591,
          0.2575229625007262,
          0.2566865249733055,
          0.25586911115428723,
          0.2550700168278972,
          0.2542885737461549,
          0.2535241472970888,
          0.2527761343553893,
          0.25204396129884393,
          0.25132708217563143,
          0.2506249770090844,
          0.2499371502278787,
          0.2492631292108171,
          0.24860246288244975,
          0.24795472067775054,
          0.24731949104225467,
          0.24669638057227505,
          0.2460850129462791,
          0.2454850279819399,
          0.24489608075612118,
          0.2443178407828843,
          0.24374999124504612,
          0.24319222827520684,
          0.2426442602825217,
          0.24210580732181647,
          0.2415766005019265,
          0.24105638143040886,
          0.24054490169201087,
          0.24004192235849334,
          0.23954721352760203,
          0.23906055388915792,
          0.23858173031640184,
          0.23811053748086938,
          0.2376467774892112,
          0.23719025954049414,
          0.23674079960263217,
          0.23629822010669316,
          0.23586234965792843,
          0.23543302276245115,
          0.2350100795685724,
          0.2345933656218717,
          0.23418273163315026,
          0.23377803325847216,
          0.23337913089055254,
          0.2329858894608141,
          0.2325981782514626,
          0.2322158707169959,
          0.231838844314586,
          0.2314669803428203,
          0.23110016378831516
         ]
        },
        {
         "name": "B2_total",
         "type": "scatter",
         "x": [
          1,
          1.09,
          1.18,
          1.27,
          1.36,
          1.45,
          1.54,
          1.63,
          1.72,
          1.81,
          1.9,
          1.99,
          2.08,
          2.17,
          2.26,
          2.35,
          2.44,
          2.53,
          2.62,
          2.71,
          2.8,
          2.89,
          2.98,
          3.07,
          3.16,
          3.25,
          3.34,
          3.43,
          3.52,
          3.61,
          3.7,
          3.79,
          3.88,
          3.97,
          4.06,
          4.15,
          4.24,
          4.33,
          4.42,
          4.51,
          4.6,
          4.69,
          4.78,
          4.87,
          4.96,
          5.05,
          5.14,
          5.23,
          5.32,
          5.41,
          5.5,
          5.59,
          5.68,
          5.77,
          5.86,
          5.95,
          6.04,
          6.13,
          6.22,
          6.31,
          6.4,
          6.49,
          6.58,
          6.67,
          6.76,
          6.85,
          6.94,
          7.03,
          7.12,
          7.21,
          7.3,
          7.39,
          7.48,
          7.57,
          7.66,
          7.75,
          7.84,
          7.93,
          8.02,
          8.11,
          8.2,
          8.29,
          8.38,
          8.47,
          8.56,
          8.65,
          8.74,
          8.83,
          8.92,
          9.01,
          9.1,
          9.19,
          9.28,
          9.37,
          9.46,
          9.55,
          9.64,
          9.73,
          9.82,
          9.91,
          10
         ],
         "y": [
          0.07831150502843914,
          0.07915097485040044,
          0.07990433060129425,
          0.08058310396167385,
          0.08119692306947765,
          0.08175388017734045,
          0.08226081972582765,
          0.08272356536545566,
          0.08314710004496283,
          0.08353570985020109,
          0.08389309967877226,
          0.08422248688877647,
          0.08452667760581034,
          0.08480812928420965,
          0.08506900230100883,
          0.08531120274361224,
          0.08553641808297022,
          0.08574614706526555,
          0.08594172487244198,
          0.08612434443479197,
          0.08629507446902686,
          0.08645487492806814,
          0.08660461019688948,
          0.08674506043959207,
          0.08687693138558981,
          0.08700086279808857,
          0.08711743582588727,
          0.08722717940538684,
          0.0873305758519195,
          0.08742806575680816,
          0.08752005228794059,
          0.08760690497628569,
          0.08768896305807856,
          0.08776653843185268,
          0.08783991828070165,
          0.08790936740279996,
          0.08797513028703724,
          0.08803743296542338,
          0.08809648466953185,
          0.08815247931452702,
          0.08820559683116319,
          0.08825600436344758,
          0.08830385734736076,
          0.08834930048405529,
          0.08839246861926273,
          0.08843348753917853,
          0.08847247469184162,
          0.0885095398419327,
          0.08854478566597618,
          0.08857830829411016,
          0.08861019780387532,
          0.08864053867085211,
          0.08866941018043262,
          0.08869688680453613,
          0.08872303854665994,
          0.08874793125829102,
          0.08877162692937925,
          0.08879418395528914,
          0.08881565738239426,
          0.08883609913425607,
          0.08885555822013115,
          0.08887408092737648,
          0.08889171099916413,
          0.08890848979878166,
          0.08892445645559306,
          0.08893964803043167,
          0.08895409960880521,
          0.08896784444718406,
          0.08898091407906286,
          0.0889933384194468,
          0.08900514586202385,
          0.08901636336960313,
          0.08902701655835041,
          0.08903712977630306,
          0.0890467261766054,
          0.08905582778586846,
          0.08906445556802109,
          0.08907262948399122,
          0.08908036854752552,
          0.08908769087743171,
          0.08909461374650263,
          0.08910115362736187,
          0.08910732623545109,
          0.08911314656936,
          0.08911862894868629,
          0.08912378704959649,
          0.0891286339382467,
          0.08913318210220819,
          0.08913744348003386,
          0.08914142948908974,
          0.08914515105176721,
          0.08914861862018199,
          0.08915184219945975,
          0.08915483136969964,
          0.08915759530669988,
          0.08916014280152701,
          0.08916248227899783,
          0.08916462181514644,
          0.08916656915373672,
          0.08916833172188088,
          0.08916991664481771
         ]
        },
        {
         "name": "K_total",
         "type": "scatter",
         "x": [
          1,
          1.09,
          1.18,
          1.27,
          1.36,
          1.45,
          1.54,
          1.63,
          1.72,
          1.81,
          1.9,
          1.99,
          2.08,
          2.17,
          2.26,
          2.35,
          2.44,
          2.53,
          2.62,
          2.71,
          2.8,
          2.89,
          2.98,
          3.07,
          3.16,
          3.25,
          3.34,
          3.43,
          3.52,
          3.61,
          3.7,
          3.79,
          3.88,
          3.97,
          4.06,
          4.15,
          4.24,
          4.33,
          4.42,
          4.51,
          4.6,
          4.69,
          4.78,
          4.87,
          4.96,
          5.05,
          5.14,
          5.23,
          5.32,
          5.41,
          5.5,
          5.59,
          5.68,
          5.77,
          5.86,
          5.95,
          6.04,
          6.13,
          6.22,
          6.31,
          6.4,
          6.49,
          6.58,
          6.67,
          6.76,
          6.85,
          6.94,
          7.03,
          7.12,
          7.21,
          7.3,
          7.39,
          7.48,
          7.57,
          7.66,
          7.75,
          7.84,
          7.93,
          8.02,
          8.11,
          8.2,
          8.29,
          8.38,
          8.47,
          8.56,
          8.65,
          8.74,
          8.83,
          8.92,
          9.01,
          9.1,
          9.19,
          9.28,
          9.37,
          9.46,
          9.55,
          9.64,
          9.73,
          9.82,
          9.91,
          10
         ],
         "y": [
          0.5565195091675649,
          0.5665429094203605,
          0.5760244840953925,
          0.585034511964604,
          0.5936302844703439,
          0.6018591163447716,
          0.6097605312262206,
          0.6173678801343576,
          0.62470956095359,
          0.6318099514919512,
          0.6386901332199029,
          0.6453684595838443,
          0.6518610072525772,
          0.6581819380435292,
          0.6643437918957948,
          0.6703577260403258,
          0.6762337117747862,
          0.68198069752863,
          0.6876067448874641,
          0.6931191428399643,
          0.6985245041206471,
          0.7038288471205049,
          0.7090376657197431,
          0.7141559891735306,
          0.7191884336896102,
          0.7241392470401324,
          0.7290123473043081,
          0.7338113566427037,
          0.7385396308471306,
          0.7432002852835807,
          0.7477962177431389,
          0.7523301286322176,
          0.7568045388650126,
          0.7612218057647409,
          0.7655841372336397,
          0.76989360441302,
          0.7741521530224214,
          0.7783616135399061,
          0.782523710362849,
          0.7866400700694278,
          0.7907122288848363,
          0.7947416394424746,
          0.7987296769186643,
          0.8026776446094114,
          0.8065867790091665,
          0.8104582544441447,
          0.8142931873064134,
          0.8180926399294602,
          0.8218576241411869,
          0.825589104526142,
          0.8292880014251962,
          0.8329551936977334,
          0.8365915212686617,
          0.8401977874801604,
          0.8437747612659354,
          0.8473231791639162,
          0.8508437471816658,
          0.8543371425273296,
          0.8578040152176614,
          0.8612449895735224,
          0.8646606656122355,
          0.8680516203452776,
          0.8714184089889838,
          0.8747615660952197,
          0.878081606660331,
          0.881379026903547,
          0.8846543055131539,
          0.8879079042985928,
          0.8911402690598185,
          0.894351830352189,
          0.8975430042053026,
          0.9007141927990848,
          0.9038657851001877,
          0.9069981574614766,
          0.9101116741871795,
          0.9132066880660544,
          0.916283540874744,
          0.919342563853315,
          0.9223840781548343,
          0.9254083952706758,
          0.9284158174331332,
          0.9314066379967939,
          0.9343811418000231,
          0.9373396055077965,
          0.9402822979370485,
          0.9432094803655996,
          0.9461214068256669,
          0.9490183243828776,
          0.9519004734016503,
          0.9547680877977485,
          0.9576213952787451,
          0.9604606175731036,
          0.9632859706485197,
          0.9660976649201314,
          0.968895905449165,
          0.971680892132548,
          0.9744528198839788,
          0.9772118788069245,
          0.9799582543599756,
          0.9826921275149688,
          0.9854136749082563
         ]
        }
       ],
       "layout": {
        "autosize": true,
        "template": {
         "data": {
          "bar": [
           {
            "error_x": {
             "color": "#2a3f5f"
            },
            "error_y": {
             "color": "#2a3f5f"
            },
            "marker": {
             "line": {
              "color": "#E5ECF6",
              "width": 0.5
             }
            },
            "type": "bar"
           }
          ],
          "barpolar": [
           {
            "marker": {
             "line": {
              "color": "#E5ECF6",
              "width": 0.5
             }
            },
            "type": "barpolar"
           }
          ],
          "carpet": [
           {
            "aaxis": {
             "endlinecolor": "#2a3f5f",
             "gridcolor": "white",
             "linecolor": "white",
             "minorgridcolor": "white",
             "startlinecolor": "#2a3f5f"
            },
            "baxis": {
             "endlinecolor": "#2a3f5f",
             "gridcolor": "white",
             "linecolor": "white",
             "minorgridcolor": "white",
             "startlinecolor": "#2a3f5f"
            },
            "type": "carpet"
           }
          ],
          "choropleth": [
           {
            "colorbar": {
             "outlinewidth": 0,
             "ticks": ""
            },
            "type": "choropleth"
           }
          ],
          "contour": [
           {
            "colorbar": {
             "outlinewidth": 0,
             "ticks": ""
            },
            "colorscale": [
             [
              0,
              "#0d0887"
             ],
             [
              0.1111111111111111,
              "#46039f"
             ],
             [
              0.2222222222222222,
              "#7201a8"
             ],
             [
              0.3333333333333333,
              "#9c179e"
             ],
             [
              0.4444444444444444,
              "#bd3786"
             ],
             [
              0.5555555555555556,
              "#d8576b"
             ],
             [
              0.6666666666666666,
              "#ed7953"
             ],
             [
              0.7777777777777778,
              "#fb9f3a"
             ],
             [
              0.8888888888888888,
              "#fdca26"
             ],
             [
              1,
              "#f0f921"
             ]
            ],
            "type": "contour"
           }
          ],
          "contourcarpet": [
           {
            "colorbar": {
             "outlinewidth": 0,
             "ticks": ""
            },
            "type": "contourcarpet"
           }
          ],
          "heatmap": [
           {
            "colorbar": {
             "outlinewidth": 0,
             "ticks": ""
            },
            "colorscale": [
             [
              0,
              "#0d0887"
             ],
             [
              0.1111111111111111,
              "#46039f"
             ],
             [
              0.2222222222222222,
              "#7201a8"
             ],
             [
              0.3333333333333333,
              "#9c179e"
             ],
             [
              0.4444444444444444,
              "#bd3786"
             ],
             [
              0.5555555555555556,
              "#d8576b"
             ],
             [
              0.6666666666666666,
              "#ed7953"
             ],
             [
              0.7777777777777778,
              "#fb9f3a"
             ],
             [
              0.8888888888888888,
              "#fdca26"
             ],
             [
              1,
              "#f0f921"
             ]
            ],
            "type": "heatmap"
           }
          ],
          "heatmapgl": [
           {
            "colorbar": {
             "outlinewidth": 0,
             "ticks": ""
            },
            "colorscale": [
             [
              0,
              "#0d0887"
             ],
             [
              0.1111111111111111,
              "#46039f"
             ],
             [
              0.2222222222222222,
              "#7201a8"
             ],
             [
              0.3333333333333333,
              "#9c179e"
             ],
             [
              0.4444444444444444,
              "#bd3786"
             ],
             [
              0.5555555555555556,
              "#d8576b"
             ],
             [
              0.6666666666666666,
              "#ed7953"
             ],
             [
              0.7777777777777778,
              "#fb9f3a"
             ],
             [
              0.8888888888888888,
              "#fdca26"
             ],
             [
              1,
              "#f0f921"
             ]
            ],
            "type": "heatmapgl"
           }
          ],
          "histogram": [
           {
            "marker": {
             "colorbar": {
              "outlinewidth": 0,
              "ticks": ""
             }
            },
            "type": "histogram"
           }
          ],
          "histogram2d": [
           {
            "colorbar": {
             "outlinewidth": 0,
             "ticks": ""
            },
            "colorscale": [
             [
              0,
              "#0d0887"
             ],
             [
              0.1111111111111111,
              "#46039f"
             ],
             [
              0.2222222222222222,
              "#7201a8"
             ],
             [
              0.3333333333333333,
              "#9c179e"
             ],
             [
              0.4444444444444444,
              "#bd3786"
             ],
             [
              0.5555555555555556,
              "#d8576b"
             ],
             [
              0.6666666666666666,
              "#ed7953"
             ],
             [
              0.7777777777777778,
              "#fb9f3a"
             ],
             [
              0.8888888888888888,
              "#fdca26"
             ],
             [
              1,
              "#f0f921"
             ]
            ],
            "type": "histogram2d"
           }
          ],
          "histogram2dcontour": [
           {
            "colorbar": {
             "outlinewidth": 0,
             "ticks": ""
            },
            "colorscale": [
             [
              0,
              "#0d0887"
             ],
             [
              0.1111111111111111,
              "#46039f"
             ],
             [
              0.2222222222222222,
              "#7201a8"
             ],
             [
              0.3333333333333333,
              "#9c179e"
             ],
             [
              0.4444444444444444,
              "#bd3786"
             ],
             [
              0.5555555555555556,
              "#d8576b"
             ],
             [
              0.6666666666666666,
              "#ed7953"
             ],
             [
              0.7777777777777778,
              "#fb9f3a"
             ],
             [
              0.8888888888888888,
              "#fdca26"
             ],
             [
              1,
              "#f0f921"
             ]
            ],
            "type": "histogram2dcontour"
           }
          ],
          "mesh3d": [
           {
            "colorbar": {
             "outlinewidth": 0,
             "ticks": ""
            },
            "type": "mesh3d"
           }
          ],
          "parcoords": [
           {
            "line": {
             "colorbar": {
              "outlinewidth": 0,
              "ticks": ""
             }
            },
            "type": "parcoords"
           }
          ],
          "pie": [
           {
            "automargin": true,
            "type": "pie"
           }
          ],
          "scatter": [
           {
            "marker": {
             "colorbar": {
              "outlinewidth": 0,
              "ticks": ""
             }
            },
            "type": "scatter"
           }
          ],
          "scatter3d": [
           {
            "line": {
             "colorbar": {
              "outlinewidth": 0,
              "ticks": ""
             }
            },
            "marker": {
             "colorbar": {
              "outlinewidth": 0,
              "ticks": ""
             }
            },
            "type": "scatter3d"
           }
          ],
          "scattercarpet": [
           {
            "marker": {
             "colorbar": {
              "outlinewidth": 0,
              "ticks": ""
             }
            },
            "type": "scattercarpet"
           }
          ],
          "scattergeo": [
           {
            "marker": {
             "colorbar": {
              "outlinewidth": 0,
              "ticks": ""
             }
            },
            "type": "scattergeo"
           }
          ],
          "scattergl": [
           {
            "marker": {
             "colorbar": {
              "outlinewidth": 0,
              "ticks": ""
             }
            },
            "type": "scattergl"
           }
          ],
          "scattermapbox": [
           {
            "marker": {
             "colorbar": {
              "outlinewidth": 0,
              "ticks": ""
             }
            },
            "type": "scattermapbox"
           }
          ],
          "scatterpolar": [
           {
            "marker": {
             "colorbar": {
              "outlinewidth": 0,
              "ticks": ""
             }
            },
            "type": "scatterpolar"
           }
          ],
          "scatterpolargl": [
           {
            "marker": {
             "colorbar": {
              "outlinewidth": 0,
              "ticks": ""
             }
            },
            "type": "scatterpolargl"
           }
          ],
          "scatterternary": [
           {
            "marker": {
             "colorbar": {
              "outlinewidth": 0,
              "ticks": ""
             }
            },
            "type": "scatterternary"
           }
          ],
          "surface": [
           {
            "colorbar": {
             "outlinewidth": 0,
             "ticks": ""
            },
            "colorscale": [
             [
              0,
              "#0d0887"
             ],
             [
              0.1111111111111111,
              "#46039f"
             ],
             [
              0.2222222222222222,
              "#7201a8"
             ],
             [
              0.3333333333333333,
              "#9c179e"
             ],
             [
              0.4444444444444444,
              "#bd3786"
             ],
             [
              0.5555555555555556,
              "#d8576b"
             ],
             [
              0.6666666666666666,
              "#ed7953"
             ],
             [
              0.7777777777777778,
              "#fb9f3a"
             ],
             [
              0.8888888888888888,
              "#fdca26"
             ],
             [
              1,
              "#f0f921"
             ]
            ],
            "type": "surface"
           }
          ],
          "table": [
           {
            "cells": {
             "fill": {
              "color": "#EBF0F8"
             },
             "line": {
              "color": "white"
             }
            },
            "header": {
             "fill": {
              "color": "#C8D4E3"
             },
             "line": {
              "color": "white"
             }
            },
            "type": "table"
           }
          ]
         },
         "layout": {
          "annotationdefaults": {
           "arrowcolor": "#2a3f5f",
           "arrowhead": 0,
           "arrowwidth": 1
          },
          "coloraxis": {
           "colorbar": {
            "outlinewidth": 0,
            "ticks": ""
           }
          },
          "colorscale": {
           "diverging": [
            [
             0,
             "#8e0152"
            ],
            [
             0.1,
             "#c51b7d"
            ],
            [
             0.2,
             "#de77ae"
            ],
            [
             0.3,
             "#f1b6da"
            ],
            [
             0.4,
             "#fde0ef"
            ],
            [
             0.5,
             "#f7f7f7"
            ],
            [
             0.6,
             "#e6f5d0"
            ],
            [
             0.7,
             "#b8e186"
            ],
            [
             0.8,
             "#7fbc41"
            ],
            [
             0.9,
             "#4d9221"
            ],
            [
             1,
             "#276419"
            ]
           ],
           "sequential": [
            [
             0,
             "#0d0887"
            ],
            [
             0.1111111111111111,
             "#46039f"
            ],
            [
             0.2222222222222222,
             "#7201a8"
            ],
            [
             0.3333333333333333,
             "#9c179e"
            ],
            [
             0.4444444444444444,
             "#bd3786"
            ],
            [
             0.5555555555555556,
             "#d8576b"
            ],
            [
             0.6666666666666666,
             "#ed7953"
            ],
            [
             0.7777777777777778,
             "#fb9f3a"
            ],
            [
             0.8888888888888888,
             "#fdca26"
            ],
            [
             1,
             "#f0f921"
            ]
           ],
           "sequentialminus": [
            [
             0,
             "#0d0887"
            ],
            [
             0.1111111111111111,
             "#46039f"
            ],
            [
             0.2222222222222222,
             "#7201a8"
            ],
            [
             0.3333333333333333,
             "#9c179e"
            ],
            [
             0.4444444444444444,
             "#bd3786"
            ],
            [
             0.5555555555555556,
             "#d8576b"
            ],
            [
             0.6666666666666666,
             "#ed7953"
            ],
            [
             0.7777777777777778,
             "#fb9f3a"
            ],
            [
             0.8888888888888888,
             "#fdca26"
            ],
            [
             1,
             "#f0f921"
            ]
           ]
          },
          "colorway": [
           "#636efa",
           "#EF553B",
           "#00cc96",
           "#ab63fa",
           "#FFA15A",
           "#19d3f3",
           "#FF6692",
           "#B6E880",
           "#FF97FF",
           "#FECB52"
          ],
          "font": {
           "color": "#2a3f5f"
          },
          "geo": {
           "bgcolor": "white",
           "lakecolor": "white",
           "landcolor": "#E5ECF6",
           "showlakes": true,
           "showland": true,
           "subunitcolor": "white"
          },
          "hoverlabel": {
           "align": "left"
          },
          "hovermode": "closest",
          "mapbox": {
           "style": "light"
          },
          "paper_bgcolor": "white",
          "plot_bgcolor": "#E5ECF6",
          "polar": {
           "angularaxis": {
            "gridcolor": "white",
            "linecolor": "white",
            "ticks": ""
           },
           "bgcolor": "#E5ECF6",
           "radialaxis": {
            "gridcolor": "white",
            "linecolor": "white",
            "ticks": ""
           }
          },
          "scene": {
           "xaxis": {
            "backgroundcolor": "#E5ECF6",
            "gridcolor": "white",
            "gridwidth": 2,
            "linecolor": "white",
            "showbackground": true,
            "ticks": "",
            "zerolinecolor": "white"
           },
           "yaxis": {
            "backgroundcolor": "#E5ECF6",
            "gridcolor": "white",
            "gridwidth": 2,
            "linecolor": "white",
            "showbackground": true,
            "ticks": "",
            "zerolinecolor": "white"
           },
           "zaxis": {
            "backgroundcolor": "#E5ECF6",
            "gridcolor": "white",
            "gridwidth": 2,
            "linecolor": "white",
            "showbackground": true,
            "ticks": "",
            "zerolinecolor": "white"
           }
          },
          "shapedefaults": {
           "line": {
            "color": "#2a3f5f"
           }
          },
          "ternary": {
           "aaxis": {
            "gridcolor": "white",
            "linecolor": "white",
            "ticks": ""
           },
           "baxis": {
            "gridcolor": "white",
            "linecolor": "white",
            "ticks": ""
           },
           "bgcolor": "#E5ECF6",
           "caxis": {
            "gridcolor": "white",
            "linecolor": "white",
            "ticks": ""
           }
          },
          "title": {
           "x": 0.05
          },
          "xaxis": {
           "automargin": true,
           "gridcolor": "white",
           "linecolor": "white",
           "ticks": "",
           "title": {
            "standoff": 15
           },
           "zerolinecolor": "white",
           "zerolinewidth": 2
          },
          "yaxis": {
           "automargin": true,
           "gridcolor": "white",
           "linecolor": "white",
           "ticks": "",
           "title": {
            "standoff": 15
           },
           "zerolinecolor": "white",
           "zerolinewidth": 2
          }
         }
        },
        "xaxis": {
         "autorange": true,
         "range": [
          1,
          10
         ],
         "showspikes": false,
         "type": "linear"
        },
        "yaxis": {
         "autorange": true,
         "range": [
          0.027916940035115967,
          1.0358082399015793
         ],
         "showspikes": false,
         "type": "linear"
        }
       }
      },
      "image/png": "[encoded data removed]",
      "text/html": [
       "<div>\n",
       "        \n",
       "        \n",
       "            <div id=\"6069283f-e0f9-4363-849e-f238190b3e3a\" class=\"plotly-graph-div\" style=\"height:525px; width:100%;\"></div>\n",
       "            <script type=\"text/javascript\">\n",
       "                require([\"plotly\"], function(Plotly) {\n",
       "                    window.PLOTLYENV=window.PLOTLYENV || {};\n",
       "                    \n",
       "                if (document.getElementById(\"6069283f-e0f9-4363-849e-f238190b3e3a\")) {\n",
       "                    Plotly.newPlot(\n",
       "                        '6069283f-e0f9-4363-849e-f238190b3e3a',\n",
       "                        [{\"name\": \"B1_total\", \"type\": \"scatter\", \"x\": [1.0, 1.09, 1.18, 1.27, 1.36, 1.45, 1.54, 1.63, 1.72, 1.81, 1.9, 1.99, 2.08, 2.17, 2.26, 2.35, 2.44, 2.53, 2.62, 2.71, 2.8, 2.89, 2.98, 3.07, 3.16, 3.25, 3.34, 3.43, 3.52, 3.61, 3.7, 3.79, 3.88, 3.97, 4.06, 4.15, 4.24, 4.33, 4.42, 4.51, 4.6, 4.69, 4.78, 4.87, 4.96, 5.05, 5.14, 5.23, 5.32, 5.41, 5.5, 5.59, 5.68, 5.77, 5.86, 5.95, 6.04, 6.13, 6.22, 6.31, 6.4, 6.49, 6.58, 6.67, 6.76, 6.85, 6.94, 7.03, 7.12, 7.21, 7.3, 7.39, 7.48, 7.57, 7.66, 7.75, 7.84, 7.93, 8.02, 8.11, 8.2, 8.29, 8.38, 8.47, 8.56, 8.65, 8.74, 8.83, 8.92, 9.01, 9.1, 9.19, 9.28, 9.37, 9.46, 9.55, 9.64, 9.73, 9.82, 9.91, 10.0], \"y\": [0.3965574320728871, 0.38711656045713455, 0.3786901076576651, 0.371106411738334, 0.36423223977631874, 0.3579623279853859, 0.352212217692218, 0.34691322249969947, 0.3420088134994607, 0.33745197190955295, 0.3332032164312806, 0.32922911050089415, 0.3255011169118246, 0.3219947078862378, 0.31868866570632637, 0.31556452736162866, 0.3126061393390421, 0.3097992975734409, 0.307131453910776, 0.3045914749836651, 0.30216944280210406, 0.2998564887197884, 0.2976446543923086, 0.29552677466480765, 0.2934963784094439, 0.29154760414289105, 0.2896751278839761, 0.28787410120302354, 0.28614009780072774, 0.2844690672599959, 0.2828572948575838, 0.28130136651732623, 0.2797981381438647, 0.27834470870307776, 0.2769383965190599, 0.2755767183423318, 0.2742573708137156, 0.2729782140059142, 0.2717372567726161, 0.2705326436747462, 0.269362643286751, 0.2682256377137333, 0.2671201131737714, 0.26604465151963036, 0.26499792259093735, 0.26397867730221547, 0.26298574138442266, 0.2620180097080952, 0.2610744411251908, 0.2601540537744538, 0.2592559208017961, 0.2583791664529591, 0.2575229625007262, 0.2566865249733055, 0.25586911115428723, 0.2550700168278972, 0.2542885737461549, 0.2535241472970888, 0.2527761343553893, 0.25204396129884393, 0.25132708217563143, 0.2506249770090844, 0.2499371502278787, 0.2492631292108171, 0.24860246288244975, 0.24795472067775054, 0.24731949104225467, 0.24669638057227505, 0.2460850129462791, 0.2454850279819399, 0.24489608075612118, 0.2443178407828843, 0.24374999124504612, 0.24319222827520684, 0.2426442602825217, 0.24210580732181647, 0.2415766005019265, 0.24105638143040886, 0.24054490169201087, 0.24004192235849334, 0.23954721352760203, 0.23906055388915792, 0.23858173031640184, 0.23811053748086938, 0.2376467774892112, 0.23719025954049414, 0.23674079960263217, 0.23629822010669316, 0.23586234965792843, 0.23543302276245115, 0.2350100795685724, 0.2345933656218717, 0.23418273163315026, 0.23377803325847216, 0.23337913089055254, 0.2329858894608141, 0.2325981782514626, 0.2322158707169959, 0.231838844314586, 0.2314669803428203, 0.23110016378831516]}, {\"name\": \"B2_total\", \"type\": \"scatter\", \"x\": [1.0, 1.09, 1.18, 1.27, 1.36, 1.45, 1.54, 1.63, 1.72, 1.81, 1.9, 1.99, 2.08, 2.17, 2.26, 2.35, 2.44, 2.53, 2.62, 2.71, 2.8, 2.89, 2.98, 3.07, 3.16, 3.25, 3.34, 3.43, 3.52, 3.61, 3.7, 3.79, 3.88, 3.97, 4.06, 4.15, 4.24, 4.33, 4.42, 4.51, 4.6, 4.69, 4.78, 4.87, 4.96, 5.05, 5.14, 5.23, 5.32, 5.41, 5.5, 5.59, 5.68, 5.77, 5.86, 5.95, 6.04, 6.13, 6.22, 6.31, 6.4, 6.49, 6.58, 6.67, 6.76, 6.85, 6.94, 7.03, 7.12, 7.21, 7.3, 7.39, 7.48, 7.57, 7.66, 7.75, 7.84, 7.93, 8.02, 8.11, 8.2, 8.29, 8.38, 8.47, 8.56, 8.65, 8.74, 8.83, 8.92, 9.01, 9.1, 9.19, 9.28, 9.37, 9.46, 9.55, 9.64, 9.73, 9.82, 9.91, 10.0], \"y\": [0.07831150502843914, 0.07915097485040044, 0.07990433060129425, 0.08058310396167385, 0.08119692306947765, 0.08175388017734045, 0.08226081972582765, 0.08272356536545566, 0.08314710004496283, 0.08353570985020109, 0.08389309967877226, 0.08422248688877647, 0.08452667760581034, 0.08480812928420965, 0.08506900230100883, 0.08531120274361224, 0.08553641808297022, 0.08574614706526555, 0.08594172487244198, 0.08612434443479197, 0.08629507446902686, 0.08645487492806814, 0.08660461019688948, 0.08674506043959207, 0.08687693138558981, 0.08700086279808857, 0.08711743582588727, 0.08722717940538684, 0.0873305758519195, 0.08742806575680816, 0.08752005228794059, 0.08760690497628569, 0.08768896305807856, 0.08776653843185268, 0.08783991828070165, 0.08790936740279996, 0.08797513028703724, 0.08803743296542338, 0.08809648466953185, 0.08815247931452702, 0.08820559683116319, 0.08825600436344758, 0.08830385734736076, 0.08834930048405529, 0.08839246861926273, 0.08843348753917853, 0.08847247469184162, 0.0885095398419327, 0.08854478566597618, 0.08857830829411016, 0.08861019780387532, 0.08864053867085211, 0.08866941018043262, 0.08869688680453613, 0.08872303854665994, 0.08874793125829102, 0.08877162692937925, 0.08879418395528914, 0.08881565738239426, 0.08883609913425607, 0.08885555822013115, 0.08887408092737648, 0.08889171099916413, 0.08890848979878166, 0.08892445645559306, 0.08893964803043167, 0.08895409960880521, 0.08896784444718406, 0.08898091407906286, 0.0889933384194468, 0.08900514586202385, 0.08901636336960313, 0.08902701655835041, 0.08903712977630306, 0.0890467261766054, 0.08905582778586846, 0.08906445556802109, 0.08907262948399122, 0.08908036854752552, 0.08908769087743171, 0.08909461374650263, 0.08910115362736187, 0.08910732623545109, 0.08911314656936, 0.08911862894868629, 0.08912378704959649, 0.0891286339382467, 0.08913318210220819, 0.08913744348003386, 0.08914142948908974, 0.08914515105176721, 0.08914861862018199, 0.08915184219945975, 0.08915483136969964, 0.08915759530669988, 0.08916014280152701, 0.08916248227899783, 0.08916462181514644, 0.08916656915373672, 0.08916833172188088, 0.08916991664481771]}, {\"name\": \"K_total\", \"type\": \"scatter\", \"x\": [1.0, 1.09, 1.18, 1.27, 1.36, 1.45, 1.54, 1.63, 1.72, 1.81, 1.9, 1.99, 2.08, 2.17, 2.26, 2.35, 2.44, 2.53, 2.62, 2.71, 2.8, 2.89, 2.98, 3.07, 3.16, 3.25, 3.34, 3.43, 3.52, 3.61, 3.7, 3.79, 3.88, 3.97, 4.06, 4.15, 4.24, 4.33, 4.42, 4.51, 4.6, 4.69, 4.78, 4.87, 4.96, 5.05, 5.14, 5.23, 5.32, 5.41, 5.5, 5.59, 5.68, 5.77, 5.86, 5.95, 6.04, 6.13, 6.22, 6.31, 6.4, 6.49, 6.58, 6.67, 6.76, 6.85, 6.94, 7.03, 7.12, 7.21, 7.3, 7.39, 7.48, 7.57, 7.66, 7.75, 7.84, 7.93, 8.02, 8.11, 8.2, 8.29, 8.38, 8.47, 8.56, 8.65, 8.74, 8.83, 8.92, 9.01, 9.1, 9.19, 9.28, 9.37, 9.46, 9.55, 9.64, 9.73, 9.82, 9.91, 10.0], \"y\": [0.5565195091675649, 0.5665429094203605, 0.5760244840953925, 0.585034511964604, 0.5936302844703439, 0.6018591163447716, 0.6097605312262206, 0.6173678801343576, 0.62470956095359, 0.6318099514919512, 0.6386901332199029, 0.6453684595838443, 0.6518610072525772, 0.6581819380435292, 0.6643437918957948, 0.6703577260403258, 0.6762337117747862, 0.68198069752863, 0.6876067448874641, 0.6931191428399643, 0.6985245041206471, 0.7038288471205049, 0.7090376657197431, 0.7141559891735306, 0.7191884336896102, 0.7241392470401324, 0.7290123473043081, 0.7338113566427037, 0.7385396308471306, 0.7432002852835807, 0.7477962177431389, 0.7523301286322176, 0.7568045388650126, 0.7612218057647409, 0.7655841372336397, 0.76989360441302, 0.7741521530224214, 0.7783616135399061, 0.782523710362849, 0.7866400700694278, 0.7907122288848363, 0.7947416394424746, 0.7987296769186643, 0.8026776446094114, 0.8065867790091665, 0.8104582544441447, 0.8142931873064134, 0.8180926399294602, 0.8218576241411869, 0.825589104526142, 0.8292880014251962, 0.8329551936977334, 0.8365915212686617, 0.8401977874801604, 0.8437747612659354, 0.8473231791639162, 0.8508437471816658, 0.8543371425273296, 0.8578040152176614, 0.8612449895735224, 0.8646606656122355, 0.8680516203452776, 0.8714184089889838, 0.8747615660952197, 0.878081606660331, 0.881379026903547, 0.8846543055131539, 0.8879079042985928, 0.8911402690598185, 0.894351830352189, 0.8975430042053026, 0.9007141927990848, 0.9038657851001877, 0.9069981574614766, 0.9101116741871795, 0.9132066880660544, 0.916283540874744, 0.919342563853315, 0.9223840781548343, 0.9254083952706758, 0.9284158174331332, 0.9314066379967939, 0.9343811418000231, 0.9373396055077965, 0.9402822979370485, 0.9432094803655996, 0.9461214068256669, 0.9490183243828776, 0.9519004734016503, 0.9547680877977485, 0.9576213952787451, 0.9604606175731036, 0.9632859706485197, 0.9660976649201314, 0.968895905449165, 0.971680892132548, 0.9744528198839788, 0.9772118788069245, 0.9799582543599756, 0.9826921275149688, 0.9854136749082563]}],\n",
       "                        {\"template\": {\"data\": {\"bar\": [{\"error_x\": {\"color\": \"#2a3f5f\"}, \"error_y\": {\"color\": \"#2a3f5f\"}, \"marker\": {\"line\": {\"color\": \"#E5ECF6\", \"width\": 0.5}}, \"type\": \"bar\"}], \"barpolar\": [{\"marker\": {\"line\": {\"color\": \"#E5ECF6\", \"width\": 0.5}}, \"type\": \"barpolar\"}], \"carpet\": [{\"aaxis\": {\"endlinecolor\": \"#2a3f5f\", \"gridcolor\": \"white\", \"linecolor\": \"white\", \"minorgridcolor\": \"white\", \"startlinecolor\": \"#2a3f5f\"}, \"baxis\": {\"endlinecolor\": \"#2a3f5f\", \"gridcolor\": \"white\", \"linecolor\": \"white\", \"minorgridcolor\": \"white\", \"startlinecolor\": \"#2a3f5f\"}, \"type\": \"carpet\"}], \"choropleth\": [{\"colorbar\": {\"outlinewidth\": 0, \"ticks\": \"\"}, \"type\": \"choropleth\"}], \"contour\": [{\"colorbar\": {\"outlinewidth\": 0, \"ticks\": \"\"}, \"colorscale\": [[0.0, \"#0d0887\"], [0.1111111111111111, \"#46039f\"], [0.2222222222222222, \"#7201a8\"], [0.3333333333333333, \"#9c179e\"], [0.4444444444444444, \"#bd3786\"], [0.5555555555555556, \"#d8576b\"], [0.6666666666666666, \"#ed7953\"], [0.7777777777777778, \"#fb9f3a\"], [0.8888888888888888, \"#fdca26\"], [1.0, \"#f0f921\"]], \"type\": \"contour\"}], \"contourcarpet\": [{\"colorbar\": {\"outlinewidth\": 0, \"ticks\": \"\"}, \"type\": \"contourcarpet\"}], \"heatmap\": [{\"colorbar\": {\"outlinewidth\": 0, \"ticks\": \"\"}, \"colorscale\": [[0.0, \"#0d0887\"], [0.1111111111111111, \"#46039f\"], [0.2222222222222222, \"#7201a8\"], [0.3333333333333333, \"#9c179e\"], [0.4444444444444444, \"#bd3786\"], [0.5555555555555556, \"#d8576b\"], [0.6666666666666666, \"#ed7953\"], [0.7777777777777778, \"#fb9f3a\"], [0.8888888888888888, \"#fdca26\"], [1.0, \"#f0f921\"]], \"type\": \"heatmap\"}], \"heatmapgl\": [{\"colorbar\": {\"outlinewidth\": 0, \"ticks\": \"\"}, \"colorscale\": [[0.0, \"#0d0887\"], [0.1111111111111111, \"#46039f\"], [0.2222222222222222, \"#7201a8\"], [0.3333333333333333, \"#9c179e\"], [0.4444444444444444, \"#bd3786\"], [0.5555555555555556, \"#d8576b\"], [0.6666666666666666, \"#ed7953\"], [0.7777777777777778, \"#fb9f3a\"], [0.8888888888888888, \"#fdca26\"], [1.0, \"#f0f921\"]], \"type\": \"heatmapgl\"}], \"histogram\": [{\"marker\": {\"colorbar\": {\"outlinewidth\": 0, \"ticks\": \"\"}}, \"type\": \"histogram\"}], \"histogram2d\": [{\"colorbar\": {\"outlinewidth\": 0, \"ticks\": \"\"}, \"colorscale\": [[0.0, \"#0d0887\"], [0.1111111111111111, \"#46039f\"], [0.2222222222222222, \"#7201a8\"], [0.3333333333333333, \"#9c179e\"], [0.4444444444444444, \"#bd3786\"], [0.5555555555555556, \"#d8576b\"], [0.6666666666666666, \"#ed7953\"], [0.7777777777777778, \"#fb9f3a\"], [0.8888888888888888, \"#fdca26\"], [1.0, \"#f0f921\"]], \"type\": \"histogram2d\"}], \"histogram2dcontour\": [{\"colorbar\": {\"outlinewidth\": 0, \"ticks\": \"\"}, \"colorscale\": [[0.0, \"#0d0887\"], [0.1111111111111111, \"#46039f\"], [0.2222222222222222, \"#7201a8\"], [0.3333333333333333, \"#9c179e\"], [0.4444444444444444, \"#bd3786\"], [0.5555555555555556, \"#d8576b\"], [0.6666666666666666, \"#ed7953\"], [0.7777777777777778, \"#fb9f3a\"], [0.8888888888888888, \"#fdca26\"], [1.0, \"#f0f921\"]], \"type\": \"histogram2dcontour\"}], \"mesh3d\": [{\"colorbar\": {\"outlinewidth\": 0, \"ticks\": \"\"}, \"type\": \"mesh3d\"}], \"parcoords\": [{\"line\": {\"colorbar\": {\"outlinewidth\": 0, \"ticks\": \"\"}}, \"type\": \"parcoords\"}], \"pie\": [{\"automargin\": true, \"type\": \"pie\"}], \"scatter\": [{\"marker\": {\"colorbar\": {\"outlinewidth\": 0, \"ticks\": \"\"}}, \"type\": \"scatter\"}], \"scatter3d\": [{\"line\": {\"colorbar\": {\"outlinewidth\": 0, \"ticks\": \"\"}}, \"marker\": {\"colorbar\": {\"outlinewidth\": 0, \"ticks\": \"\"}}, \"type\": \"scatter3d\"}], \"scattercarpet\": [{\"marker\": {\"colorbar\": {\"outlinewidth\": 0, \"ticks\": \"\"}}, \"type\": \"scattercarpet\"}], \"scattergeo\": [{\"marker\": {\"colorbar\": {\"outlinewidth\": 0, \"ticks\": \"\"}}, \"type\": \"scattergeo\"}], \"scattergl\": [{\"marker\": {\"colorbar\": {\"outlinewidth\": 0, \"ticks\": \"\"}}, \"type\": \"scattergl\"}], \"scattermapbox\": [{\"marker\": {\"colorbar\": {\"outlinewidth\": 0, \"ticks\": \"\"}}, \"type\": \"scattermapbox\"}], \"scatterpolar\": [{\"marker\": {\"colorbar\": {\"outlinewidth\": 0, \"ticks\": \"\"}}, \"type\": \"scatterpolar\"}], \"scatterpolargl\": [{\"marker\": {\"colorbar\": {\"outlinewidth\": 0, \"ticks\": \"\"}}, \"type\": \"scatterpolargl\"}], \"scatterternary\": [{\"marker\": {\"colorbar\": {\"outlinewidth\": 0, \"ticks\": \"\"}}, \"type\": \"scatterternary\"}], \"surface\": [{\"colorbar\": {\"outlinewidth\": 0, \"ticks\": \"\"}, \"colorscale\": [[0.0, \"#0d0887\"], [0.1111111111111111, \"#46039f\"], [0.2222222222222222, \"#7201a8\"], [0.3333333333333333, \"#9c179e\"], [0.4444444444444444, \"#bd3786\"], [0.5555555555555556, \"#d8576b\"], [0.6666666666666666, \"#ed7953\"], [0.7777777777777778, \"#fb9f3a\"], [0.8888888888888888, \"#fdca26\"], [1.0, \"#f0f921\"]], \"type\": \"surface\"}], \"table\": [{\"cells\": {\"fill\": {\"color\": \"#EBF0F8\"}, \"line\": {\"color\": \"white\"}}, \"header\": {\"fill\": {\"color\": \"#C8D4E3\"}, \"line\": {\"color\": \"white\"}}, \"type\": \"table\"}]}, \"layout\": {\"annotationdefaults\": {\"arrowcolor\": \"#2a3f5f\", \"arrowhead\": 0, \"arrowwidth\": 1}, \"coloraxis\": {\"colorbar\": {\"outlinewidth\": 0, \"ticks\": \"\"}}, \"colorscale\": {\"diverging\": [[0, \"#8e0152\"], [0.1, \"#c51b7d\"], [0.2, \"#de77ae\"], [0.3, \"#f1b6da\"], [0.4, \"#fde0ef\"], [0.5, \"#f7f7f7\"], [0.6, \"#e6f5d0\"], [0.7, \"#b8e186\"], [0.8, \"#7fbc41\"], [0.9, \"#4d9221\"], [1, \"#276419\"]], \"sequential\": [[0.0, \"#0d0887\"], [0.1111111111111111, \"#46039f\"], [0.2222222222222222, \"#7201a8\"], [0.3333333333333333, \"#9c179e\"], [0.4444444444444444, \"#bd3786\"], [0.5555555555555556, \"#d8576b\"], [0.6666666666666666, \"#ed7953\"], [0.7777777777777778, \"#fb9f3a\"], [0.8888888888888888, \"#fdca26\"], [1.0, \"#f0f921\"]], \"sequentialminus\": [[0.0, \"#0d0887\"], [0.1111111111111111, \"#46039f\"], [0.2222222222222222, \"#7201a8\"], [0.3333333333333333, \"#9c179e\"], [0.4444444444444444, \"#bd3786\"], [0.5555555555555556, \"#d8576b\"], [0.6666666666666666, \"#ed7953\"], [0.7777777777777778, \"#fb9f3a\"], [0.8888888888888888, \"#fdca26\"], [1.0, \"#f0f921\"]]}, \"colorway\": [\"#636efa\", \"#EF553B\", \"#00cc96\", \"#ab63fa\", \"#FFA15A\", \"#19d3f3\", \"#FF6692\", \"#B6E880\", \"#FF97FF\", \"#FECB52\"], \"font\": {\"color\": \"#2a3f5f\"}, \"geo\": {\"bgcolor\": \"white\", \"lakecolor\": \"white\", \"landcolor\": \"#E5ECF6\", \"showlakes\": true, \"showland\": true, \"subunitcolor\": \"white\"}, \"hoverlabel\": {\"align\": \"left\"}, \"hovermode\": \"closest\", \"mapbox\": {\"style\": \"light\"}, \"paper_bgcolor\": \"white\", \"plot_bgcolor\": \"#E5ECF6\", \"polar\": {\"angularaxis\": {\"gridcolor\": \"white\", \"linecolor\": \"white\", \"ticks\": \"\"}, \"bgcolor\": \"#E5ECF6\", \"radialaxis\": {\"gridcolor\": \"white\", \"linecolor\": \"white\", \"ticks\": \"\"}}, \"scene\": {\"xaxis\": {\"backgroundcolor\": \"#E5ECF6\", \"gridcolor\": \"white\", \"gridwidth\": 2, \"linecolor\": \"white\", \"showbackground\": true, \"ticks\": \"\", \"zerolinecolor\": \"white\"}, \"yaxis\": {\"backgroundcolor\": \"#E5ECF6\", \"gridcolor\": \"white\", \"gridwidth\": 2, \"linecolor\": \"white\", \"showbackground\": true, \"ticks\": \"\", \"zerolinecolor\": \"white\"}, \"zaxis\": {\"backgroundcolor\": \"#E5ECF6\", \"gridcolor\": \"white\", \"gridwidth\": 2, \"linecolor\": \"white\", \"showbackground\": true, \"ticks\": \"\", \"zerolinecolor\": \"white\"}}, \"shapedefaults\": {\"line\": {\"color\": \"#2a3f5f\"}}, \"ternary\": {\"aaxis\": {\"gridcolor\": \"white\", \"linecolor\": \"white\", \"ticks\": \"\"}, \"baxis\": {\"gridcolor\": \"white\", \"linecolor\": \"white\", \"ticks\": \"\"}, \"bgcolor\": \"#E5ECF6\", \"caxis\": {\"gridcolor\": \"white\", \"linecolor\": \"white\", \"ticks\": \"\"}}, \"title\": {\"x\": 0.05}, \"xaxis\": {\"automargin\": true, \"gridcolor\": \"white\", \"linecolor\": \"white\", \"ticks\": \"\", \"title\": {\"standoff\": 15}, \"zerolinecolor\": \"white\", \"zerolinewidth\": 2}, \"yaxis\": {\"automargin\": true, \"gridcolor\": \"white\", \"linecolor\": \"white\", \"ticks\": \"\", \"title\": {\"standoff\": 15}, \"zerolinecolor\": \"white\", \"zerolinewidth\": 2}}}},\n",
       "                        {\"responsive\": true}\n",
       "                    ).then(function(){\n",
       "                            \n",
       "var gd = document.getElementById('6069283f-e0f9-4363-849e-f238190b3e3a');\n",
       "var x = new MutationObserver(function (mutations, observer) {{\n",
       "        var display = window.getComputedStyle(gd).display;\n",
       "        if (!display || display === 'none') {{\n",
       "            console.log([gd, 'removed!']);\n",
       "            Plotly.purge(gd);\n",
       "            observer.disconnect();\n",
       "        }}\n",
       "}});\n",
       "\n",
       "// Listen for the removal of the full notebook cells\n",
       "var notebookContainer = gd.closest('#notebook-container');\n",
       "if (notebookContainer) {{\n",
       "    x.observe(notebookContainer, {childList: true});\n",
       "}}\n",
       "\n",
       "// Listen for the clearing of the current output cell\n",
       "var outputEl = gd.closest('.output');\n",
       "if (outputEl) {{\n",
       "    x.observe(outputEl, {childList: true});\n",
       "}}\n",
       "\n",
       "                        })\n",
       "                };\n",
       "                });\n",
       "            </script>\n",
       "        </div>"
      ]
     },
     "metadata": {},
     "output_type": "display_data"
    },
    {
     "data": {
      "application/vnd.plotly.v1+json": {
       "config": {
        "plotlyServerURL": "https://plot.ly"
       },
       "data": [
        {
         "name": "B2_total",
         "type": "scatter",
         "x": [
          1,
          1.09,
          1.18,
          1.27,
          1.36,
          1.45,
          1.54,
          1.63,
          1.72,
          1.81,
          1.9,
          1.99,
          2.08,
          2.17,
          2.26,
          2.35,
          2.44,
          2.53,
          2.62,
          2.71,
          2.8,
          2.89,
          2.98,
          3.07,
          3.16,
          3.25,
          3.34,
          3.43,
          3.52,
          3.61,
          3.7,
          3.79,
          3.88,
          3.97,
          4.06,
          4.15,
          4.24,
          4.33,
          4.42,
          4.51,
          4.6,
          4.69,
          4.78,
          4.87,
          4.96,
          5.05,
          5.14,
          5.23,
          5.32,
          5.41,
          5.5,
          5.59,
          5.68,
          5.77,
          5.86,
          5.95,
          6.04,
          6.13,
          6.22,
          6.31,
          6.4,
          6.49,
          6.58,
          6.67,
          6.76,
          6.85,
          6.94,
          7.03,
          7.12,
          7.21,
          7.3,
          7.39,
          7.48,
          7.57,
          7.66,
          7.75,
          7.84,
          7.93,
          8.02,
          8.11,
          8.2,
          8.29,
          8.38,
          8.47,
          8.56,
          8.65,
          8.74,
          8.83,
          8.92,
          9.01,
          9.1,
          9.19,
          9.28,
          9.37,
          9.46,
          9.55,
          9.64,
          9.73,
          9.82,
          9.91,
          10
         ],
         "y": [
          0.07831150502843914,
          0.07915097485040044,
          0.07990433060129425,
          0.08058310396167385,
          0.08119692306947765,
          0.08175388017734045,
          0.08226081972582765,
          0.08272356536545566,
          0.08314710004496283,
          0.08353570985020109,
          0.08389309967877226,
          0.08422248688877647,
          0.08452667760581034,
          0.08480812928420965,
          0.08506900230100883,
          0.08531120274361224,
          0.08553641808297022,
          0.08574614706526555,
          0.08594172487244198,
          0.08612434443479197,
          0.08629507446902686,
          0.08645487492806814,
          0.08660461019688948,
          0.08674506043959207,
          0.08687693138558981,
          0.08700086279808857,
          0.08711743582588727,
          0.08722717940538684,
          0.0873305758519195,
          0.08742806575680816,
          0.08752005228794059,
          0.08760690497628569,
          0.08768896305807856,
          0.08776653843185268,
          0.08783991828070165,
          0.08790936740279996,
          0.08797513028703724,
          0.08803743296542338,
          0.08809648466953185,
          0.08815247931452702,
          0.08820559683116319,
          0.08825600436344758,
          0.08830385734736076,
          0.08834930048405529,
          0.08839246861926273,
          0.08843348753917853,
          0.08847247469184162,
          0.0885095398419327,
          0.08854478566597618,
          0.08857830829411016,
          0.08861019780387532,
          0.08864053867085211,
          0.08866941018043262,
          0.08869688680453613,
          0.08872303854665994,
          0.08874793125829102,
          0.08877162692937925,
          0.08879418395528914,
          0.08881565738239426,
          0.08883609913425607,
          0.08885555822013115,
          0.08887408092737648,
          0.08889171099916413,
          0.08890848979878166,
          0.08892445645559306,
          0.08893964803043167,
          0.08895409960880521,
          0.08896784444718406,
          0.08898091407906286,
          0.0889933384194468,
          0.08900514586202385,
          0.08901636336960313,
          0.08902701655835041,
          0.08903712977630306,
          0.0890467261766054,
          0.08905582778586846,
          0.08906445556802109,
          0.08907262948399122,
          0.08908036854752552,
          0.08908769087743171,
          0.08909461374650263,
          0.08910115362736187,
          0.08910732623545109,
          0.08911314656936,
          0.08911862894868629,
          0.08912378704959649,
          0.0891286339382467,
          0.08913318210220819,
          0.08913744348003386,
          0.08914142948908974,
          0.08914515105176721,
          0.08914861862018199,
          0.08915184219945975,
          0.08915483136969964,
          0.08915759530669988,
          0.08916014280152701,
          0.08916248227899783,
          0.08916462181514644,
          0.08916656915373672,
          0.08916833172188088,
          0.08916991664481771
         ]
        }
       ],
       "layout": {
        "autosize": true,
        "template": {
         "data": {
          "bar": [
           {
            "error_x": {
             "color": "#2a3f5f"
            },
            "error_y": {
             "color": "#2a3f5f"
            },
            "marker": {
             "line": {
              "color": "#E5ECF6",
              "width": 0.5
             }
            },
            "type": "bar"
           }
          ],
          "barpolar": [
           {
            "marker": {
             "line": {
              "color": "#E5ECF6",
              "width": 0.5
             }
            },
            "type": "barpolar"
           }
          ],
          "carpet": [
           {
            "aaxis": {
             "endlinecolor": "#2a3f5f",
             "gridcolor": "white",
             "linecolor": "white",
             "minorgridcolor": "white",
             "startlinecolor": "#2a3f5f"
            },
            "baxis": {
             "endlinecolor": "#2a3f5f",
             "gridcolor": "white",
             "linecolor": "white",
             "minorgridcolor": "white",
             "startlinecolor": "#2a3f5f"
            },
            "type": "carpet"
           }
          ],
          "choropleth": [
           {
            "colorbar": {
             "outlinewidth": 0,
             "ticks": ""
            },
            "type": "choropleth"
           }
          ],
          "contour": [
           {
            "colorbar": {
             "outlinewidth": 0,
             "ticks": ""
            },
            "colorscale": [
             [
              0,
              "#0d0887"
             ],
             [
              0.1111111111111111,
              "#46039f"
             ],
             [
              0.2222222222222222,
              "#7201a8"
             ],
             [
              0.3333333333333333,
              "#9c179e"
             ],
             [
              0.4444444444444444,
              "#bd3786"
             ],
             [
              0.5555555555555556,
              "#d8576b"
             ],
             [
              0.6666666666666666,
              "#ed7953"
             ],
             [
              0.7777777777777778,
              "#fb9f3a"
             ],
             [
              0.8888888888888888,
              "#fdca26"
             ],
             [
              1,
              "#f0f921"
             ]
            ],
            "type": "contour"
           }
          ],
          "contourcarpet": [
           {
            "colorbar": {
             "outlinewidth": 0,
             "ticks": ""
            },
            "type": "contourcarpet"
           }
          ],
          "heatmap": [
           {
            "colorbar": {
             "outlinewidth": 0,
             "ticks": ""
            },
            "colorscale": [
             [
              0,
              "#0d0887"
             ],
             [
              0.1111111111111111,
              "#46039f"
             ],
             [
              0.2222222222222222,
              "#7201a8"
             ],
             [
              0.3333333333333333,
              "#9c179e"
             ],
             [
              0.4444444444444444,
              "#bd3786"
             ],
             [
              0.5555555555555556,
              "#d8576b"
             ],
             [
              0.6666666666666666,
              "#ed7953"
             ],
             [
              0.7777777777777778,
              "#fb9f3a"
             ],
             [
              0.8888888888888888,
              "#fdca26"
             ],
             [
              1,
              "#f0f921"
             ]
            ],
            "type": "heatmap"
           }
          ],
          "heatmapgl": [
           {
            "colorbar": {
             "outlinewidth": 0,
             "ticks": ""
            },
            "colorscale": [
             [
              0,
              "#0d0887"
             ],
             [
              0.1111111111111111,
              "#46039f"
             ],
             [
              0.2222222222222222,
              "#7201a8"
             ],
             [
              0.3333333333333333,
              "#9c179e"
             ],
             [
              0.4444444444444444,
              "#bd3786"
             ],
             [
              0.5555555555555556,
              "#d8576b"
             ],
             [
              0.6666666666666666,
              "#ed7953"
             ],
             [
              0.7777777777777778,
              "#fb9f3a"
             ],
             [
              0.8888888888888888,
              "#fdca26"
             ],
             [
              1,
              "#f0f921"
             ]
            ],
            "type": "heatmapgl"
           }
          ],
          "histogram": [
           {
            "marker": {
             "colorbar": {
              "outlinewidth": 0,
              "ticks": ""
             }
            },
            "type": "histogram"
           }
          ],
          "histogram2d": [
           {
            "colorbar": {
             "outlinewidth": 0,
             "ticks": ""
            },
            "colorscale": [
             [
              0,
              "#0d0887"
             ],
             [
              0.1111111111111111,
              "#46039f"
             ],
             [
              0.2222222222222222,
              "#7201a8"
             ],
             [
              0.3333333333333333,
              "#9c179e"
             ],
             [
              0.4444444444444444,
              "#bd3786"
             ],
             [
              0.5555555555555556,
              "#d8576b"
             ],
             [
              0.6666666666666666,
              "#ed7953"
             ],
             [
              0.7777777777777778,
              "#fb9f3a"
             ],
             [
              0.8888888888888888,
              "#fdca26"
             ],
             [
              1,
              "#f0f921"
             ]
            ],
            "type": "histogram2d"
           }
          ],
          "histogram2dcontour": [
           {
            "colorbar": {
             "outlinewidth": 0,
             "ticks": ""
            },
            "colorscale": [
             [
              0,
              "#0d0887"
             ],
             [
              0.1111111111111111,
              "#46039f"
             ],
             [
              0.2222222222222222,
              "#7201a8"
             ],
             [
              0.3333333333333333,
              "#9c179e"
             ],
             [
              0.4444444444444444,
              "#bd3786"
             ],
             [
              0.5555555555555556,
              "#d8576b"
             ],
             [
              0.6666666666666666,
              "#ed7953"
             ],
             [
              0.7777777777777778,
              "#fb9f3a"
             ],
             [
              0.8888888888888888,
              "#fdca26"
             ],
             [
              1,
              "#f0f921"
             ]
            ],
            "type": "histogram2dcontour"
           }
          ],
          "mesh3d": [
           {
            "colorbar": {
             "outlinewidth": 0,
             "ticks": ""
            },
            "type": "mesh3d"
           }
          ],
          "parcoords": [
           {
            "line": {
             "colorbar": {
              "outlinewidth": 0,
              "ticks": ""
             }
            },
            "type": "parcoords"
           }
          ],
          "pie": [
           {
            "automargin": true,
            "type": "pie"
           }
          ],
          "scatter": [
           {
            "marker": {
             "colorbar": {
              "outlinewidth": 0,
              "ticks": ""
             }
            },
            "type": "scatter"
           }
          ],
          "scatter3d": [
           {
            "line": {
             "colorbar": {
              "outlinewidth": 0,
              "ticks": ""
             }
            },
            "marker": {
             "colorbar": {
              "outlinewidth": 0,
              "ticks": ""
             }
            },
            "type": "scatter3d"
           }
          ],
          "scattercarpet": [
           {
            "marker": {
             "colorbar": {
              "outlinewidth": 0,
              "ticks": ""
             }
            },
            "type": "scattercarpet"
           }
          ],
          "scattergeo": [
           {
            "marker": {
             "colorbar": {
              "outlinewidth": 0,
              "ticks": ""
             }
            },
            "type": "scattergeo"
           }
          ],
          "scattergl": [
           {
            "marker": {
             "colorbar": {
              "outlinewidth": 0,
              "ticks": ""
             }
            },
            "type": "scattergl"
           }
          ],
          "scattermapbox": [
           {
            "marker": {
             "colorbar": {
              "outlinewidth": 0,
              "ticks": ""
             }
            },
            "type": "scattermapbox"
           }
          ],
          "scatterpolar": [
           {
            "marker": {
             "colorbar": {
              "outlinewidth": 0,
              "ticks": ""
             }
            },
            "type": "scatterpolar"
           }
          ],
          "scatterpolargl": [
           {
            "marker": {
             "colorbar": {
              "outlinewidth": 0,
              "ticks": ""
             }
            },
            "type": "scatterpolargl"
           }
          ],
          "scatterternary": [
           {
            "marker": {
             "colorbar": {
              "outlinewidth": 0,
              "ticks": ""
             }
            },
            "type": "scatterternary"
           }
          ],
          "surface": [
           {
            "colorbar": {
             "outlinewidth": 0,
             "ticks": ""
            },
            "colorscale": [
             [
              0,
              "#0d0887"
             ],
             [
              0.1111111111111111,
              "#46039f"
             ],
             [
              0.2222222222222222,
              "#7201a8"
             ],
             [
              0.3333333333333333,
              "#9c179e"
             ],
             [
              0.4444444444444444,
              "#bd3786"
             ],
             [
              0.5555555555555556,
              "#d8576b"
             ],
             [
              0.6666666666666666,
              "#ed7953"
             ],
             [
              0.7777777777777778,
              "#fb9f3a"
             ],
             [
              0.8888888888888888,
              "#fdca26"
             ],
             [
              1,
              "#f0f921"
             ]
            ],
            "type": "surface"
           }
          ],
          "table": [
           {
            "cells": {
             "fill": {
              "color": "#EBF0F8"
             },
             "line": {
              "color": "white"
             }
            },
            "header": {
             "fill": {
              "color": "#C8D4E3"
             },
             "line": {
              "color": "white"
             }
            },
            "type": "table"
           }
          ]
         },
         "layout": {
          "annotationdefaults": {
           "arrowcolor": "#2a3f5f",
           "arrowhead": 0,
           "arrowwidth": 1
          },
          "coloraxis": {
           "colorbar": {
            "outlinewidth": 0,
            "ticks": ""
           }
          },
          "colorscale": {
           "diverging": [
            [
             0,
             "#8e0152"
            ],
            [
             0.1,
             "#c51b7d"
            ],
            [
             0.2,
             "#de77ae"
            ],
            [
             0.3,
             "#f1b6da"
            ],
            [
             0.4,
             "#fde0ef"
            ],
            [
             0.5,
             "#f7f7f7"
            ],
            [
             0.6,
             "#e6f5d0"
            ],
            [
             0.7,
             "#b8e186"
            ],
            [
             0.8,
             "#7fbc41"
            ],
            [
             0.9,
             "#4d9221"
            ],
            [
             1,
             "#276419"
            ]
           ],
           "sequential": [
            [
             0,
             "#0d0887"
            ],
            [
             0.1111111111111111,
             "#46039f"
            ],
            [
             0.2222222222222222,
             "#7201a8"
            ],
            [
             0.3333333333333333,
             "#9c179e"
            ],
            [
             0.4444444444444444,
             "#bd3786"
            ],
            [
             0.5555555555555556,
             "#d8576b"
            ],
            [
             0.6666666666666666,
             "#ed7953"
            ],
            [
             0.7777777777777778,
             "#fb9f3a"
            ],
            [
             0.8888888888888888,
             "#fdca26"
            ],
            [
             1,
             "#f0f921"
            ]
           ],
           "sequentialminus": [
            [
             0,
             "#0d0887"
            ],
            [
             0.1111111111111111,
             "#46039f"
            ],
            [
             0.2222222222222222,
             "#7201a8"
            ],
            [
             0.3333333333333333,
             "#9c179e"
            ],
            [
             0.4444444444444444,
             "#bd3786"
            ],
            [
             0.5555555555555556,
             "#d8576b"
            ],
            [
             0.6666666666666666,
             "#ed7953"
            ],
            [
             0.7777777777777778,
             "#fb9f3a"
            ],
            [
             0.8888888888888888,
             "#fdca26"
            ],
            [
             1,
             "#f0f921"
            ]
           ]
          },
          "colorway": [
           "#636efa",
           "#EF553B",
           "#00cc96",
           "#ab63fa",
           "#FFA15A",
           "#19d3f3",
           "#FF6692",
           "#B6E880",
           "#FF97FF",
           "#FECB52"
          ],
          "font": {
           "color": "#2a3f5f"
          },
          "geo": {
           "bgcolor": "white",
           "lakecolor": "white",
           "landcolor": "#E5ECF6",
           "showlakes": true,
           "showland": true,
           "subunitcolor": "white"
          },
          "hoverlabel": {
           "align": "left"
          },
          "hovermode": "closest",
          "mapbox": {
           "style": "light"
          },
          "paper_bgcolor": "white",
          "plot_bgcolor": "#E5ECF6",
          "polar": {
           "angularaxis": {
            "gridcolor": "white",
            "linecolor": "white",
            "ticks": ""
           },
           "bgcolor": "#E5ECF6",
           "radialaxis": {
            "gridcolor": "white",
            "linecolor": "white",
            "ticks": ""
           }
          },
          "scene": {
           "xaxis": {
            "backgroundcolor": "#E5ECF6",
            "gridcolor": "white",
            "gridwidth": 2,
            "linecolor": "white",
            "showbackground": true,
            "ticks": "",
            "zerolinecolor": "white"
           },
           "yaxis": {
            "backgroundcolor": "#E5ECF6",
            "gridcolor": "white",
            "gridwidth": 2,
            "linecolor": "white",
            "showbackground": true,
            "ticks": "",
            "zerolinecolor": "white"
           },
           "zaxis": {
            "backgroundcolor": "#E5ECF6",
            "gridcolor": "white",
            "gridwidth": 2,
            "linecolor": "white",
            "showbackground": true,
            "ticks": "",
            "zerolinecolor": "white"
           }
          },
          "shapedefaults": {
           "line": {
            "color": "#2a3f5f"
           }
          },
          "ternary": {
           "aaxis": {
            "gridcolor": "white",
            "linecolor": "white",
            "ticks": ""
           },
           "baxis": {
            "gridcolor": "white",
            "linecolor": "white",
            "ticks": ""
           },
           "bgcolor": "#E5ECF6",
           "caxis": {
            "gridcolor": "white",
            "linecolor": "white",
            "ticks": ""
           }
          },
          "title": {
           "x": 0.05
          },
          "xaxis": {
           "automargin": true,
           "gridcolor": "white",
           "linecolor": "white",
           "ticks": "",
           "title": {
            "standoff": 15
           },
           "zerolinecolor": "white",
           "zerolinewidth": 2
          },
          "yaxis": {
           "automargin": true,
           "gridcolor": "white",
           "linecolor": "white",
           "ticks": "",
           "title": {
            "standoff": 15
           },
           "zerolinecolor": "white",
           "zerolinewidth": 2
          }
         }
        },
        "title": {
         "text": "B2_total",
         "xanchor": "center"
        },
        "xaxis": {
         "autorange": true,
         "range": [
          1,
          10
         ],
         "type": "linear"
        },
        "yaxis": {
         "autorange": true,
         "range": [
          0.07770825993864033,
          0.08977316173461652
         ],
         "type": "linear"
        }
       }
      },
      "image/png": "[encoded data removed]",
      "text/html": [
       "<div>\n",
       "        \n",
       "        \n",
       "            <div id=\"6e13f15b-67ce-4dba-98f6-a244bdc7b0c5\" class=\"plotly-graph-div\" style=\"height:525px; width:100%;\"></div>\n",
       "            <script type=\"text/javascript\">\n",
       "                require([\"plotly\"], function(Plotly) {\n",
       "                    window.PLOTLYENV=window.PLOTLYENV || {};\n",
       "                    \n",
       "                if (document.getElementById(\"6e13f15b-67ce-4dba-98f6-a244bdc7b0c5\")) {\n",
       "                    Plotly.newPlot(\n",
       "                        '6e13f15b-67ce-4dba-98f6-a244bdc7b0c5',\n",
       "                        [{\"name\": \"B2_total\", \"type\": \"scatter\", \"x\": [1.0, 1.09, 1.18, 1.27, 1.36, 1.45, 1.54, 1.63, 1.72, 1.81, 1.9, 1.99, 2.08, 2.17, 2.26, 2.35, 2.44, 2.53, 2.62, 2.71, 2.8, 2.89, 2.98, 3.07, 3.16, 3.25, 3.34, 3.43, 3.52, 3.61, 3.7, 3.79, 3.88, 3.97, 4.06, 4.15, 4.24, 4.33, 4.42, 4.51, 4.6, 4.69, 4.78, 4.87, 4.96, 5.05, 5.14, 5.23, 5.32, 5.41, 5.5, 5.59, 5.68, 5.77, 5.86, 5.95, 6.04, 6.13, 6.22, 6.31, 6.4, 6.49, 6.58, 6.67, 6.76, 6.85, 6.94, 7.03, 7.12, 7.21, 7.3, 7.39, 7.48, 7.57, 7.66, 7.75, 7.84, 7.93, 8.02, 8.11, 8.2, 8.29, 8.38, 8.47, 8.56, 8.65, 8.74, 8.83, 8.92, 9.01, 9.1, 9.19, 9.28, 9.37, 9.46, 9.55, 9.64, 9.73, 9.82, 9.91, 10.0], \"y\": [0.07831150502843914, 0.07915097485040044, 0.07990433060129425, 0.08058310396167385, 0.08119692306947765, 0.08175388017734045, 0.08226081972582765, 0.08272356536545566, 0.08314710004496283, 0.08353570985020109, 0.08389309967877226, 0.08422248688877647, 0.08452667760581034, 0.08480812928420965, 0.08506900230100883, 0.08531120274361224, 0.08553641808297022, 0.08574614706526555, 0.08594172487244198, 0.08612434443479197, 0.08629507446902686, 0.08645487492806814, 0.08660461019688948, 0.08674506043959207, 0.08687693138558981, 0.08700086279808857, 0.08711743582588727, 0.08722717940538684, 0.0873305758519195, 0.08742806575680816, 0.08752005228794059, 0.08760690497628569, 0.08768896305807856, 0.08776653843185268, 0.08783991828070165, 0.08790936740279996, 0.08797513028703724, 0.08803743296542338, 0.08809648466953185, 0.08815247931452702, 0.08820559683116319, 0.08825600436344758, 0.08830385734736076, 0.08834930048405529, 0.08839246861926273, 0.08843348753917853, 0.08847247469184162, 0.0885095398419327, 0.08854478566597618, 0.08857830829411016, 0.08861019780387532, 0.08864053867085211, 0.08866941018043262, 0.08869688680453613, 0.08872303854665994, 0.08874793125829102, 0.08877162692937925, 0.08879418395528914, 0.08881565738239426, 0.08883609913425607, 0.08885555822013115, 0.08887408092737648, 0.08889171099916413, 0.08890848979878166, 0.08892445645559306, 0.08893964803043167, 0.08895409960880521, 0.08896784444718406, 0.08898091407906286, 0.0889933384194468, 0.08900514586202385, 0.08901636336960313, 0.08902701655835041, 0.08903712977630306, 0.0890467261766054, 0.08905582778586846, 0.08906445556802109, 0.08907262948399122, 0.08908036854752552, 0.08908769087743171, 0.08909461374650263, 0.08910115362736187, 0.08910732623545109, 0.08911314656936, 0.08911862894868629, 0.08912378704959649, 0.0891286339382467, 0.08913318210220819, 0.08913744348003386, 0.08914142948908974, 0.08914515105176721, 0.08914861862018199, 0.08915184219945975, 0.08915483136969964, 0.08915759530669988, 0.08916014280152701, 0.08916248227899783, 0.08916462181514644, 0.08916656915373672, 0.08916833172188088, 0.08916991664481771]}],\n",
       "                        {\"template\": {\"data\": {\"bar\": [{\"error_x\": {\"color\": \"#2a3f5f\"}, \"error_y\": {\"color\": \"#2a3f5f\"}, \"marker\": {\"line\": {\"color\": \"#E5ECF6\", \"width\": 0.5}}, \"type\": \"bar\"}], \"barpolar\": [{\"marker\": {\"line\": {\"color\": \"#E5ECF6\", \"width\": 0.5}}, \"type\": \"barpolar\"}], \"carpet\": [{\"aaxis\": {\"endlinecolor\": \"#2a3f5f\", \"gridcolor\": \"white\", \"linecolor\": \"white\", \"minorgridcolor\": \"white\", \"startlinecolor\": \"#2a3f5f\"}, \"baxis\": {\"endlinecolor\": \"#2a3f5f\", \"gridcolor\": \"white\", \"linecolor\": \"white\", \"minorgridcolor\": \"white\", \"startlinecolor\": \"#2a3f5f\"}, \"type\": \"carpet\"}], \"choropleth\": [{\"colorbar\": {\"outlinewidth\": 0, \"ticks\": \"\"}, \"type\": \"choropleth\"}], \"contour\": [{\"colorbar\": {\"outlinewidth\": 0, \"ticks\": \"\"}, \"colorscale\": [[0.0, \"#0d0887\"], [0.1111111111111111, \"#46039f\"], [0.2222222222222222, \"#7201a8\"], [0.3333333333333333, \"#9c179e\"], [0.4444444444444444, \"#bd3786\"], [0.5555555555555556, \"#d8576b\"], [0.6666666666666666, \"#ed7953\"], [0.7777777777777778, \"#fb9f3a\"], [0.8888888888888888, \"#fdca26\"], [1.0, \"#f0f921\"]], \"type\": \"contour\"}], \"contourcarpet\": [{\"colorbar\": {\"outlinewidth\": 0, \"ticks\": \"\"}, \"type\": \"contourcarpet\"}], \"heatmap\": [{\"colorbar\": {\"outlinewidth\": 0, \"ticks\": \"\"}, \"colorscale\": [[0.0, \"#0d0887\"], [0.1111111111111111, \"#46039f\"], [0.2222222222222222, \"#7201a8\"], [0.3333333333333333, \"#9c179e\"], [0.4444444444444444, \"#bd3786\"], [0.5555555555555556, \"#d8576b\"], [0.6666666666666666, \"#ed7953\"], [0.7777777777777778, \"#fb9f3a\"], [0.8888888888888888, \"#fdca26\"], [1.0, \"#f0f921\"]], \"type\": \"heatmap\"}], \"heatmapgl\": [{\"colorbar\": {\"outlinewidth\": 0, \"ticks\": \"\"}, \"colorscale\": [[0.0, \"#0d0887\"], [0.1111111111111111, \"#46039f\"], [0.2222222222222222, \"#7201a8\"], [0.3333333333333333, \"#9c179e\"], [0.4444444444444444, \"#bd3786\"], [0.5555555555555556, \"#d8576b\"], [0.6666666666666666, \"#ed7953\"], [0.7777777777777778, \"#fb9f3a\"], [0.8888888888888888, \"#fdca26\"], [1.0, \"#f0f921\"]], \"type\": \"heatmapgl\"}], \"histogram\": [{\"marker\": {\"colorbar\": {\"outlinewidth\": 0, \"ticks\": \"\"}}, \"type\": \"histogram\"}], \"histogram2d\": [{\"colorbar\": {\"outlinewidth\": 0, \"ticks\": \"\"}, \"colorscale\": [[0.0, \"#0d0887\"], [0.1111111111111111, \"#46039f\"], [0.2222222222222222, \"#7201a8\"], [0.3333333333333333, \"#9c179e\"], [0.4444444444444444, \"#bd3786\"], [0.5555555555555556, \"#d8576b\"], [0.6666666666666666, \"#ed7953\"], [0.7777777777777778, \"#fb9f3a\"], [0.8888888888888888, \"#fdca26\"], [1.0, \"#f0f921\"]], \"type\": \"histogram2d\"}], \"histogram2dcontour\": [{\"colorbar\": {\"outlinewidth\": 0, \"ticks\": \"\"}, \"colorscale\": [[0.0, \"#0d0887\"], [0.1111111111111111, \"#46039f\"], [0.2222222222222222, \"#7201a8\"], [0.3333333333333333, \"#9c179e\"], [0.4444444444444444, \"#bd3786\"], [0.5555555555555556, \"#d8576b\"], [0.6666666666666666, \"#ed7953\"], [0.7777777777777778, \"#fb9f3a\"], [0.8888888888888888, \"#fdca26\"], [1.0, \"#f0f921\"]], \"type\": \"histogram2dcontour\"}], \"mesh3d\": [{\"colorbar\": {\"outlinewidth\": 0, \"ticks\": \"\"}, \"type\": \"mesh3d\"}], \"parcoords\": [{\"line\": {\"colorbar\": {\"outlinewidth\": 0, \"ticks\": \"\"}}, \"type\": \"parcoords\"}], \"pie\": [{\"automargin\": true, \"type\": \"pie\"}], \"scatter\": [{\"marker\": {\"colorbar\": {\"outlinewidth\": 0, \"ticks\": \"\"}}, \"type\": \"scatter\"}], \"scatter3d\": [{\"line\": {\"colorbar\": {\"outlinewidth\": 0, \"ticks\": \"\"}}, \"marker\": {\"colorbar\": {\"outlinewidth\": 0, \"ticks\": \"\"}}, \"type\": \"scatter3d\"}], \"scattercarpet\": [{\"marker\": {\"colorbar\": {\"outlinewidth\": 0, \"ticks\": \"\"}}, \"type\": \"scattercarpet\"}], \"scattergeo\": [{\"marker\": {\"colorbar\": {\"outlinewidth\": 0, \"ticks\": \"\"}}, \"type\": \"scattergeo\"}], \"scattergl\": [{\"marker\": {\"colorbar\": {\"outlinewidth\": 0, \"ticks\": \"\"}}, \"type\": \"scattergl\"}], \"scattermapbox\": [{\"marker\": {\"colorbar\": {\"outlinewidth\": 0, \"ticks\": \"\"}}, \"type\": \"scattermapbox\"}], \"scatterpolar\": [{\"marker\": {\"colorbar\": {\"outlinewidth\": 0, \"ticks\": \"\"}}, \"type\": \"scatterpolar\"}], \"scatterpolargl\": [{\"marker\": {\"colorbar\": {\"outlinewidth\": 0, \"ticks\": \"\"}}, \"type\": \"scatterpolargl\"}], \"scatterternary\": [{\"marker\": {\"colorbar\": {\"outlinewidth\": 0, \"ticks\": \"\"}}, \"type\": \"scatterternary\"}], \"surface\": [{\"colorbar\": {\"outlinewidth\": 0, \"ticks\": \"\"}, \"colorscale\": [[0.0, \"#0d0887\"], [0.1111111111111111, \"#46039f\"], [0.2222222222222222, \"#7201a8\"], [0.3333333333333333, \"#9c179e\"], [0.4444444444444444, \"#bd3786\"], [0.5555555555555556, \"#d8576b\"], [0.6666666666666666, \"#ed7953\"], [0.7777777777777778, \"#fb9f3a\"], [0.8888888888888888, \"#fdca26\"], [1.0, \"#f0f921\"]], \"type\": \"surface\"}], \"table\": [{\"cells\": {\"fill\": {\"color\": \"#EBF0F8\"}, \"line\": {\"color\": \"white\"}}, \"header\": {\"fill\": {\"color\": \"#C8D4E3\"}, \"line\": {\"color\": \"white\"}}, \"type\": \"table\"}]}, \"layout\": {\"annotationdefaults\": {\"arrowcolor\": \"#2a3f5f\", \"arrowhead\": 0, \"arrowwidth\": 1}, \"coloraxis\": {\"colorbar\": {\"outlinewidth\": 0, \"ticks\": \"\"}}, \"colorscale\": {\"diverging\": [[0, \"#8e0152\"], [0.1, \"#c51b7d\"], [0.2, \"#de77ae\"], [0.3, \"#f1b6da\"], [0.4, \"#fde0ef\"], [0.5, \"#f7f7f7\"], [0.6, \"#e6f5d0\"], [0.7, \"#b8e186\"], [0.8, \"#7fbc41\"], [0.9, \"#4d9221\"], [1, \"#276419\"]], \"sequential\": [[0.0, \"#0d0887\"], [0.1111111111111111, \"#46039f\"], [0.2222222222222222, \"#7201a8\"], [0.3333333333333333, \"#9c179e\"], [0.4444444444444444, \"#bd3786\"], [0.5555555555555556, \"#d8576b\"], [0.6666666666666666, \"#ed7953\"], [0.7777777777777778, \"#fb9f3a\"], [0.8888888888888888, \"#fdca26\"], [1.0, \"#f0f921\"]], \"sequentialminus\": [[0.0, \"#0d0887\"], [0.1111111111111111, \"#46039f\"], [0.2222222222222222, \"#7201a8\"], [0.3333333333333333, \"#9c179e\"], [0.4444444444444444, \"#bd3786\"], [0.5555555555555556, \"#d8576b\"], [0.6666666666666666, \"#ed7953\"], [0.7777777777777778, \"#fb9f3a\"], [0.8888888888888888, \"#fdca26\"], [1.0, \"#f0f921\"]]}, \"colorway\": [\"#636efa\", \"#EF553B\", \"#00cc96\", \"#ab63fa\", \"#FFA15A\", \"#19d3f3\", \"#FF6692\", \"#B6E880\", \"#FF97FF\", \"#FECB52\"], \"font\": {\"color\": \"#2a3f5f\"}, \"geo\": {\"bgcolor\": \"white\", \"lakecolor\": \"white\", \"landcolor\": \"#E5ECF6\", \"showlakes\": true, \"showland\": true, \"subunitcolor\": \"white\"}, \"hoverlabel\": {\"align\": \"left\"}, \"hovermode\": \"closest\", \"mapbox\": {\"style\": \"light\"}, \"paper_bgcolor\": \"white\", \"plot_bgcolor\": \"#E5ECF6\", \"polar\": {\"angularaxis\": {\"gridcolor\": \"white\", \"linecolor\": \"white\", \"ticks\": \"\"}, \"bgcolor\": \"#E5ECF6\", \"radialaxis\": {\"gridcolor\": \"white\", \"linecolor\": \"white\", \"ticks\": \"\"}}, \"scene\": {\"xaxis\": {\"backgroundcolor\": \"#E5ECF6\", \"gridcolor\": \"white\", \"gridwidth\": 2, \"linecolor\": \"white\", \"showbackground\": true, \"ticks\": \"\", \"zerolinecolor\": \"white\"}, \"yaxis\": {\"backgroundcolor\": \"#E5ECF6\", \"gridcolor\": \"white\", \"gridwidth\": 2, \"linecolor\": \"white\", \"showbackground\": true, \"ticks\": \"\", \"zerolinecolor\": \"white\"}, \"zaxis\": {\"backgroundcolor\": \"#E5ECF6\", \"gridcolor\": \"white\", \"gridwidth\": 2, \"linecolor\": \"white\", \"showbackground\": true, \"ticks\": \"\", \"zerolinecolor\": \"white\"}}, \"shapedefaults\": {\"line\": {\"color\": \"#2a3f5f\"}}, \"ternary\": {\"aaxis\": {\"gridcolor\": \"white\", \"linecolor\": \"white\", \"ticks\": \"\"}, \"baxis\": {\"gridcolor\": \"white\", \"linecolor\": \"white\", \"ticks\": \"\"}, \"bgcolor\": \"#E5ECF6\", \"caxis\": {\"gridcolor\": \"white\", \"linecolor\": \"white\", \"ticks\": \"\"}}, \"title\": {\"x\": 0.05}, \"xaxis\": {\"automargin\": true, \"gridcolor\": \"white\", \"linecolor\": \"white\", \"ticks\": \"\", \"title\": {\"standoff\": 15}, \"zerolinecolor\": \"white\", \"zerolinewidth\": 2}, \"yaxis\": {\"automargin\": true, \"gridcolor\": \"white\", \"linecolor\": \"white\", \"ticks\": \"\", \"title\": {\"standoff\": 15}, \"zerolinecolor\": \"white\", \"zerolinewidth\": 2}}}, \"title\": {\"text\": \"B2_total\", \"xanchor\": \"center\"}},\n",
       "                        {\"responsive\": true}\n",
       "                    ).then(function(){\n",
       "                            \n",
       "var gd = document.getElementById('6e13f15b-67ce-4dba-98f6-a244bdc7b0c5');\n",
       "var x = new MutationObserver(function (mutations, observer) {{\n",
       "        var display = window.getComputedStyle(gd).display;\n",
       "        if (!display || display === 'none') {{\n",
       "            console.log([gd, 'removed!']);\n",
       "            Plotly.purge(gd);\n",
       "            observer.disconnect();\n",
       "        }}\n",
       "}});\n",
       "\n",
       "// Listen for the removal of the full notebook cells\n",
       "var notebookContainer = gd.closest('#notebook-container');\n",
       "if (notebookContainer) {{\n",
       "    x.observe(notebookContainer, {childList: true});\n",
       "}}\n",
       "\n",
       "// Listen for the clearing of the current output cell\n",
       "var outputEl = gd.closest('.output');\n",
       "if (outputEl) {{\n",
       "    x.observe(outputEl, {childList: true});\n",
       "}}\n",
       "\n",
       "                        })\n",
       "                };\n",
       "                });\n",
       "            </script>\n",
       "        </div>"
      ]
     },
     "metadata": {},
     "output_type": "display_data"
    }
   ],
   "source": [
    "sol.plot()\n",
    "sol['B2_total'].plot()"
   ]
  }
 ],
 "metadata": {
  "kernelspec": {
   "display_name": "Python 3",
   "language": "python",
   "name": "python3"
  },
  "language_info": {
   "codemirror_mode": {
    "name": "ipython",
    "version": 3
   },
   "file_extension": ".py",
   "mimetype": "text/x-python",
   "name": "python",
   "nbconvert_exporter": "python",
   "pygments_lexer": "ipython3",
   "version": "3.7.4"
  }
 },
 "nbformat": 4,
 "nbformat_minor": 4
}
